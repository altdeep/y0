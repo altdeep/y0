{
 "cells": [
  {
   "cell_type": "markdown",
   "metadata": {
    "toc": true
   },
   "source": [
    "<h1>Table of Contents<span class=\"tocSkip\"></span></h1>\n",
    "<div class=\"toc\"><ul class=\"toc-item\"><li><span><a href=\"#The-Do-calculus\" data-toc-modified-id=\"The-Do-calculus-1\"><span class=\"toc-item-num\">1&nbsp;&nbsp;</span>The Do-calculus</a></span><ul class=\"toc-item\"><li><span><a href=\"#Rule-1:-Ignoring-observations\" data-toc-modified-id=\"Rule-1:-Ignoring-observations-1.1\"><span class=\"toc-item-num\">1.1&nbsp;&nbsp;</span>Rule 1: Ignoring observations</a></span></li><li><span><a href=\"#Rule-2:-Action/Observation-Change\" data-toc-modified-id=\"Rule-2:-Action/Observation-Change-1.2\"><span class=\"toc-item-num\">1.2&nbsp;&nbsp;</span>Rule 2: Action/Observation Change</a></span></li><li><span><a href=\"#Rule-3:-Ignoring-actions\" data-toc-modified-id=\"Rule-3:-Ignoring-actions-1.3\"><span class=\"toc-item-num\">1.3&nbsp;&nbsp;</span>Rule 3: Ignoring actions</a></span></li></ul></li><li><span><a href=\"#Concepts-required-to-understand-ID-algorithm\" data-toc-modified-id=\"Concepts-required-to-understand-ID-algorithm-2\"><span class=\"toc-item-num\">2&nbsp;&nbsp;</span>Concepts required to understand ID algorithm</a></span><ul class=\"toc-item\"><li><span><a href=\"#Theorem-2:-The-bow-arc-is-not-identifiable.\" data-toc-modified-id=\"Theorem-2:-The-bow-arc-is-not-identifiable.-2.1\"><span class=\"toc-item-num\">2.1&nbsp;&nbsp;</span>Theorem 2: The bow arc is not identifiable.</a></span></li><li><span><a href=\"#Trees-point-toward-the-root!\" data-toc-modified-id=\"Trees-point-toward-the-root!-2.2\"><span class=\"toc-item-num\">2.2&nbsp;&nbsp;</span>Trees point toward the root!</a></span></li><li><span><a href=\"#$An(-Y-)$-includes-$Y$\" data-toc-modified-id=\"$An(-Y-)$-includes-$Y$-2.3\"><span class=\"toc-item-num\">2.3&nbsp;&nbsp;</span>$An( Y )$ includes $Y$</a></span></li><li><span><a href=\"#C-component\" data-toc-modified-id=\"C-component-2.4\"><span class=\"toc-item-num\">2.4&nbsp;&nbsp;</span>C-component</a></span></li><li><span><a href=\"#Definition-4:-(C-tree)\" data-toc-modified-id=\"Definition-4:-(C-tree)-2.5\"><span class=\"toc-item-num\">2.5&nbsp;&nbsp;</span>Definition 4: (C-tree)</a></span></li><li><span><a href=\"#Theorem-3\" data-toc-modified-id=\"Theorem-3-2.6\"><span class=\"toc-item-num\">2.6&nbsp;&nbsp;</span>Theorem 3</a></span></li><li><span><a href=\"#Definition-5-(C-forest):\" data-toc-modified-id=\"Definition-5-(C-forest):-2.7\"><span class=\"toc-item-num\">2.7&nbsp;&nbsp;</span>Definition 5 (C-forest):</a></span></li><li><span><a href=\"#Definition-6-(hedge):\" data-toc-modified-id=\"Definition-6-(hedge):-2.8\"><span class=\"toc-item-num\">2.8&nbsp;&nbsp;</span>Definition 6 (hedge):</a></span></li><li><span><a href=\"#Theorem-17\" data-toc-modified-id=\"Theorem-17-2.9\"><span class=\"toc-item-num\">2.9&nbsp;&nbsp;</span>Theorem 17</a></span></li></ul></li><li><span><a href=\"#A-complete-identification-algorithm.\" data-toc-modified-id=\"A-complete-identification-algorithm.-3\"><span class=\"toc-item-num\">3&nbsp;&nbsp;</span>A complete identification algorithm.</a></span><ul class=\"toc-item\"><li><span><a href=\"#ID-algorithm\" data-toc-modified-id=\"ID-algorithm-3.1\"><span class=\"toc-item-num\">3.1&nbsp;&nbsp;</span>ID algorithm</a></span><ul class=\"toc-item\"><li><span><a href=\"#Line-1\" data-toc-modified-id=\"Line-1-3.1.1\"><span class=\"toc-item-num\">3.1.1&nbsp;&nbsp;</span>Line 1</a></span></li><li><span><a href=\"#Line-2\" data-toc-modified-id=\"Line-2-3.1.2\"><span class=\"toc-item-num\">3.1.2&nbsp;&nbsp;</span>Line 2</a></span></li><li><span><a href=\"#Line-3\" data-toc-modified-id=\"Line-3-3.1.3\"><span class=\"toc-item-num\">3.1.3&nbsp;&nbsp;</span>Line 3</a></span></li><li><span><a href=\"#Line-4\" data-toc-modified-id=\"Line-4-3.1.4\"><span class=\"toc-item-num\">3.1.4&nbsp;&nbsp;</span>Line 4</a></span></li><li><span><a href=\"#Line-5\" data-toc-modified-id=\"Line-5-3.1.5\"><span class=\"toc-item-num\">3.1.5&nbsp;&nbsp;</span>Line 5</a></span></li><li><span><a href=\"#Line-6\" data-toc-modified-id=\"Line-6-3.1.6\"><span class=\"toc-item-num\">3.1.6&nbsp;&nbsp;</span>Line 6</a></span></li><li><span><a href=\"#Line-7\" data-toc-modified-id=\"Line-7-3.1.7\"><span class=\"toc-item-num\">3.1.7&nbsp;&nbsp;</span>Line 7</a></span></li></ul></li><li><span><a href=\"#Example\" data-toc-modified-id=\"Example-3.2\"><span class=\"toc-item-num\">3.2&nbsp;&nbsp;</span>Example</a></span><ul class=\"toc-item\"><li><span><a href=\"#Identify-$P_x(y_1,y_2)$-from-$P(x,w_1,w_2,y_1,y_2)$\" data-toc-modified-id=\"Identify-$P_x(y_1,y_2)$-from-$P(x,w_1,w_2,y_1,y_2)$-3.2.1\"><span class=\"toc-item-num\">3.2.1&nbsp;&nbsp;</span>Identify $P_x(y_1,y_2)$ from $P(x,w_1,w_2,y_1,y_2)$</a></span></li><li><span><a href=\"#Identify-$P_{x,w}(y_1,-y_2-)$-from-$P(x,w_1,w_2,y_1,y_2)$.\" data-toc-modified-id=\"Identify-$P_{x,w}(y_1,-y_2-)$-from-$P(x,w_1,w_2,y_1,y_2)$.-3.2.2\"><span class=\"toc-item-num\">3.2.2&nbsp;&nbsp;</span>Identify $P_{x,w}(y_1, y_2 )$ from $P(x,w_1,w_2,y_1,y_2)$.</a></span></li><li><span><a href=\"#Identify-$P_{w_1,x,y_1,-y_2}(w_2)$--from-$P(x,w_1,w_2,y_1,y_2)$\" data-toc-modified-id=\"Identify-$P_{w_1,x,y_1,-y_2}(w_2)$--from-$P(x,w_1,w_2,y_1,y_2)$-3.2.3\"><span class=\"toc-item-num\">3.2.3&nbsp;&nbsp;</span>Identify $P_{w_1,x,y_1, y_2}(w_2)$  from $P(x,w_1,w_2,y_1,y_2)$</a></span></li><li><span><a href=\"#Identify-$P_{x,w_1,-w_2,-y_1}-(y_2-)$-from-$P(x,w_1,w_2,y_1,y_2)$\" data-toc-modified-id=\"Identify-$P_{x,w_1,-w_2,-y_1}-(y_2-)$-from-$P(x,w_1,w_2,y_1,y_2)$-3.2.4\"><span class=\"toc-item-num\">3.2.4&nbsp;&nbsp;</span>Identify $P_{x,w_1, w_2, y_1} (y_2 )$ from $P(x,w_1,w_2,y_1,y_2)$</a></span></li><li><span><a href=\"#Identify-$P_{w_2,y_2,-x,-w_1}(y_1)$-from-$P(x,w_1,w_2,y_1,y_2)$\" data-toc-modified-id=\"Identify-$P_{w_2,y_2,-x,-w_1}(y_1)$-from-$P(x,w_1,w_2,y_1,y_2)$-3.2.5\"><span class=\"toc-item-num\">3.2.5&nbsp;&nbsp;</span>Identify $P_{w_2,y_2, x, w_1}(y_1)$ from $P(x,w_1,w_2,y_1,y_2)$</a></span></li></ul></li></ul></li><li><span><a href=\"#IDC-algorithm\" data-toc-modified-id=\"IDC-algorithm-4\"><span class=\"toc-item-num\">4&nbsp;&nbsp;</span>IDC algorithm</a></span></li><li><span><a href=\"#ID*-algorithm\" data-toc-modified-id=\"ID*-algorithm-5\"><span class=\"toc-item-num\">5&nbsp;&nbsp;</span>ID* algorithm</a></span></li></ul></div>"
   ]
  },
  {
   "cell_type": "code",
   "execution_count": 1,
   "metadata": {},
   "outputs": [],
   "source": [
    "from scipy.stats import bernoulli\n",
    "from y0.examples import complete_hierarchy_figure_3a_example as figure_3a\n",
    "from y0.algorithm.identify import Identification, identify\n",
    "from y0.dsl import P, Sum, X, Y1, Y2, W1, W2, Product, Variable\n",
    "from y0.dsl import _get_treatment_variables, _get_outcome_variables\n",
    "import matplotlib.pyplot as plt\n",
    "from IPython.display import Markdown, Latex\n",
    "from y0.algorithm.identify.id_std import (\n",
    "    line_1,\n",
    "    line_2,\n",
    "    line_3,\n",
    "    line_4,\n",
    "    line_6,\n",
    "    line_7,\n",
    ")"
   ]
  },
  {
   "cell_type": "markdown",
   "metadata": {},
   "source": [
    "# The Do-calculus\n"
   ]
  },
  {
   "cell_type": "markdown",
   "metadata": {},
   "source": [
    "\n",
    "Representing an interventional probability using 3 different notations:\n",
    "\n",
    "* **counterfactual notation**: An intervention is represented as a subscript on the outcome variables. Note that this is strictly more expressive, as it can represent probabilistic expressions over multiple worlds, such as $P(y_x | x',y')$\n",
    "* **do-notation**: an intervention is on the rhs of a conditional, wrapped in a $do()$ function: $P(y|do(x))$ \n",
    "* and **interventional distribution notation**: An intervention is represented as a subscript on the Probabilistic expression: $P_x(y)$ \n",
    "\n",
    "$$P(y_x) = P(y|do(x)) = P_x(y)$$\n"
   ]
  },
  {
   "cell_type": "markdown",
   "metadata": {},
   "source": [
    "## Rule 1: Ignoring observations\n",
    "\n",
    "\n",
    "$$\\newcommand\\ci{\\perp\\!\\!\\!\\perp}$$\n",
    "$$\\newcommand{\\ubar}[1]{\\underset{\\bar{}}{#1}}\n",
    "\\newcommand{\\obar}[1]{\\overset{\\bar{}}{#1}}$$\n",
    "\n",
    "$$P(y|do(x),{\\color{blue}z},w) = P(y|do(x),w)\\text{ if } ( Y\\ci Z|X,W )_{G_{\\bar{X}}}$$\n",
    "\n",
    "or in the interventional distribution notation:\n",
    "\n",
    "$$P_x(y|{\\color{blue}z},w) = P_x(y|w)\\text{ if } ( Y\\ci Z|X,W )_{G_{\\bar{X}}}$$"
   ]
  },
  {
   "cell_type": "markdown",
   "metadata": {},
   "source": [
    "## Rule 2: Action/Observation Change\n",
    "\n",
    "$$P(y|do(x), \\color{red}{do(z)}, w) = P(y|do(x),\\color{red} z, w)\\text{ if } (Y\\ci Z|X,W)_{G_{\\bar{X},\\ubar{Z}}}$$\n",
    "or in interventional distribution notation:\n",
    "\n",
    "$$P_{x,\\color{red}z}(y|w) = P_x(y|\\color{red}z,w) \\text{ if } (Y\\ci Z|X,W)_{G_{\\bar{X},\\ubar{Z}}}$$\n",
    "\n",
    "Where $G_{\\bar{X},\\ubar{Z}}$  is taken to mean the graph obtained from $G$ by removing arrows pointing to $X$ and arrows leaving $Z$. "
   ]
  },
  {
   "cell_type": "markdown",
   "metadata": {},
   "source": [
    "## Rule 3: Ignoring actions\n",
    "\n",
    "$$P(y|do(x),\\color{green}{do(z)},w) = P(y|do(x),w)\\text{ if }(Y\\ci Z|X,W)_{G_{\\bar{X}\\bar{Z(W)}}}$$\n",
    "\n",
    "or in interventional distribution notation:\n",
    "$$P_{x,\\color{green}{z}}(y|w) = P_x(y|w)\\text{ if }(Y\\ci Z|X,W)_{G_{\\bar{X}\\bar{Z(W)}}}$$\n",
    "\n",
    "where $Z(W)$ is the set of $Z$ nodes not ancestors of any $W$-node in $G_{\\bar{X}}$.\n",
    "\n"
   ]
  },
  {
   "cell_type": "markdown",
   "metadata": {},
   "source": [
    "# Concepts required to understand ID algorithm"
   ]
  },
  {
   "cell_type": "markdown",
   "metadata": {},
   "source": [
    "## Theorem 2: The bow arc is not identifiable.\n",
    "\n",
    "We construct two causal models $M^1$ and $M^2$ such that $P^1(X, Y)=P^2(X, Y)$ ,and $P^1_x(Y)\\ne P^2_x(Y)$.The two models agree on the following: all 3 variables are boolean, $U$ is a fair coin, and $f_X(u)=u$.Let $⊕$ denote the exclusive or (XOR) function. Then the value of $Y$ is determined by the function $u⊕x$ in $M^1$, while $Y$ is set to $0$ in $M^2$. Then $P^1(Y=0)=P^2(Y=0)=1$, $P^1(X=0)=P^2(X=0)=0.5$. Therefore, $P^1(X, Y)=P^2(X, Y)$, while $P^2_x(Y=0)=1\\ne P^1_x(Y=0)=0.5$. Note that while $P$ is non-positive, it is straightforward to modify the proof for the positive case by letting $f_Y$ functions in both models return 1 half the time, and the values outlined above half the time.\n",
    "\n"
   ]
  },
  {
   "cell_type": "code",
   "execution_count": 2,
   "metadata": {},
   "outputs": [
    {
     "data": {
      "text/markdown": [
       "\n",
       "$$P^1(Y=0) = 1.0 = P^2(Y=0) = 1.0$$\n",
       "$$P^1(X=0) = 0.5043 \\approx P^2(X=0) = 0.5021$$\n",
       "$$P_x^1(Y=0) = 0.4989 \\neq P^2_x(Y=0) = 1.0$$\n"
      ],
      "text/plain": [
       "<IPython.core.display.Markdown object>"
      ]
     },
     "metadata": {},
     "output_type": "display_data"
    }
   ],
   "source": [
    "def M1(u):\n",
    "    \"\"\"The value of Y is determined by u XOR x\"\"\"\n",
    "    x = u\n",
    "    y = x ^ u\n",
    "    return x, y\n",
    "\n",
    "\n",
    "def M2(u):\n",
    "    \"\"\"The value of Y is always 0\"\"\"\n",
    "    x = u\n",
    "    y = 0\n",
    "    return x, y\n",
    "\n",
    "\n",
    "def M1x(u):\n",
    "    \"\"\"X is always 0 but Y is determined by u XOR x\"\"\"\n",
    "    x = 0\n",
    "    y = x ^ u\n",
    "    return x, y\n",
    "\n",
    "\n",
    "def M2x(u):\n",
    "    \"\"\"X is always 0 and Y is always 0\"\"\"\n",
    "    x = 0\n",
    "    y = 0\n",
    "    return x, y\n",
    "\n",
    "\n",
    "def Prob(model, X=None, Y=None, p=0.5, size=10000):\n",
    "    u = bernoulli.rvs(p, size=size)\n",
    "    joint = [model(u_i) for u_i in u]\n",
    "    count = 0\n",
    "    for x, y in joint:\n",
    "        if X is not None and Y is not None and X == x and Y == y:\n",
    "            count += 1\n",
    "        elif X is not None and X == x:\n",
    "            count += 1\n",
    "        elif Y is not None and Y == y:\n",
    "            count += 1\n",
    "\n",
    "    return count / float(size)\n",
    "\n",
    "\n",
    "display(\n",
    "    Markdown(\n",
    "        f\"\"\"\n",
    "$$P^1(Y=0) = {Prob(M1, Y=0)} = P^2(Y=0) = {Prob(M2, Y=0)}$$\n",
    "$$P^1(X=0) = {Prob(M1, X=0)} \\\\approx P^2(X=0) = {Prob(M2, X=0)}$$\n",
    "$$P_x^1(Y=0) = {Prob(M1x, Y=0)} \\\\neq P^2_x(Y=0) = {Prob(M2x, Y=0)}$$\n",
    "\"\"\"\n",
    "    )\n",
    ")"
   ]
  },
  {
   "cell_type": "markdown",
   "metadata": {},
   "source": [
    "## Trees point toward the root!\n",
    "\n",
    "In computer science, the root of a tree has no parents, and the leaves have no children. And all children have only one parent.\n",
    "\n",
    "In the Pearlian world, the root of a tree has no children, and all nodes have at most one child. The issue is that the arrows point in the opposite direction.  \n",
    "\n"
   ]
  },
  {
   "cell_type": "markdown",
   "metadata": {},
   "source": [
    "## $An( Y )$ includes $Y$\n",
    "\n",
    "From \"[A General Identification Condition for Causal Effects](https://ftp.cs.ucla.edu/pub/stat_ser/R290-A.pdf)\" by Tian and Pearl 2002:\n",
    "\n",
    "Let  $An( S )$ denote  the  union  of  a  set $S$ and  the  set  of ancestors of the variables in $S$, and let $G_{An( S )}$ denote the subgraph of $G$ composed only of variables in $An( S )$."
   ]
  },
  {
   "cell_type": "markdown",
   "metadata": {},
   "source": [
    "## C-component\n",
    "Let $G$ be a semi-Markovian graph such that a subset of its bidirected arcs forms a spanning tree over all vertices in $G.$Then $G$ is a C-component(confounded component).\n",
    "\n",
    "Let a path composed entirely of bidirected\n",
    "edges be called a bidirected path. The set of variables $V$ can\n",
    "be partitioned into disjoint groups by assigning two variables\n",
    "to the same group if and only if they are connected by a\n",
    "bidirected path. \n",
    "\n",
    "\n",
    "\n",
    "![Causal graphs admitting identifiable effect $P(y|d o(\\mathbf{x} ))$](images/Figure-2.png) \n",
    "\n",
    "\n",
    "\n",
    "How many C-components does each causal graph contain?"
   ]
  },
  {
   "cell_type": "markdown",
   "metadata": {},
   "source": [
    "## Definition 4: (C-tree)\n",
    "\n",
    "Let $G$ be a semi-Markovian graph such that $G$ is a C-component, all observable nodes have at most one child, and there is a node $Y$ such that $An(Y)_G= G$.Then $G$ is a $Y$-rooted C-tree (confounded tree).\n",
    "\n"
   ]
  },
  {
   "cell_type": "markdown",
   "metadata": {},
   "source": [
    "## Theorem 3\n",
    "\n",
    "Let $G$ be a $Y$-rooted C-tree. Then the effect of any set of nodes $\\mathbf{X}$ in $G$ on $Y$ is not identifiable if $Y\\not\\in \\mathbf{X}$.\n",
    "\n",
    "![Causal graphs where $P(y|do(x)$ is not identifiable](images/Figure-1.png)\n"
   ]
  },
  {
   "cell_type": "markdown",
   "metadata": {},
   "source": [
    "## Definition 5 (C-forest):\n",
    "\n",
    "Let $G$ be a semi-Markovian graph, where $\\mathbf{Y}$ is the root set. Then $G$ is a $\\mathbf{Y}$-rooted C-forest(confounded forest) if $G$ is a C-component, and all observable nodes have at most one child.\n",
    "\n",
    "![A graph hedge-less for $P(y|do(x))$ and a graph containing a hedge for $P(y|do(x))$](images/Figure-3.png)\n",
    "\n",
    "Note that Figure  3b is not a C-forest because $W_1$ has more than one child."
   ]
  },
  {
   "cell_type": "markdown",
   "metadata": {},
   "source": [
    "## Definition 6 (hedge):\n",
    "\n",
    "Let $\\mathbf{X},\\mathbf{Y}$ be disjoint sets of variables in $G$. Let $F$, $F'$ be $\\mathbf{R}$-rooted C-forests such that $F'$ is a subgraph of $F$, $\\mathbf{X}$ only occur in $F$, and $\\mathbf{R}\\in An(\\mathbf{Y})_{G_{\\bar{\\mathbf{ X}}}}$  Then $F$ and $F'$ form a hedge for $P(\\mathbf{y}|do(\\mathbf{x}))$\n",
    "\n",
    "\n",
    "\n",
    "The mental picture for a hedge is as follows. We start with original graph $G$\n",
    "\n",
    "![new branch](images/Figure-3b.png)\n",
    "\n",
    "Then we trim the graph by $do(\\mathbf{x})$ so that incoming edges to $\\mathbf{X}$ are removed.  This is\n",
    "the C-forest $F$.\n",
    "\n",
    "\n",
    "![trim the hedge](images/Figure-3b-F.png)\n",
    "\n",
    "Finally, we prune $\\mathbf{X}$ entirely, leaving the C-forest $F'$.\n",
    "\n",
    "![C-forest F'](images/Figure-3b-F-prime.png)\n",
    "\n",
    "It's easy to check that every graph in Fig. 1 contains a pair of C-forests that form a hedge for $P_x(Y)$.\n",
    "\n",
    "\n",
    "Note that Figure 3a does not contain a hedge because $W_1$ is a root in the C-forests $F$ and $F'$ that is not an ancestor of $Y_1$ or $Y_2$.\n",
    "\n",
    "![Figure 3a F](images/Figure-3a-F.png)\n",
    "\n",
    "![Figure 3a F'](images/Figure-3a-F-prime.png)\n",
    "\n",
    "In fact, if $W_1$ was an outcome variable, then it would form a hedge and $P(y_1, y_2, w_1 | do(x))$ would not be identifiable."
   ]
  },
  {
   "cell_type": "markdown",
   "metadata": {},
   "source": [
    "## Theorem 17 \n",
    "\n",
    "Let $F, F'$ be subgraphs of $G$ which form a hedge for $P(\\mathbf{y}|do(x))$. Then $P(\\mathbf{v}), G \\not\\models_{id} P(\\mathbf{y}|do(\\mathbf{x}))$. \n",
    "\n",
    "![Causal graphs admitting identifiable effect $P(y|do(x))$](images/Figure-2.png)"
   ]
  },
  {
   "cell_type": "markdown",
   "metadata": {},
   "source": [
    "# A complete identification algorithm. \n",
    "\n",
    "## ID algorithm\n",
    "\n",
    "$\\text{function }\\mathbf{ID}\\left(\\mathbf y, \\mathbf x, P, G\\right) \\\\ \\text{INPUT: } \\mathbf{x,y}\\text{ value assignments, $P$ a probability distribution, $G$ a causal diagram}. \\\\  \\text{OUTPUT:  Expression for $P_{\\mathbf x}(\\mathbf y)$ in terms of $P$ or $\\mathbf{FAIL}(F, F')$} $\n",
    "\n",
    "### Line 1\n",
    "1. $\\text{if }{\\mathbf x} =\\emptyset \\text{ return }\\sum_{\\mathbf v - \\mathbf y}P({\\mathbf v})$. &nbsp;&nbsp;&nbsp; \n",
    "\n",
    " If no action has been taken, the effect on $\\mathbf Y$ is just the marginal of the observational distribution $P(\\mathbf v)$ on $\\mathbf Y$. \n",
    " \n",
    "### Line 2 \n",
    "2. $\\text{if }\\mathbf V - An(\\mathbf Y)_G \\neq \\emptyset \\\\  \\text{ return } \\mathbf{ ID}\\left(\\mathbf y, \\mathbf x\\cap An(\\mathbf Y)_G, \\sum_{\\mathbf V - An(Y)_G}P, G_{An(\\mathbf Y)}\\right)$\n",
    "\n",
    " If we are interested in the effect on $\\mathbf Y$, it is sufficient to restrict our attention on the parts of the model ancestral to $\\mathbf Y$.\n",
    " \n",
    "### Line 3\n",
    "3. $\\text{let }\\mathbf W = (\\mathbf V - X) - An(\\mathbf Y)_{G_{\\bar{\\mathbf X}}}. \\\\ \\text{if } \\mathbf W \\neq \\emptyset, \\text{ return } \\mathbf{ID}\\left(\\mathbf y, \\mathbf x\\cup \\mathbf w, P, G\\right)$\n",
    "\n",
    " Forces an action on any node where such an action would have no effect on $\\mathbf Y$—assuming we already acted on $\\mathbf X$. Since actions remove incoming arrows, we can view line 3 as simplifying the causal graph we consider by removing certain arcs from the graph, without affecting the overall answer.\n",
    " \n",
    "### Line 4\n",
    "4. $\\text{if }C(G-\\mathbf X) = \\{S_1,\\ldots S_k\\} \\\\ \\text{ return }\\sum_{\\mathbf v - (\\mathbf y \\cup \\mathbf x)}\\prod_i\\mathbf{ID}\\left(s_i, \\mathbf v - s_i, P, G\\right) \\\\ \\text{if }C(G -\\mathbf X) = \\{S\\}$\n",
    "\n",
    "The key line of the algorithm, it decomposes the problem into a set of smaller problems using the key property of *c-component factorization* of causal models. If the entire graph is a single C-component already, further problem decomposition is impossible, and we must provide base cases. $\\mathbf{ID}$ has three base cases. \n",
    "\n",
    "### Line 5\n",
    "5. &nbsp; &nbsp;&nbsp;$\\text{       if }C(G) = \\{G\\},\\\\  \\text{ throw }\\mathbf{FAIL}\\left(G,G\\cap S\\right)$\n",
    "\n",
    "Fails because it finds two C-components, the graph $G$ itself, and a subgraph $S$ that does not contain any $\\mathbf X$ nodes. But that is exactly one of the properties of C-forests that make up a hedge. In fact, it turns out that it is always possible to recover a hedge from these two c-components.  **FAIL** propagates through recursive calls like an exception, and returns the hedge which witnesses non-identifiability\n",
    "\n",
    "\n",
    "### Line 6\n",
    "6. &nbsp; &nbsp;&nbsp;$\\text{ if }S\\in C(G) \\\\ \\text{ return }\\sum_{S - \\mathbf y}\\prod_{\\{i|V_i\\in S\\}}P\\left(v_i|v_\\pi^{(i-1)}\\right)$\n",
    "\n",
    "Asserts that if there are no bidirected arcs from X to the other nodes in the current subproblem under consideration, then we can replace acting on X by conditioning, and thus solve the subproblem.  $V_\\pi^{(i-1)}$ is the set of nodes preceding $V_i$ in some topological ordering $\\pi$ in $G$.\n",
    "\n",
    "### Line 7\n",
    "7. &nbsp; &nbsp;&nbsp;$\\text{ if }(\\exists S')S\\subset S'\\in C(G) \\\\ \\text{ return }\\mathbf{ID}\\left(\\mathbf y, \\mathbf x\\cap S', \\prod_{\\{i|V_i\\in S'\\}}P(V_i|V_\\pi^{(i-1)}\\cap S', V_\\pi^{(i-1)} - S'), G_{S'}\\right)$.\n",
    "\n",
    "The most complex case where $\\mathbf X$ is partitioned into two sets, $\\mathbf W$ which contain bidirected arcs into other nodes in the subproblem, and $\\mathbf Z$ which do not. In this situation, identifying $P(\\mathbf y|do(\\mathbf x))$ from $P(v)$ is equivalent to identifying $P(\\mathbf y|do(\\mathbf w))$ from $P(\\mathbf V|do(\\mathbf z))$, since $P(\\mathbf y|do(\\mathbf x)) = P(\\mathbf y|do(\\mathbf w), do(\\mathbf z))$. But the term $P(\\mathbf V|do(\\mathbf z))$ is identifiable using the previous base case, so we can consider the subproblem of identifying $P(\\mathbf y|do(\\mathbf w))$."
   ]
  },
  {
   "cell_type": "markdown",
   "metadata": {},
   "source": [
    "## Example\n",
    "We give an example of the operation of the algorithm by identifying $P_x (y_1, y_2 )$ from $P(v)$ in the graph shown in in Fig. 3 (a). \n",
    "\n"
   ]
  },
  {
   "cell_type": "code",
   "execution_count": 3,
   "metadata": {},
   "outputs": [
    {
     "data": {
      "image/png": "[encoded data removed]",
      "text/plain": [
       "<Figure size 432x288 with 1 Axes>"
      ]
     },
     "metadata": {},
     "output_type": "display_data"
    }
   ],
   "source": [
    "estimand = P(X, W1, W2, Y1, Y2)\n",
    "query = P(Y1 @ X, Y2 @ X)\n",
    "figure_3a.graph.draw()\n",
    "id_in = Identification.from_query(query=query, graph=figure_3a.graph, estimand=estimand)\n",
    "graph = id_in.graph\n",
    "treatments = id_in.treatments\n",
    "outcomes = id_in.outcomes"
   ]
  },
  {
   "cell_type": "markdown",
   "metadata": {},
   "source": [
    "### Identify $P_x(y_1,y_2)$ from $P(x,w_1,w_2,y_1,y_2)$\n",
    "Since $G = G_{An(\\{Y_1, Y_2\\})}$, $C(G- \\{X\\})=\\{G\\}$, and $\\mathbf{W} = \\{W_1\\}$ , we invoke line $3$ and attempt to identify $P_{x,w}(y_1, y_2 )$. "
   ]
  },
  {
   "cell_type": "code",
   "execution_count": 4,
   "metadata": {
    "scrolled": true
   },
   "outputs": [
    {
     "data": {
      "text/markdown": [
       "Since $G=G_{An(\\{Y_1,Y_2\\})}$ and $\\mathbf{W} = \\{W1\\}$, we invoke line $3$ and attempt to identify  $P(Y1_{W1,X},Y2_{W1,X})$"
      ],
      "text/plain": [
       "<IPython.core.display.Markdown object>"
      ]
     },
     "metadata": {},
     "output_type": "display_data"
    },
    {
     "data": {
      "image/png": "[encoded data removed]",
      "text/plain": [
       "<Figure size 432x288 with 1 Axes>"
      ]
     },
     "metadata": {},
     "output_type": "display_data"
    }
   ],
   "source": [
    "vertices = set(graph.nodes())\n",
    "outcomes_and_ancestors = graph.ancestors_inclusive(outcomes)\n",
    "not_outcomes_or_ancestors = vertices.difference(outcomes_and_ancestors)\n",
    "if not not_outcomes_or_ancestors:\n",
    "    intervened_graph = graph.intervene(treatments)\n",
    "    no_effect_on_outcome = (vertices - treatments) - intervened_graph.ancestors_inclusive(outcomes)\n",
    "    if no_effect_on_outcome:\n",
    "        line_3_out = line_3(id_in)\n",
    "        display(\n",
    "            Markdown(\n",
    "                r\"Since $G=G_{An(\\{Y_1,Y_2\\})}$ and \"\n",
    "                + r\"$\\mathbf{W} = \\{\"\n",
    "                + \",\".join(str(w) for w in no_effect_on_outcome)\n",
    "                + r\"\\}$, we invoke line $3$ and attempt to identify \"\n",
    "                f\" ${line_3_out.to_query()}$\"\n",
    "            )\n",
    "        )\n",
    "    line_3_out.graph.draw()"
   ]
  },
  {
   "cell_type": "markdown",
   "metadata": {},
   "source": [
    "### Identify $P_{x,w}(y_1, y_2 )$ from $P(x,w_1,w_2,y_1,y_2)$.\n",
    "Now $C(G-\\{X, W_1\\}) = \\{\\{Y_1\\},  \\{W_2\\}  \\{Y_2\\}\\}$, so we invoke line $4$.  "
   ]
  },
  {
   "cell_type": "code",
   "execution_count": 5,
   "metadata": {},
   "outputs": [
    {
     "data": {
      "text/markdown": [
       "Now $C(G-\\{X, W_1\\}) = \\{\\{Y_1\\},  \\{W_2\\}, \\{Y_2\\}\\}$, so we invoke line $4$.   "
      ],
      "text/plain": [
       "<IPython.core.display.Markdown object>"
      ]
     },
     "metadata": {},
     "output_type": "display_data"
    },
    {
     "data": {
      "text/latex": [
       "$P(Y2_{W1,W2,X,Y1})$"
      ],
      "text/plain": [
       "P(Distribution(children=(CounterfactualVariable(name='Y2', interventions=(Intervention(name='W1', star=False), Intervention(name='W2', star=False), Intervention(name='X', star=False), Intervention(name='Y1', star=False))),), parents=()))"
      ]
     },
     "metadata": {},
     "output_type": "display_data"
    },
    {
     "data": {
      "text/latex": [
       "$P(W2_{Y2,W1,X,Y1})$"
      ],
      "text/plain": [
       "P(Distribution(children=(CounterfactualVariable(name='W2', interventions=(Intervention(name='Y2', star=False), Intervention(name='W1', star=False), Intervention(name='X', star=False), Intervention(name='Y1', star=False))),), parents=()))"
      ]
     },
     "metadata": {},
     "output_type": "display_data"
    },
    {
     "data": {
      "text/latex": [
       "$P(Y1_{Y2,W1,W2,X})$"
      ],
      "text/plain": [
       "P(Distribution(children=(CounterfactualVariable(name='Y1', interventions=(Intervention(name='Y2', star=False), Intervention(name='W1', star=False), Intervention(name='W2', star=False), Intervention(name='X', star=False))),), parents=()))"
      ]
     },
     "metadata": {},
     "output_type": "display_data"
    },
    {
     "data": {
      "image/png": "[encoded data removed]",
      "text/plain": [
       "<Figure size 432x288 with 1 Axes>"
      ]
     },
     "metadata": {},
     "output_type": "display_data"
    },
    {
     "data": {
      "image/png": "[encoded data removed]",
      "text/plain": [
       "<Figure size 432x288 with 1 Axes>"
      ]
     },
     "metadata": {},
     "output_type": "display_data"
    },
    {
     "data": {
      "image/png": "[encoded data removed]",
      "text/plain": [
       "<Figure size 432x288 with 1 Axes>"
      ]
     },
     "metadata": {},
     "output_type": "display_data"
    }
   ],
   "source": [
    "graph_without_treatments = line_3_out.graph.remove_nodes_from(line_3_out.treatments)\n",
    "if not graph_without_treatments.is_connected():\n",
    "    display(\n",
    "        Markdown(\n",
    "            r\"Now $C(G-\\{X, W_1\\}) = \\{\\{Y_1\\},  \\{W_2\\}, \\{Y_2\\}\\}$, so we invoke line $4$.   \"\n",
    "        )\n",
    "    )\n",
    "    line_4_out = line_4(line_3_out)\n",
    "    for i, id_out in enumerate(line_4_out):\n",
    "        plt.figure(i + 1)\n",
    "        id_out.graph.draw()\n",
    "        display(id_out.to_query())"
   ]
  },
  {
   "cell_type": "markdown",
   "metadata": {},
   "source": [
    "\n",
    "Thus the original problem reduces to identifying $\\sum_{w_2}P_{x,w_1, w_2, y_2} (y_1 )P_{w_1,x,y_1, y_2}(w_2)P_{x,w_1, w_2, y_1} (y_2 )$. "
   ]
  },
  {
   "cell_type": "code",
   "execution_count": 6,
   "metadata": {},
   "outputs": [],
   "source": [
    "w2_id_in, y1_id_in, y2_id_in = sorted(line_4_out, key=lambda x: sorted(o.name for o in x.outcomes))"
   ]
  },
  {
   "cell_type": "code",
   "execution_count": 7,
   "metadata": {},
   "outputs": [
    {
     "data": {
      "text/markdown": [
       "Thus the original problem reduces to identifying: "
      ],
      "text/plain": [
       "<IPython.core.display.Markdown object>"
      ]
     },
     "metadata": {},
     "output_type": "display_data"
    },
    {
     "data": {
      "text/latex": [
       "$\\sum_{W2} P(W2_{Y2,W1,X,Y1}) P(Y1_{Y2,W1,W2,X}) P(Y2_{W1,W2,X,Y1})$"
      ],
      "text/plain": [
       "Sum(expression=Product(expressions=(P(Distribution(children=(CounterfactualVariable(name='W2', interventions=(Intervention(name='Y2', star=False), Intervention(name='W1', star=False), Intervention(name='X', star=False), Intervention(name='Y1', star=False))),), parents=())), P(Distribution(children=(CounterfactualVariable(name='Y1', interventions=(Intervention(name='Y2', star=False), Intervention(name='W1', star=False), Intervention(name='W2', star=False), Intervention(name='X', star=False))),), parents=())), P(Distribution(children=(CounterfactualVariable(name='Y2', interventions=(Intervention(name='W1', star=False), Intervention(name='W2', star=False), Intervention(name='X', star=False), Intervention(name='Y1', star=False))),), parents=())))), ranges=(Variable(name='W2'),))"
      ]
     },
     "metadata": {},
     "output_type": "display_data"
    }
   ],
   "source": [
    "graph = line_3_out.graph\n",
    "vertices = set(graph.nodes())\n",
    "treatments = line_3_out.treatments\n",
    "outcomes = line_3_out.outcomes\n",
    "\n",
    "expression = Product.safe(\n",
    "    sorted(\n",
    "        [id_out.to_query() for id_out in line_4_out],\n",
    "        key=lambda x: sorted(_get_outcome_variables(x.get_variables())),\n",
    "    )\n",
    ")\n",
    "reduced_problem = Sum.safe(expression=expression, ranges=vertices.difference(outcomes | treatments))\n",
    "display(Markdown(\"Thus the original problem reduces to identifying: \"))\n",
    "display(reduced_problem)"
   ]
  },
  {
   "cell_type": "markdown",
   "metadata": {},
   "source": [
    "### Identify $P_{w_1,x,y_1, y_2}(w_2)$  from $P(x,w_1,w_2,y_1,y_2)$\n",
    "\n",
    "Solving for $P_{y_2, y_1, x,w_1}(w_2)$, we trigger line $2$, noting that we can ignore nodes which are not ancestors of $W_2$.  Thus, $P_{w_1,x,y_1,y_2}(w_2)=P(w_2)$."
   ]
  },
  {
   "cell_type": "code",
   "execution_count": 8,
   "metadata": {},
   "outputs": [
    {
     "data": {
      "text/latex": [
       "$P(W2)$"
      ],
      "text/plain": [
       "P(Distribution(children=(Variable(name='W2'),), parents=()))"
      ]
     },
     "execution_count": 8,
     "metadata": {},
     "output_type": "execute_result"
    }
   ],
   "source": [
    "w2_id_out = line_2(w2_id_in)\n",
    "w2_id_out.query"
   ]
  },
  {
   "cell_type": "markdown",
   "metadata": {},
   "source": [
    "### Identify $P_{x,w_1, w_2, y_1} (y_2 )$ from $P(x,w_1,w_2,y_1,y_2)$\n",
    "\n",
    "Similarly, we ignore non-ancestors of $Y_2$ in the third expression to obtain $P_{x,w1, w_2,y_1}(y_2)=P_{w_2}(y_2)$."
   ]
  },
  {
   "cell_type": "code",
   "execution_count": 9,
   "metadata": {},
   "outputs": [
    {
     "data": {
      "text/latex": [
       "$P(Y2_{W2})$"
      ],
      "text/plain": [
       "P(Distribution(children=(CounterfactualVariable(name='Y2', interventions=(Intervention(name='W2', star=False),)),), parents=()))"
      ]
     },
     "metadata": {},
     "output_type": "display_data"
    },
    {
     "data": {
      "text/latex": [
       "$\\sum_{W1,X,Y1} P(X,W1,W2,Y1,Y2)$"
      ],
      "text/plain": [
       "Sum(expression=P(Distribution(children=(Variable(name='X'), Variable(name='W1'), Variable(name='W2'), Variable(name='Y1'), Variable(name='Y2')), parents=())), ranges=(Variable(name='W1'), Variable(name='X'), Variable(name='Y1')))"
      ]
     },
     "metadata": {},
     "output_type": "display_data"
    }
   ],
   "source": [
    "y2_id_out = line_2(y2_id_in)\n",
    "display(y2_id_out.query)\n",
    "display(y2_id_out.estimand)"
   ]
  },
  {
   "cell_type": "markdown",
   "metadata": {},
   "source": [
    "We conclude at line 6, to obtain $P_{w_2}(y_2)=P(y_2|w_2)$."
   ]
  },
  {
   "cell_type": "code",
   "execution_count": 10,
   "metadata": {},
   "outputs": [
    {
     "data": {
      "text/latex": [
       "$P(Y2|W2)$"
      ],
      "text/plain": [
       "Product(expressions=(P(Distribution(children=(Variable(name='Y2'),), parents=(Variable(name='W2'),))),))"
      ]
     },
     "execution_count": 10,
     "metadata": {},
     "output_type": "execute_result"
    }
   ],
   "source": [
    "line_6(y2_id_out)"
   ]
  },
  {
   "cell_type": "markdown",
   "metadata": {},
   "source": [
    "### Identify $P_{w_2,y_2, x, w_1}(y_1)$ from $P(x,w_1,w_2,y_1,y_2)$\n",
    "\n",
    "Solving for $P_{w_2,y_2, x, w_1}(y_1)$ we trigger line 2 also, obtaining $P_{x,w_1, w_2, y_2}(y_1)=P_{x,w_1}(y_1)$."
   ]
  },
  {
   "cell_type": "code",
   "execution_count": 11,
   "metadata": {},
   "outputs": [
    {
     "data": {
      "text/markdown": [
       "Query: $P(Y1_{W1,X})$"
      ],
      "text/plain": [
       "<IPython.core.display.Markdown object>"
      ]
     },
     "metadata": {},
     "output_type": "display_data"
    },
    {
     "data": {
      "text/latex": [
       "$\\sum_{Y2,W2} P(X,W1,W2,Y1,Y2)$"
      ],
      "text/plain": [
       "Sum(expression=P(Distribution(children=(Variable(name='X'), Variable(name='W1'), Variable(name='W2'), Variable(name='Y1'), Variable(name='Y2')), parents=())), ranges=(Variable(name='Y2'), Variable(name='W2')))"
      ]
     },
     "execution_count": 11,
     "metadata": {},
     "output_type": "execute_result"
    }
   ],
   "source": [
    "y1_line_2_out = line_2(y1_id_in)\n",
    "display(Markdown(f\"Query: ${y1_line_2_out.query}$\"))\n",
    "\n",
    "y1_line_2_out.estimand"
   ]
  },
  {
   "cell_type": "markdown",
   "metadata": {},
   "source": [
    "The corresponding $G$ is shown in Figure 4(a).\n",
    "![Figure 4(a)](images/Figure-4a.png)"
   ]
  },
  {
   "cell_type": "code",
   "execution_count": 12,
   "metadata": {},
   "outputs": [
    {
     "data": {
      "image/png": "[encoded data removed]",
      "text/plain": [
       "<Figure size 432x288 with 1 Axes>"
      ]
     },
     "metadata": {},
     "output_type": "display_data"
    }
   ],
   "source": [
    "y1_line_2_out.graph.draw()"
   ]
  },
  {
   "cell_type": "markdown",
   "metadata": {},
   "source": [
    "Next we trigger line 7, reducing the problem to computing $P_{w_1}(y_1)$ from $P(y_1|x,w_1)P(w_1)$."
   ]
  },
  {
   "cell_type": "code",
   "execution_count": 13,
   "metadata": {},
   "outputs": [
    {
     "data": {
      "text/markdown": [
       "Query: $P(Y1_{W1})$"
      ],
      "text/plain": [
       "<IPython.core.display.Markdown object>"
      ]
     },
     "metadata": {},
     "output_type": "display_data"
    },
    {
     "data": {
      "text/latex": [
       "$P(W1) P(Y1|W1,X)$"
      ],
      "text/plain": [
       "Product(expressions=(P(Distribution(children=(Variable(name='W1'),), parents=())), P(Distribution(children=(Variable(name='Y1'),), parents=(Variable(name='W1'), Variable(name='X'))))))"
      ]
     },
     "metadata": {},
     "output_type": "display_data"
    }
   ],
   "source": [
    "y1_line_7_out = line_7(y1_line_2_out)\n",
    "display(Markdown(f\"Query: ${y1_line_7_out.query}$\"))\n",
    "display(y1_line_7_out.estimand)"
   ]
  },
  {
   "cell_type": "markdown",
   "metadata": {},
   "source": [
    "The corresponding $G$ is shown in Figure 4(b).\n",
    "![Figure4](images/Figure-4a.png)"
   ]
  },
  {
   "cell_type": "code",
   "execution_count": 14,
   "metadata": {},
   "outputs": [
    {
     "data": {
      "text/latex": [
       "$\\sum_{W1} P(W1) P(Y1|W1,X)$"
      ],
      "text/plain": [
       "Sum(expression=Product(expressions=(P(Distribution(children=(Variable(name='W1'),), parents=())), P(Distribution(children=(Variable(name='Y1'),), parents=(Variable(name='W1'), Variable(name='X')))))), ranges=(Variable(name='W1'),))"
      ]
     },
     "execution_count": 14,
     "metadata": {},
     "output_type": "execute_result"
    }
   ],
   "source": [
    "\n",
    "identify(y1_line_7_out)"
   ]
  },
  {
   "cell_type": "code",
   "execution_count": 15,
   "metadata": {},
   "outputs": [
    {
     "data": {
      "image/png": "[encoded data removed]",
      "text/plain": [
       "<Figure size 432x288 with 1 Axes>"
      ]
     },
     "metadata": {},
     "output_type": "display_data"
    }
   ],
   "source": [
    "y1_line_7_out.graph.draw()"
   ]
  },
  {
   "cell_type": "markdown",
   "metadata": {},
   "source": [
    "Finally, we trigger line 2, obtaining $P_{w_1}(y_1)=\\sum_{w_1}P(y_1|x,w_1)P(w_1)$."
   ]
  },
  {
   "cell_type": "code",
   "execution_count": 16,
   "metadata": {},
   "outputs": [
    {
     "data": {
      "text/markdown": [
       "Query: $P(Y1)$"
      ],
      "text/plain": [
       "<IPython.core.display.Markdown object>"
      ]
     },
     "metadata": {},
     "output_type": "display_data"
    },
    {
     "data": {
      "text/markdown": [
       "Estimand: "
      ],
      "text/plain": [
       "<IPython.core.display.Markdown object>"
      ]
     },
     "metadata": {},
     "output_type": "display_data"
    },
    {
     "data": {
      "text/latex": [
       "$\\sum_{W1} P(W1) P(Y1|W1,X)$"
      ],
      "text/plain": [
       "Sum(expression=Product(expressions=(P(Distribution(children=(Variable(name='W1'),), parents=())), P(Distribution(children=(Variable(name='Y1'),), parents=(Variable(name='W1'), Variable(name='X')))))), ranges=(Variable(name='W1'),))"
      ]
     },
     "metadata": {},
     "output_type": "display_data"
    }
   ],
   "source": [
    "y1_line_2_out = line_2(y1_line_7_out)\n",
    "display(Markdown(f\"Query: ${y1_line_2_out.query}$\"))\n",
    "display(Markdown(r\"Estimand: \"))\n",
    "display(y1_line_2_out.estimand)"
   ]
  },
  {
   "cell_type": "code",
   "execution_count": 17,
   "metadata": {},
   "outputs": [
    {
     "data": {
      "text/latex": [
       "$\\sum_{W1} P(W1) P(Y1|W1,X)$"
      ],
      "text/plain": [
       "Sum(expression=Product(expressions=(P(Distribution(children=(Variable(name='W1'),), parents=())), P(Distribution(children=(Variable(name='Y1'),), parents=(Variable(name='W1'), Variable(name='X')))))), ranges=(Variable(name='W1'),))"
      ]
     },
     "execution_count": 17,
     "metadata": {},
     "output_type": "execute_result"
    }
   ],
   "source": [
    "line_1(y1_line_2_out)"
   ]
  },
  {
   "cell_type": "markdown",
   "metadata": {},
   "source": [
    "Putting everything together, we obtain $P_x(y_1,y_2)=\\sum_{w_2}P(y_2|w_2)P(w_2)\\sum_{w_1}P(y_1|x,w_1)P(w_1)$."
   ]
  },
  {
   "cell_type": "code",
   "execution_count": 18,
   "metadata": {},
   "outputs": [
    {
     "data": {
      "text/latex": [
       "$\\sum_{W2} P(Y2|W2) \\sum_{Y2,W1,X,Y1} P(X,W1,W2,Y1,Y2) \\sum_{W1} P(W1) P(Y1|W1,X)$"
      ],
      "text/plain": [
       "Sum(expression=Product(expressions=(Product(expressions=(P(Distribution(children=(Variable(name='Y2'),), parents=(Variable(name='W2'),))),)), Sum(expression=P(Distribution(children=(Variable(name='X'), Variable(name='W1'), Variable(name='W2'), Variable(name='Y1'), Variable(name='Y2')), parents=())), ranges=(Variable(name='Y2'), Variable(name='W1'), Variable(name='X'), Variable(name='Y1'))), Sum(expression=Product(expressions=(P(Distribution(children=(Variable(name='W1'),), parents=())), P(Distribution(children=(Variable(name='Y1'),), parents=(Variable(name='W1'), Variable(name='X')))))), ranges=(Variable(name='W1'),)))), ranges=(Variable(name='W2'),))"
      ]
     },
     "execution_count": 18,
     "metadata": {},
     "output_type": "execute_result"
    }
   ],
   "source": [
    "identify(id_in)"
   ]
  },
  {
   "cell_type": "markdown",
   "metadata": {},
   "source": [
    "# IDC algorithm\n",
    "\n",
    "$$\\newcommand\\ci{\\perp\\!\\!\\!\\perp}$$\n",
    "$$\\newcommand{\\ubar}[1]{\\underset{\\bar{}}{#1}}\n",
    "\\newcommand{\\obar}[1]{\\overset{\\bar{}}{#1}}$$\n",
    "\n",
    "$\\text{function }\\mathbf{IDC}\\left(\\mathbf y, \\mathbf x,\\mathbf z, P, G\\right) \\\\ \\text{INPUT: } \\mathbf{x,y, z}\\text{ value assignments, $P$ a probability distribution, $G$ a causal diagram (an I-map of P)}. \\\\  \\text{OUTPUT:  Expression for $P_{\\mathbf x}(\\mathbf y|\\mathbf z)$ in terms of $P$ or $\\mathbf{FAIL}(F, F')$} $\n",
    "\n",
    "\n",
    "1. $\\text{if } (\\exists Z \\in \\mathbf{Z})(\\mathbf{Y} \\ci Z | \\mathbf{X}, \\mathbf{Z}- \\{Z\\})_{G_{\\bar{\\mathbf{X}}\\ubar{Z}}} \\\\\n",
    "\\text{return } \\mathbf{IDC}(\\mathbf y, \\mathbf x \\cup \\{z\\}, \\mathbf z - \\{z\\}, P, G)\\\\ $\n",
    "2. $\\text{ else, let } P' = \\mathbf{ID}(\\mathbf y \\cup \\mathbf z, \\mathbf x, P, G). \\\\\n",
    "\\text{ return } P'/\\sum{\\mathbf y}P'$."
   ]
  },
  {
   "cell_type": "markdown",
   "metadata": {},
   "source": [
    "# ID* algorithm\n",
    "\n",
    "$$\\newcommand\\ci{\\perp\\!\\!\\!\\perp}$$\n",
    "$$\\newcommand{\\ubar}[1]{\\underset{\\bar{}}{#1}}\n",
    "\\newcommand{\\obar}[1]{\\overset{\\bar{}}{#1}}$$\n",
    "\n",
    "\n",
    "\\textbf{Lemma 24} Let $M$ be a model inducing $G$ containing variables $\\alpha,\\beta$ with the following properties: \n",
    "* $\\alpha$ and $\\beta$ have the same domain of values.\n",
    "*  There is a bijection $f$ from $Pa(\\alpha)$ to $Pa(\\beta)$ such that a parent $\\gamma$ and $f(\\gamma)$ have the same domain of values. \n",
    "* The functional mechanisms of $\\alpha$ and $\\beta$ are the same (except whenever the function for $\\alpha$ uses the parent $\\gamma$, the corresponding function for $\\beta$ uses $f (\\gamma)$). \n",
    "\n",
    "Assume an observable variable set $\\mathbf Z$ was observed to attain values $\\mathbf{z}$ in $M_\\mathbf{x}$, the submodel obtained from $M$ by forcing another observable variable set $\\mathbf X$ to attain values $\\mathbf x$. Assume further that for each $\\gamma\\in Pa(\\alpha)$, either $f (\\gamma) = \\gamma$, or $\\gamma$ and $f (\\gamma)$ attain the same values (whether by observation or intervention). Then $\\alpha$ and $\\beta$ are the same random variable in $M_{\\mathbf x}$ with observations $\\mathbf z$.\n",
    "\n",
    "\\textbf{Lemma 25}. Let $M_\\mathbf{x}$ be a submodel derived from $M$ with set $\\mathbf Z$ observed to attain values $\\mathbf z$, such that Lemma 24 holds for $\\alpha, \\beta$. Let $M'$ be a causal model obtained from $M$ by merging $\\alpha, \\beta$ into a new node $\\omega$, which inherits all parents and the functional mechanism of $\\alpha$. All children of $\\alpha,\\beta$ in $M'$ become children of $\\omega$. Then $M_\\mathbf{x}$,  $M'_\\mathbf{x}$ agree on any distribution consistent with $\\mathbf{z}$ being observed.\n",
    "\n",
    "\n",
    "\n",
    "$\\text{function }\\mathbf{ make-cg}\\left(G, \\gamma\\right) \\\\ \\text{INPUT: } \\text{ $G$ a causal diagram, $\\gamma$ a conjunction of counterfactual events}. \\\\  \\text{OUTPUT:  A counterfactual graph $G_\\gamma$ and either a set of events $\\gamma'$ such that $P(\\gamma') = P(\\gamma)$ or $\\mathbf{Inconsistent}$} $\n",
    "\n",
    "* Construct a submodel $G_{\\mathbf{X}_i}$ for each action $do(\\mathbf{x}_i)$ mentioned in $\\gamma$. Construct the parallel worlds graph $G'$ by having all such graphs share their corresponding $U$ nodes.\n",
    "\n",
    "* Let $\\pi$ be a topological ordering of nodes in $G'$, let $\\gamma':=\\gamma.$\n",
    "* Apply Lemmas 24 and 25, in order $\\pi$ to each observable node pair $\\alpha, \\beta$ derived from the same variable in $G$. For each $\\alpha, \\beta$ that are the same, do:\n",
    "    * Let $G'$ be modified as specified in Lemma 25\n",
    "    * Modify $\\gamma'$ by renaming all occurrences of $\\beta$ to $\\alpha$.\n",
    "    * If $\\mathbf{val}(\\alpha)\\neq \\mathbf{val}(\\beta)$, return $G', \\mathbf{Inconsistent}$.\n",
    "* $\\texttt{return}$ $(G'_{An(\\gamma')}, \\gamma')$, where $An(\\gamma')$ is the set of nodes in $G'$ ancestral to nodes corresponding to variables mentioned in $\\gamma'$."
   ]
  },
  {
   "cell_type": "code",
   "execution_count": null,
   "metadata": {},
   "outputs": [],
   "source": []
  }
 ],
 "metadata": {
  "kernelspec": {
   "display_name": "Python 3",
   "language": "python",
   "name": "python3"
  },
  "language_info": {
   "codemirror_mode": {
    "name": "ipython",
    "version": 3
   },
   "file_extension": ".py",
   "mimetype": "text/x-python",
   "name": "python",
   "nbconvert_exporter": "python",
   "pygments_lexer": "ipython3",
   "version": "3.9.5"
  },
  "latex_envs": {
   "LaTeX_envs_menu_present": false,
   "autoclose": false,
   "autocomplete": false,
   "bibliofile": "biblio.bib",
   "cite_by": "apalike",
   "current_citInitial": 1,
   "eqLabelWithNumbers": true,
   "eqNumInitial": 1,
   "hotkeys": {
    "equation": "ctrl-q"
   },
   "labels_anchors": false,
   "latex_user_defs": false,
   "report_style_numbering": true,
   "user_envs_cfg": false
  },
  "toc": {
   "base_numbering": 1,
   "nav_menu": {},
   "number_sections": true,
   "sideBar": true,
   "skip_h1_title": false,
   "title_cell": "Table of Contents",
   "title_sidebar": "Contents",
   "toc_cell": true,
   "toc_position": {},
   "toc_section_display": true,
   "toc_window_display": true
  }
 },
 "nbformat": 4,
 "nbformat_minor": 4
}
