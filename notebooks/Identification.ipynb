{
 "cells": [
  {
   "cell_type": "markdown",
   "metadata": {},
   "source": [
    "# The Do-calculus\n"
   ]
  },
  {
   "cell_type": "markdown",
   "metadata": {},
   "source": [
    "$$P(y_x|x',y')$$\n",
    "$$P(Y_x) = P(Y|do(x)) = P_x(Y)$$\n"
   ]
  },
  {
   "cell_type": "markdown",
   "metadata": {},
   "source": [
    "## Rule 1: Ignoring observations\n",
    "\n",
    "\n",
    "$$\\newcommand\\ci{\\perp\\!\\!\\!\\perp}$$\n",
    "$$\\newcommand{\\ubar}[1]{\\underset{\\bar{}}{#1}}\n",
    "\\newcommand{\\obar}[1]{\\overset{\\bar{}}{#1}}$$\n",
    "\n",
    "$$P(y|do(x),{\\color{blue}z},w) = P(y|do(x),w)\\text{ if } ( Y\\ci Z|X,W )_{G_{\\bar{X}}}$$\n",
    "\n",
    "or in the Shpitser notation:\n",
    "\n",
    "$$P_x(y|{\\color{blue}z},w) = P_x(y|w)\\text{ if } ( Y\\ci Z|X,W )_{G_{\\bar{X}}}$$"
   ]
  },
  {
   "cell_type": "markdown",
   "metadata": {},
   "source": [
    "## Rule 2: Action/Observation Change\n",
    "\n",
    "$$P(y|do(x), \\color{red}{do(z)}, w) = P(y|do(x),\\color{red} z, w)\\text{ if } (Y\\ci Z|X,W)_{G_{\\bar{X},\\ubar{Z}}}$$\n",
    "or in Shpitser notation:\n",
    "\n",
    "$$P_{x,\\color{red}z}(y|w) = P_x(y|\\color{red}z,w) \\text{ if } (Y\\ci Z|X,W)_{G_{\\bar{X},\\ubar{Z}}}$$\n",
    "\n",
    "Where $G_{\\bar{X},\\ubar{Z}}$  is taken to mean the graph obtained from $G$ by removing arrows pointing to $X$ and arrows leaving $Z$. "
   ]
  },
  {
   "cell_type": "markdown",
   "metadata": {},
   "source": [
    "# Rule 3: Ignoring actions\n",
    "\n",
    "$$P(y|do(x),\\color{green}{do(z)},w) = P(y|do(x),w)\\text{ if }(Y\\ci Z|X,W)_{G_{\\bar{X}\\bar{Z(W)}}}$$\n",
    "\n",
    "where $Z(W)$ is the set of $Z$ nodes not ancestors of any $W$-node in $G_{\\bar{X}}$.\n",
    "\n"
   ]
  },
  {
   "cell_type": "markdown",
   "metadata": {},
   "source": [
    "# Theorem 2: The bow arc is not identifiable.\n",
    "\n",
    "We construct two causal models $M^1$ and $M^2$ such that $P^1(X, Y)=P^2(X, Y)$ ,and $P^1_x(Y)\\ne P^2_x(Y)$.The two models agree on the following: all 3 variables are boolean, $U$ is a fair coin, and $f_X(u)=u$.Let $⊕$ denote the exclusive or (XOR) function. Then the value of $Y$ is determined by the function $u⊕x$ in $M^1$, while $Y$ is set to $0$ in $M^2$. Then $P^1(Y=0)=P^2(Y=0)=1$, $P^1(X=0)=P^2(X=0)=0.5$. Therefore, $P^1(X, Y)=P^2(X, Y)$, while $P^2_x(Y=0)=1\\ne P^1_x(Y=0)=0.5$. Note that while $P$ is non-positive, it is straightforward to modify the proof for the positive case by letting $f_Y$ functions in both models return 1 half the time, and the values outlined above half the time."
   ]
  },
  {
   "cell_type": "code",
   "execution_count": null,
   "metadata": {},
   "outputs": [],
   "source": [
    "from scipy.stats import bernoulli\n",
    "def Model1(u):\n",
    "    x = u\n",
    "    y = x ^ u\n",
    "    return x, y\n",
    "\n",
    "def Model2(u):\n",
    "    x = u\n",
    "    y = 0\n",
    "    return x,y\n",
    "def sample(size=1000, p=0.5):\n",
    "    u = bernoulli.rvs(p, size=size)\n",
    "    unique, counts = numpy.unique(u, return_counts=True)\n",
    "    return dict(zip(unique, [c/size for c in counts]))\n",
    "def P1(X=None,Y=None,p=0.5, size=1000):\n",
    "    u = bernoulli.rvs(p,size=size)\n",
    "    joint = [Model1(u_i) for u_i in u]\n",
    "    count = 0\n",
    "\n",
    "        for x,y in joint: \n",
    "            if X and Y and X==x and Y==y:\n",
    "                count +=1\n",
    "            elif\n",
    "            \n",
    "    \n",
    "\n",
    "        dict(zip(unique, counts))"
   ]
  },
  {
   "cell_type": "markdown",
   "metadata": {},
   "source": [
    "# C-component\n",
    "Let $G$ be a semi-Markovian graph such that a subset of its bidirected arcs forms a spanning tree over all vertices in $G.$Then $G$ is a C-component(confounded component).\n",
    "\n",
    "Let a path composed entirely of bidirected\n",
    "edges be called a bidirected path. The set of variables $V$ can\n",
    "be partitioned into disjoint groups by assigning two variables\n",
    "to the same group if and only if they are connected by a\n",
    "bidirected path. \n",
    "\n",
    "# Definition 4: (C-tree)\n",
    "\n",
    "Let $G$ be a semi-Markovian graph such that $G$ is a C-component, all observable nodes have at most one child, and there is a node $Y$ such that $An(Y)_G= G$.Then $G$ is a $Y$-rooted C-tree (confounded tree).\n"
   ]
  },
  {
   "cell_type": "markdown",
   "metadata": {},
   "source": [
    "# A tree is not a Computer science tree!\n",
    "\n",
    "In computer science, the root of a tree has no parents, and the leaves have no children. And all children have only one parent.\n",
    "\n",
    "In the Pearlian world, the root of a tree has no children, and all nodes have at most one child. The issue is that the arrows point in the opposite direction.  "
   ]
  },
  {
   "cell_type": "markdown",
   "metadata": {},
   "source": [
    "# $An( Y )$ includes $Y$!\n",
    "\n",
    "From \"[A General Identification Condition for Causal Effects](https://ftp.cs.ucla.edu/pub/stat_ser/R290-A.pdf)\" by Tian and Pearl 2002:\n",
    "\n",
    "Let  $An( S )$ denote  the  union  of  a  set $S$ and  the  set  of ancestors of the variables in $S$, and let $G_{An( S )}$ denote the subgraph of $G$ composed only of variables in $An( S )$."
   ]
  },
  {
   "cell_type": "markdown",
   "metadata": {},
   "source": [
    "# A complete identification algorithm. \n",
    "\n",
    "**FAIL** propagates through recursive calls like an exception, and returns the hedge which witnesses non-identifiability. $V_\\pi^{(i-1)}$ is the set of nodes preceding $V_i$ in some topological ordering $\\pi$ in $G$.\n",
    "\n",
    "1. If no action has been taken, the effect on $\\mathbf Y$ is just the marginal of the observational distribution $P(\\mathbf v)$ on $\\mathbf Y$. \n",
    "2. If we are interested in the effect on $\\mathbf Y$, it is sufficient to restrict our attention on the parts of the model ancestral to $\\mathbf Y$.\n",
    "3. Forces an action on any node where such an action would have no effect on $\\mathbf Y$—assuming we already acted on $\\mathbf X$. Since actions remove incoming arrows, we can view line 3 as simplifying the causal graph we consider by removing certain arcs from the graph, without affecting the overall answer.\n",
    "4. The key line of the algorithm, it decomposes the problem into a set of smaller problems using the key property of *c-component factorization* of causal models. If the entire graph is a single C-component already, further problem decomposition is impossible, and we must provide base cases. $\\mathbf{ID}$ has three base cases. \n",
    "5. Fails because it finds two C-components, the graph $G$ itself, and a subgraph $S$ that does not contain any $\\mathbf X$ nodes. But that is exactly one of the properties of C-forests that make up a hedge. In fact, it turns out that it is always possible to recover a hedge from these two c-components.\n",
    "6. Asserts that if there are no bidirected arcs from X to the other nodes in the current subproblem under consideration, then we can replace acting on X by conditioning, and thus solve the subproblem. \n",
    "7. The most complex case where $\\mathbf X$ is partitioned into two sets, $\\mathbf W$ which contain bidirected arcs into other nodes in the subproblem, and $\\mathbf Z$ which do not. In this situation, identifying $P(\\mathbf y|do(\\mathbf x))$ from $P(v)$ is equivalent to identifying $P(\\mathbf y|do(\\mathbf w))$ from $P(\\mathbf V|do(\\mathbf z))$, since $P(\\mathbf y|do(\\mathbf x)) = P(\\mathbf y|do(\\mathbf w), do(\\mathbf z))$. But the term $P(\\mathbf V|do(\\mathbf z))$ is identifiable using the previous base case, so we can consider the subproblem of identifying $P(\\mathbf y|do(\\mathbf w))$.\n",
    "\n",
    "\n",
    "$\\text{function }\\mathbf{ID}\\left(\\mathbf y, \\mathbf x, P, G\\right) \\\\ \\text{INPUT: } \\mathbf{x,y}\\text{ value assignments, $P$ a probability distribution, $G$ a causal diagram}. \\\\  \\text{OUTPUT:  Expression for $P_{\\mathbf x}(\\mathbf y)$ in terms of $P$ or $\\mathbf{FAIL}(F, F')$} $\n",
    "\n",
    "\n",
    "\n",
    "1. $\\text{if }{\\mathbf x} =\\emptyset \\text{ return }\\sum_{\\mathbf v - \\mathbf y}P({\\mathbf v})$. &nbsp;&nbsp;&nbsp; \n",
    "2. $\\text{if }\\mathbf V - An(\\mathbf Y)_G \\neq \\emptyset \\\\  \\text{ return } \\mathbf{ ID}\\left(\\mathbf y, \\mathbf x\\cap An(\\mathbf Y)_G, \\sum_{\\mathbf V - An(Y)_G}P, G_{An(\\mathbf Y)}\\right)$.\n",
    "3. $\\text{let }\\mathbf W = (\\mathbf V - X) - An(\\mathbf Y)_{G_{\\bar{\\mathbf X}}}. \\\\ \\text{if } \\mathbf W \\neq \\emptyset, \\text{ return } \\mathbf{ID}\\left(\\mathbf y, \\mathbf x\\cup \\mathbf w, P, G\\right)$.\n",
    "4. $\\text{if }C(G-\\mathbf X) = \\{S_1,\\ldots S_k\\} \\\\ \\text{ return }\\sum_{\\mathbf v - (\\mathbf y \\cup \\mathbf x)}\\prod_i\\mathbf{ID}\\left(s_i, \\mathbf v - s_i, P, G\\right) \\\\ \\text{if }C(G -\\mathbf X) = \\{S\\}$\n",
    "5. &nbsp; &nbsp;&nbsp;$\\text{       if }C(G) = \\{G\\},\\\\  \\text{ throw }\\mathbf{FAIL}\\left(G,G\\cap S\\right)$.\n",
    "6. &nbsp; &nbsp;&nbsp;$\\text{ if }S\\in C(G) \\\\ \\text{ return }\\sum_{S - \\mathbf y}\\prod_{\\{i|V_i\\in S\\}}P\\left(v_i|v_\\pi^{(i-1)}\\right)$\n",
    "7. &nbsp; &nbsp;&nbsp;$\\text{ if }(\\exists S')S\\subset S'\\in C(G) \\\\ \\text{ return }\\mathbf{ID}\\left(\\mathbf y, \\mathbf x\\cap S', \\prod_{\\{i|V_i\\in S'\\}}P(V_i|V_\\pi^{(i-1)}\\cap S', V_\\pi^{(i-1)} - S'), G_{S'}\\right)$.\n",
    "\n"
   ]
  },
  {
   "cell_type": "code",
   "execution_count": 2,
   "metadata": {},
   "outputs": [
    {
     "name": "stdout",
     "output_type": "stream",
     "text": [
      "Expected: [ sum_{Z} P(Z,Y) ]\n",
      "Actual:   [ sum_{Z} P(Z,Y) ]\n"
     ]
    }
   ],
   "source": [
    "from y0.dsl import P, Sum, X, Y, Z, Product\n",
    "from y0.mutate import canonicalize\n",
    "expected = Sum[Z](P(Y,Z))\n",
    "actual = Sum[Z](P(Z, Y))\n",
    "expected_vars = expected.get_variables()\n",
    "ordering = list(expected_vars)\n",
    "expected_canonical = canonicalize(expected, ordering)\n",
    "actual_canonical = canonicalize(actual, ordering)\n",
    "\n",
    "print(f\"Expected: {expected_canonical}\\nActual:   {actual_canonical}\")"
   ]
  },
  {
   "cell_type": "code",
   "execution_count": 1,
   "metadata": {},
   "outputs": [
    {
     "data": {
      "text/plain": [
       "{'X', 'Y', 'Z'}"
      ]
     },
     "execution_count": 1,
     "metadata": {},
     "output_type": "execute_result"
    }
   ],
   "source": [
    "from ananke.graphs import ADMG\n",
    "from y0.examples import vertices_without_edges, line_2_example\n",
    "from y0.identify import _get_outcomes, _get_treatments\n",
    "from y0.algorithm.identify import line_2\n",
    "from y0.graph import NxMixedGraph\n",
    "admg = ADMG(vertices=['X','Y', 'Z'], di_edges=[['X','Y'],['Y','Z']], bi_edges=[['X','Z']])\n",
    "expected = vertices_without_edges\n",
    "actual = NxMixedGraph.from_admg( admg )\n",
    "set(expected.graph.directed.nodes())"
   ]
  },
  {
   "cell_type": "code",
   "execution_count": 6,
   "metadata": {},
   "outputs": [
    {
     "name": "stdout",
     "output_type": "stream",
     "text": [
      "{Variable(name='X'), Variable(name='Y'), Variable(name='Z')}\n",
      "{Variable(name='Y'), Variable(name='Z')}\n"
     ]
    }
   ],
   "source": [
    "for identification in line_2_example.identifications:\n",
    "    for id_in in identification['id_in']:\n",
    "        print(id_in.estimand.get_variables())\n",
    "    for id_out in identification['id_out']:\n",
    "        print(id_out.estimand.get_variables())"
   ]
  },
  {
   "cell_type": "code",
   "execution_count": 3,
   "metadata": {},
   "outputs": [
    {
     "data": {
      "text/plain": [
       "Identification(query=P(Distribution(children=(Variable(name='Y'),), parents=())), estimand=Sum(expression=P(Distribution(children=(Variable(name='X'), Variable(name='Y'), Variable(name='Z')), parents=())), ranges=[Variable(name='X')]), graph=NxMixedGraph(directed=<networkx.classes.digraph.DiGraph object at 0x7fbc885b3700>, undirected=<networkx.classes.graph.Graph object at 0x7fbc885b3340>))"
      ]
     },
     "execution_count": 3,
     "metadata": {},
     "output_type": "execute_result"
    }
   ],
   "source": [
    "line2_id = line_2(outcomes=set(_get_outcomes(id_in.query.get_variables())),\n",
    "      treatments=set(_get_treatments(id_in.query.get_variables())),\n",
    "       estimand=id_in.estimand,\n",
    "       G= id_in.graph)\n",
    "line2_id"
   ]
  },
  {
   "cell_type": "code",
   "execution_count": 4,
   "metadata": {},
   "outputs": [
    {
     "data": {
      "text/latex": [
       "$\\sum_{X} P(X,Y,Z)$"
      ],
      "text/plain": [
       "Sum(expression=P(Distribution(children=(Variable(name='X'), Variable(name='Y'), Variable(name='Z')), parents=())), ranges=[Variable(name='X')])"
      ]
     },
     "execution_count": 4,
     "metadata": {},
     "output_type": "execute_result"
    }
   ],
   "source": [
    "line2_id.estimand"
   ]
  },
  {
   "cell_type": "code",
   "execution_count": 5,
   "metadata": {},
   "outputs": [
    {
     "data": {
      "text/latex": [
       "$\\sum_{Z} P(Y,Z)$"
      ],
      "text/plain": [
       "Sum(expression=P(Distribution(children=(Variable(name='Y'), Variable(name='Z')), parents=())), ranges=(Variable(name='Z'),))"
      ]
     },
     "execution_count": 5,
     "metadata": {},
     "output_type": "execute_result"
    }
   ],
   "source": [
    "id_out.estimand"
   ]
  },
  {
   "cell_type": "code",
   "execution_count": 9,
   "metadata": {},
   "outputs": [
    {
     "data": {
      "text/plain": [
       "{('X', 'Y'), ('Y', 'Z')}"
      ]
     },
     "execution_count": 9,
     "metadata": {},
     "output_type": "execute_result"
    }
   ],
   "source": [
    "set(expected.graph.directed.edges())"
   ]
  },
  {
   "cell_type": "code",
   "execution_count": 12,
   "metadata": {},
   "outputs": [
    {
     "data": {
      "text/plain": [
       "EdgeView([('a', 'b')])"
      ]
     },
     "execution_count": 12,
     "metadata": {},
     "output_type": "execute_result"
    }
   ],
   "source": [
    "multigraph = NxMixedGraph.from_edges(undirected=[('a','b'), ('b','a')],\n",
    "                                    directed=[('a','b')])\n",
    "multigraph.undirected.edges()"
   ]
  }
 ],
 "metadata": {
  "kernelspec": {
   "display_name": "anaconda3-2020.11",
   "language": "python",
   "name": "anaconda3-2020.11"
  },
  "language_info": {
   "codemirror_mode": {
    "name": "ipython",
    "version": 3
   },
   "file_extension": ".py",
   "mimetype": "text/x-python",
   "name": "python",
   "nbconvert_exporter": "python",
   "pygments_lexer": "ipython3",
   "version": "3.8.5"
  },
  "latex_envs": {
   "LaTeX_envs_menu_present": false,
   "autoclose": false,
   "autocomplete": false,
   "bibliofile": "biblio.bib",
   "cite_by": "apalike",
   "current_citInitial": 1,
   "eqLabelWithNumbers": true,
   "eqNumInitial": 1,
   "hotkeys": {
    "equation": "ctrl-q"
   },
   "labels_anchors": false,
   "latex_user_defs": false,
   "report_style_numbering": true,
   "user_envs_cfg": false
  },
  "toc": {
   "base_numbering": 1,
   "nav_menu": {},
   "number_sections": true,
   "sideBar": true,
   "skip_h1_title": false,
   "title_cell": "Table of Contents",
   "title_sidebar": "Contents",
   "toc_cell": false,
   "toc_position": {},
   "toc_section_display": true,
   "toc_window_display": false
  }
 },
 "nbformat": 4,
 "nbformat_minor": 4
}
