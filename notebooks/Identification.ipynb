{
 "cells": [
  {
   "cell_type": "markdown",
   "metadata": {
    "toc": true
   },
   "source": [
    "<h1>Table of Contents<span class=\"tocSkip\"></span></h1>\n",
    "<div class=\"toc\"><ul class=\"toc-item\"><li><span><a href=\"#The-Do-calculus\" data-toc-modified-id=\"The-Do-calculus-1\"><span class=\"toc-item-num\">1&nbsp;&nbsp;</span>The Do-calculus</a></span><ul class=\"toc-item\"><li><span><a href=\"#Rule-1:-Ignoring-observations\" data-toc-modified-id=\"Rule-1:-Ignoring-observations-1.1\"><span class=\"toc-item-num\">1.1&nbsp;&nbsp;</span>Rule 1: Ignoring observations</a></span></li><li><span><a href=\"#Rule-2:-Action/Observation-Change\" data-toc-modified-id=\"Rule-2:-Action/Observation-Change-1.2\"><span class=\"toc-item-num\">1.2&nbsp;&nbsp;</span>Rule 2: Action/Observation Change</a></span></li><li><span><a href=\"#Rule-3:-Ignoring-actions\" data-toc-modified-id=\"Rule-3:-Ignoring-actions-1.3\"><span class=\"toc-item-num\">1.3&nbsp;&nbsp;</span>Rule 3: Ignoring actions</a></span></li></ul></li><li><span><a href=\"#Concepts-required-to-understand-ID-algorithm\" data-toc-modified-id=\"Concepts-required-to-understand-ID-algorithm-2\"><span class=\"toc-item-num\">2&nbsp;&nbsp;</span>Concepts required to understand ID algorithm</a></span><ul class=\"toc-item\"><li><span><a href=\"#Theorem-2:-The-bow-arc-is-not-identifiable.\" data-toc-modified-id=\"Theorem-2:-The-bow-arc-is-not-identifiable.-2.1\"><span class=\"toc-item-num\">2.1&nbsp;&nbsp;</span>Theorem 2: The bow arc is not identifiable.</a></span></li><li><span><a href=\"#Trees-point-toward-the-root!\" data-toc-modified-id=\"Trees-point-toward-the-root!-2.2\"><span class=\"toc-item-num\">2.2&nbsp;&nbsp;</span>Trees point toward the root!</a></span></li><li><span><a href=\"#$An(-Y-)$-includes-$Y$\" data-toc-modified-id=\"$An(-Y-)$-includes-$Y$-2.3\"><span class=\"toc-item-num\">2.3&nbsp;&nbsp;</span>$An( Y )$ includes $Y$</a></span></li><li><span><a href=\"#C-component\" data-toc-modified-id=\"C-component-2.4\"><span class=\"toc-item-num\">2.4&nbsp;&nbsp;</span>C-component</a></span></li><li><span><a href=\"#Definition-4:-(C-tree)\" data-toc-modified-id=\"Definition-4:-(C-tree)-2.5\"><span class=\"toc-item-num\">2.5&nbsp;&nbsp;</span>Definition 4: (C-tree)</a></span></li><li><span><a href=\"#Theorem-3\" data-toc-modified-id=\"Theorem-3-2.6\"><span class=\"toc-item-num\">2.6&nbsp;&nbsp;</span>Theorem 3</a></span></li><li><span><a href=\"#Definition-5-(C-forest):\" data-toc-modified-id=\"Definition-5-(C-forest):-2.7\"><span class=\"toc-item-num\">2.7&nbsp;&nbsp;</span>Definition 5 (C-forest):</a></span></li><li><span><a href=\"#Definition-6-(hedge):\" data-toc-modified-id=\"Definition-6-(hedge):-2.8\"><span class=\"toc-item-num\">2.8&nbsp;&nbsp;</span>Definition 6 (hedge):</a></span></li><li><span><a href=\"#Theorem-17\" data-toc-modified-id=\"Theorem-17-2.9\"><span class=\"toc-item-num\">2.9&nbsp;&nbsp;</span>Theorem 17</a></span></li></ul></li><li><span><a href=\"#A-complete-identification-algorithm.\" data-toc-modified-id=\"A-complete-identification-algorithm.-3\"><span class=\"toc-item-num\">3&nbsp;&nbsp;</span>A complete identification algorithm.</a></span><ul class=\"toc-item\"><li><span><a href=\"#ID-algorithm\" data-toc-modified-id=\"ID-algorithm-3.1\"><span class=\"toc-item-num\">3.1&nbsp;&nbsp;</span>ID algorithm</a></span><ul class=\"toc-item\"><li><span><a href=\"#Line-1\" data-toc-modified-id=\"Line-1-3.1.1\"><span class=\"toc-item-num\">3.1.1&nbsp;&nbsp;</span>Line 1</a></span></li><li><span><a href=\"#Line-2\" data-toc-modified-id=\"Line-2-3.1.2\"><span class=\"toc-item-num\">3.1.2&nbsp;&nbsp;</span>Line 2</a></span></li><li><span><a href=\"#Line-3\" data-toc-modified-id=\"Line-3-3.1.3\"><span class=\"toc-item-num\">3.1.3&nbsp;&nbsp;</span>Line 3</a></span></li><li><span><a href=\"#Line-4\" data-toc-modified-id=\"Line-4-3.1.4\"><span class=\"toc-item-num\">3.1.4&nbsp;&nbsp;</span>Line 4</a></span></li><li><span><a href=\"#Line-5\" data-toc-modified-id=\"Line-5-3.1.5\"><span class=\"toc-item-num\">3.1.5&nbsp;&nbsp;</span>Line 5</a></span></li><li><span><a href=\"#Line-6\" data-toc-modified-id=\"Line-6-3.1.6\"><span class=\"toc-item-num\">3.1.6&nbsp;&nbsp;</span>Line 6</a></span></li><li><span><a href=\"#Line-7\" data-toc-modified-id=\"Line-7-3.1.7\"><span class=\"toc-item-num\">3.1.7&nbsp;&nbsp;</span>Line 7</a></span></li></ul></li><li><span><a href=\"#Example\" data-toc-modified-id=\"Example-3.2\"><span class=\"toc-item-num\">3.2&nbsp;&nbsp;</span>Example</a></span><ul class=\"toc-item\"><li><span><a href=\"#Identify-$P_x(y_1,y_2)$-from-$P(x,w_1,w_2,y_1,y_2)$\" data-toc-modified-id=\"Identify-$P_x(y_1,y_2)$-from-$P(x,w_1,w_2,y_1,y_2)$-3.2.1\"><span class=\"toc-item-num\">3.2.1&nbsp;&nbsp;</span>Identify $P_x(y_1,y_2)$ from $P(x,w_1,w_2,y_1,y_2)$</a></span></li><li><span><a href=\"#Identify-$P_{x,w}(y_1,-y_2-)$-from-$P(x,w_1,w_2,y_1,y_2)$.\" data-toc-modified-id=\"Identify-$P_{x,w}(y_1,-y_2-)$-from-$P(x,w_1,w_2,y_1,y_2)$.-3.2.2\"><span class=\"toc-item-num\">3.2.2&nbsp;&nbsp;</span>Identify $P_{x,w}(y_1, y_2 )$ from $P(x,w_1,w_2,y_1,y_2)$.</a></span></li><li><span><a href=\"#Identify-$P_{w_1,x,y_1,-y_2}(w_2)$--from-$P(x,w_1,w_2,y_1,y_2)$\" data-toc-modified-id=\"Identify-$P_{w_1,x,y_1,-y_2}(w_2)$--from-$P(x,w_1,w_2,y_1,y_2)$-3.2.3\"><span class=\"toc-item-num\">3.2.3&nbsp;&nbsp;</span>Identify $P_{w_1,x,y_1, y_2}(w_2)$  from $P(x,w_1,w_2,y_1,y_2)$</a></span></li><li><span><a href=\"#Identify-$P_{x,w_1,-w_2,-y_1}-(y_2-)$-from-$P(x,w_1,w_2,y_1,y_2)$\" data-toc-modified-id=\"Identify-$P_{x,w_1,-w_2,-y_1}-(y_2-)$-from-$P(x,w_1,w_2,y_1,y_2)$-3.2.4\"><span class=\"toc-item-num\">3.2.4&nbsp;&nbsp;</span>Identify $P_{x,w_1, w_2, y_1} (y_2 )$ from $P(x,w_1,w_2,y_1,y_2)$</a></span></li><li><span><a href=\"#Identify-$P_{w_2,y_2,-x,-w_1}(y_1)$-from-$P(x,w_1,w_2,y_1,y_2)$\" data-toc-modified-id=\"Identify-$P_{w_2,y_2,-x,-w_1}(y_1)$-from-$P(x,w_1,w_2,y_1,y_2)$-3.2.5\"><span class=\"toc-item-num\">3.2.5&nbsp;&nbsp;</span>Identify $P_{w_2,y_2, x, w_1}(y_1)$ from $P(x,w_1,w_2,y_1,y_2)$</a></span></li></ul></li></ul></li><li><span><a href=\"#IDC-algorithm\" data-toc-modified-id=\"IDC-algorithm-4\"><span class=\"toc-item-num\">4&nbsp;&nbsp;</span>IDC algorithm</a></span></li></ul></div>"
   ]
  },
  {
   "cell_type": "code",
   "execution_count": 1,
   "metadata": {},
   "outputs": [
    {
     "data": {
      "application/javascript": [
       "\n",
       "            setTimeout(function() {\n",
       "                var nbb_cell_id = 1;\n",
       "                var nbb_unformatted_code = \"%load_ext nb_black\";\n",
       "                var nbb_formatted_code = \"%load_ext nb_black\";\n",
       "                var nbb_cells = Jupyter.notebook.get_cells();\n",
       "                for (var i = 0; i < nbb_cells.length; ++i) {\n",
       "                    if (nbb_cells[i].input_prompt_number == nbb_cell_id) {\n",
       "                        if (nbb_cells[i].get_text() == nbb_unformatted_code) {\n",
       "                             nbb_cells[i].set_text(nbb_formatted_code);\n",
       "                        }\n",
       "                        break;\n",
       "                    }\n",
       "                }\n",
       "            }, 500);\n",
       "            "
      ],
      "text/plain": [
       "<IPython.core.display.Javascript object>"
      ]
     },
     "metadata": {},
     "output_type": "display_data"
    }
   ],
   "source": [
    "%load_ext nb_black"
   ]
  },
  {
   "cell_type": "code",
   "execution_count": 19,
   "metadata": {},
   "outputs": [],
   "source": [
    "import itertools as itt\n",
    "from typing import Callable, Collection, Iterable, Set, Tuple, Union\n",
    "\n",
    "from scipy.stats import bernoulli\n",
    "import matplotlib.pyplot as plt\n",
    "from IPython.display import Latex, Markdown, set_matplotlib_formats\n",
    "\n",
    "from y0.examples import complete_hierarchy_figure_3a_example as figure_3a\n",
    "from y0.examples import figure_9a, figure_9b, figure_9c\n",
    "from y0.algorithm.identify import Identification, identify\n",
    "from y0.dsl import P, Sum, D, X, Y, Y1, Y2, W1, W2, Product, Variable\n",
    "from y0.dsl import _get_treatment_variables, _get_outcome_variables\n",
    "from y0.algorithm.identify.id_std import (\n",
    "    line_1,\n",
    "    line_2,\n",
    "    line_3,\n",
    "    line_4,\n",
    "    line_6,\n",
    "    line_7,\n",
    ")\n",
    "from y0.graph import NxMixedGraph\n",
    "from y0.dsl import Variable"
   ]
  },
  {
   "cell_type": "code",
   "execution_count": 2,
   "metadata": {},
   "outputs": [],
   "source": [
    "set_matplotlib_formats(\"svg\")"
   ]
  },
  {
   "cell_type": "markdown",
   "metadata": {},
   "source": [
    "# The Do-calculus\n"
   ]
  },
  {
   "cell_type": "markdown",
   "metadata": {},
   "source": [
    "\n",
    "Representing an interventional probability using 3 different notations:\n",
    "\n",
    "* **counterfactual notation**: An intervention is represented as a subscript on the outcome variables. Note that this is strictly more expressive, as it can represent probabilistic expressions over multiple worlds, such as $P(y_x | x',y')$\n",
    "* **do-notation**: an intervention is on the rhs of a conditional, wrapped in a $do()$ function: $P(y|do(x))$ \n",
    "* and **interventional distribution notation**: An intervention is represented as a subscript on the Probabilistic expression: $P_x(y)$ \n",
    "\n",
    "$$P(y_x) = P(y|do(x)) = P_x(y)$$\n"
   ]
  },
  {
   "cell_type": "markdown",
   "metadata": {},
   "source": [
    "## Rule 1: Ignoring observations\n",
    "\n",
    "\n",
    "$$\\newcommand\\ci{\\perp\\!\\!\\!\\perp}$$\n",
    "$$\\newcommand{\\ubar}[1]{\\underset{\\bar{}}{#1}}\n",
    "\\newcommand{\\obar}[1]{\\overset{\\bar{}}{#1}}$$\n",
    "\n",
    "$$P(y|do(x),{\\color{blue}z},w) = P(y|do(x),w)\\text{ if } ( Y\\ci Z|X,W )_{G_{\\bar{X}}}$$\n",
    "\n",
    "or in the interventional distribution notation:\n",
    "\n",
    "$$P_x(y|{\\color{blue}z},w) = P_x(y|w)\\text{ if } ( Y\\ci Z|X,W )_{G_{\\bar{X}}}$$"
   ]
  },
  {
   "cell_type": "markdown",
   "metadata": {},
   "source": [
    "## Rule 2: Action/Observation Change\n",
    "\n",
    "$$P(y|do(x), \\color{red}{do(z)}, w) = P(y|do(x),\\color{red} z, w)\\text{ if } (Y\\ci Z|X,W)_{G_{\\bar{X},\\ubar{Z}}}$$\n",
    "or in interventional distribution notation:\n",
    "\n",
    "$$P_{x,\\color{red}z}(y|w) = P_x(y|\\color{red}z,w) \\text{ if } (Y\\ci Z|X,W)_{G_{\\bar{X},\\ubar{Z}}}$$\n",
    "\n",
    "Where $G_{\\bar{X},\\ubar{Z}}$  is taken to mean the graph obtained from $G$ by removing arrows pointing to $X$ and arrows leaving $Z$. "
   ]
  },
  {
   "cell_type": "markdown",
   "metadata": {},
   "source": [
    "## Rule 3: Ignoring actions\n",
    "\n",
    "$$P(y|do(x),\\color{green}{do(z)},w) = P(y|do(x),w)\\text{ if }(Y\\ci Z|X,W)_{G_{\\bar{X}\\bar{Z(W)}}}$$\n",
    "\n",
    "or in interventional distribution notation:\n",
    "$$P_{x,\\color{green}{z}}(y|w) = P_x(y|w)\\text{ if }(Y\\ci Z|X,W)_{G_{\\bar{X}\\bar{Z(W)}}}$$\n",
    "\n",
    "where $Z(W)$ is the set of $Z$ nodes not ancestors of any $W$-node in $G_{\\bar{X}}$.\n",
    "\n"
   ]
  },
  {
   "cell_type": "markdown",
   "metadata": {},
   "source": [
    "# Concepts required to understand ID algorithm"
   ]
  },
  {
   "cell_type": "markdown",
   "metadata": {},
   "source": [
    "## Theorem 2: The bow arc is not identifiable.\n",
    "\n",
    "We construct two causal models $M^1$ and $M^2$ such that $P^1(X, Y)=P^2(X, Y)$ ,and $P^1_x(Y)\\ne P^2_x(Y)$. The two models agree on the following: all 3 variables are boolean, $U$ is a fair coin, and $f_X(u)=u$. Let $⊕$ denote the exclusive or (XOR) function. Then the value of $Y$ is determined by the function $u⊕x$ in $M^1$, while $Y$ is set to $y'$ in $M^2$. Then $P^1(y')=P^2(y')=1$, $P^1( x')=P^2( x')=0.5$. Therefore, $P^1(X, Y)=P^2(X, Y)$, while $P^2(y' |do(x'))=1\\ne P^1(y'|do(x'))=0.5$. Note that while $P$ is non-positive, it is straightforward to modify the proof for the positive case by letting $f_Y$ functions in both models return 1 half the time, and the values outlined above half the time.\n",
    "\n"
   ]
  },
  {
   "cell_type": "code",
   "execution_count": 3,
   "metadata": {},
   "outputs": [
    {
     "data": {
      "text/markdown": [
       "\n",
       "$$P^1(y') = 1.0 = P^2(y') = 1.0$$\n",
       "$$P^1(x') = 0.504 \\approx P^2(x') = 0.5028$$\n",
       "$$P^1(y' | do(x')) = 0.5066 \\neq P^2(y'| do(x')) = 1.0$$\n"
      ],
      "text/plain": [
       "<IPython.core.display.Markdown object>"
      ]
     },
     "metadata": {},
     "output_type": "display_data"
    }
   ],
   "source": [
    "def M1(u: bool) -> Tuple[bool, bool]:\n",
    "    \"\"\"The value of Y is determined by u XOR x\"\"\"\n",
    "    x = u\n",
    "    y = x ^ u\n",
    "    return x, y\n",
    "\n",
    "\n",
    "def M2(u: bool) -> Tuple[bool, bool]:\n",
    "    \"\"\"The value of Y is always y'\"\"\"\n",
    "    x = u\n",
    "    y = False\n",
    "    return x, y\n",
    "\n",
    "\n",
    "def M1x(u: bool) -> Tuple[bool, bool]:\n",
    "    \"\"\"X is always x' but Y is determined by u XOR x\"\"\"\n",
    "    x = False\n",
    "    y = x ^ u\n",
    "    return x, y\n",
    "\n",
    "\n",
    "def M2x(u: bool) -> Tuple[bool, bool]:\n",
    "    \"\"\"X is always x' and Y is always y'\"\"\"\n",
    "    x = False\n",
    "    y = False\n",
    "    return x, y\n",
    "\n",
    "\n",
    "def Prob(\n",
    "    model: Callable[[bool], Tuple[bool, bool]],\n",
    "    X: Union[bool, None] = None,\n",
    "    Y: Union[bool, None] = None,\n",
    "    p: float = 0.5,\n",
    "    samples: int = 10000,\n",
    ") -> float:\n",
    "    u = bernoulli.rvs(p, size=samples)\n",
    "    joint = [model(bool(u_i)) for u_i in u]\n",
    "    count = 0\n",
    "    for x, y in joint:\n",
    "        if X is not None and Y is not None and X == x and Y == y:\n",
    "            count += 1\n",
    "        elif Y is None and X == x:\n",
    "            count += 1\n",
    "        elif X is None and Y == y:\n",
    "            count += 1\n",
    "\n",
    "    return count / float(samples)\n",
    "\n",
    "\n",
    "display(\n",
    "    Markdown(\n",
    "        f\"\"\"\n",
    "$$P^1(y') = {Prob(M1, Y=False)} = P^2(y') = {Prob(M2, Y=False)}$$\n",
    "$$P^1(x') = {Prob(M1, X=False)} \\\\approx P^2(x') = {Prob(M2, X=False)}$$\n",
    "$$P^1(y' | do(x')) = {Prob(M1x, Y=False)} \\\\neq P^2(y'| do(x')) = {Prob(M2x, Y=False)}$$\n",
    "\"\"\"\n",
    "    )\n",
    ")"
   ]
  },
  {
   "cell_type": "markdown",
   "metadata": {},
   "source": [
    "## Trees point toward the root!\n",
    "\n",
    "In computer science, the root of a tree has no parents, the leaves have no children, and all nodes have at most one parent.\n",
    "\n",
    "In the Pearlian world, the arrows point in the opposite direction, so the root of a tree has no children, the leaves have no parents, and all nodes have at most one child.   \n",
    "\n"
   ]
  },
  {
   "cell_type": "markdown",
   "metadata": {},
   "source": [
    "## $An( Y )$ includes $Y$\n",
    "\n",
    "From \"[A General Identification Condition for Causal Effects](https://ftp.cs.ucla.edu/pub/stat_ser/R290-A.pdf)\" by Tian and Pearl 2002:\n",
    "\n",
    "Let  $An( S )$ denote  the  union  of  a  set $S$ and  the  set  of ancestors of the variables in $S$, and let $G_{An( S )}$ denote the subgraph of $G$ composed only of variables in $An( S )$."
   ]
  },
  {
   "cell_type": "markdown",
   "metadata": {},
   "source": [
    "## C-component\n",
    "Let $G$ be a semi-Markovian graph such that a subset of its bidirected arcs forms a spanning tree over all vertices in $G.$Then $G$ is a C-component(confounded component).\n",
    "\n",
    "Let a path composed entirely of bidirected\n",
    "edges be called a bidirected path. The set of variables $V$ can\n",
    "be partitioned into disjoint groups by assigning two variables\n",
    "to the same group if and only if they are connected by a\n",
    "bidirected path. \n",
    "\n",
    "\n",
    "\n",
    "![Causal graphs admitting identifiable effect $P(y|d o(\\mathbf{x} ))$](images/Figure-2.png) \n",
    "\n",
    "\n",
    "\n",
    "How many C-components does each causal graph contain?"
   ]
  },
  {
   "cell_type": "markdown",
   "metadata": {},
   "source": [
    "## Definition 4: (C-tree)\n",
    "\n",
    "Let $G$ be a semi-Markovian graph such that $G$ is a C-component, all observable nodes have at most one child, and there is a node $Y$ such that $An(Y)_G= G$.Then $G$ is a $Y$-rooted C-tree (confounded tree).\n",
    "\n"
   ]
  },
  {
   "cell_type": "markdown",
   "metadata": {},
   "source": [
    "## Theorem 3\n",
    "\n",
    "Let $G$ be a $Y$-rooted C-tree. Then the effect of any set of nodes $\\mathbf{X}$ in $G$ on $Y$ is not identifiable if $Y\\not\\in \\mathbf{X}$.\n",
    "\n",
    "![Causal graphs where $P(y|do(x)$ is not identifiable](images/Figure-1.png)\n"
   ]
  },
  {
   "cell_type": "markdown",
   "metadata": {},
   "source": [
    "## Definition 5 (C-forest):\n",
    "\n",
    "Let $G$ be a semi-Markovian graph, where $\\mathbf{Y}$ is the root set. Then $G$ is a $\\mathbf{Y}$-rooted C-forest(confounded forest) if $G$ is a C-component, and all observable nodes have at most one child.\n",
    "\n",
    "![A graph hedge-less for $P(y|do(x))$ and a graph containing a hedge for $P(y|do(x))$](images/Figure-3.png)\n",
    "\n",
    "Note that Figure  3b is not a C-forest because $W_1$ has more than one child."
   ]
  },
  {
   "cell_type": "markdown",
   "metadata": {},
   "source": [
    "## Definition 6 (hedge):\n",
    "\n",
    "Let $\\mathbf{X},\\mathbf{Y}$ be disjoint sets of variables in $G$. Let $F$, $F'$ be $\\mathbf{R}$-rooted C-forests such that $F'$ is a subgraph of $F$, $\\mathbf{X}$ only occur in $F$, and $\\mathbf{R}\\in An(\\mathbf{Y})_{G_{\\bar{\\mathbf{ X}}}}$  Then $F$ and $F'$ form a hedge for $P(\\mathbf{y}|do(\\mathbf{x}))$\n",
    "\n",
    "\n",
    "\n",
    "The mental picture for a hedge is as follows. We start with original graph $G$\n",
    "\n",
    "<img src=\"images/Figure-3b.png\" alt=\"Drawing\" style=\"width: 300px;\"/>\n",
    "\n",
    "Then we trim the graph by $do(\\mathbf{x})$ so that incoming edges to $\\mathbf{X}$ are removed.  This is\n",
    "the C-forest $F$.\n",
    "\n",
    "\n",
    "<img src=\"images/Figure-3b-F.png\" alt=\"Drawing\" style=\"width: 300px;\"/>\n",
    "\n",
    "Finally, we prune $\\mathbf{X}$ entirely, leaving the C-forest $F'$.\n",
    "\n",
    "<img src=\"images/Figure-3b-F-prime.png\" alt=\"Drawing\" style=\"width: 300px;\"/>\n",
    "\n",
    "It's easy to check that every graph in Fig. 1 contains a pair of C-forests that form a hedge for $P_x(Y)$.\n",
    "\n",
    "\n",
    "Note that Figure 3a does not contain a hedge because $W_1$ is a root that is not an ancestor of $Y_1$ or $Y_2$ in the C-forests $F$ and $F'$.\n",
    "\n",
    "<img src=\"images/Figure-3a-F.png\" alt=\"Drawing\" style=\"width: 300px;\"/>\n",
    "\n",
    "<img src=\"images/Figure-3a-F-prime.png\" alt=\"Drawing\" style=\"width: 300px;\"/>\n",
    "\n",
    "In fact, if $W_1$ was an outcome variable, then it would form a hedge and $P(y_1, y_2, w_1 | do(x))$ would not be identifiable."
   ]
  },
  {
   "cell_type": "markdown",
   "metadata": {},
   "source": [
    "## Theorem 17 \n",
    "\n",
    "Let $F, F'$ be subgraphs of $G$ which form a hedge for $P(\\mathbf{y}|do(x))$. Then $P(\\mathbf{v}), G \\not\\models_{id} P(\\mathbf{y}|do(\\mathbf{x}))$. \n",
    "\n",
    "![Causal graphs admitting identifiable effect $P(y|do(x))$](images/Figure-2.png)"
   ]
  },
  {
   "cell_type": "markdown",
   "metadata": {},
   "source": [
    "# A complete identification algorithm. \n",
    "\n",
    "## ID algorithm\n",
    "\n",
    "$\\text{function }\\mathbf{ID}\\left(\\mathbf y, \\mathbf x, P, G\\right) \\\\ \\text{INPUT: } \\mathbf{x,y}\\text{ value assignments, $P$ a probability distribution, $G$ a causal diagram}. \\\\  \\text{OUTPUT:  Expression for $P_{\\mathbf x}(\\mathbf y)$ in terms of $P$ or $\\mathbf{FAIL}(F, F')$} $\n",
    "\n",
    "### Line 1\n",
    "1. $\\text{if }{\\mathbf x} =\\emptyset \\text{ return }\\sum_{\\mathbf v - \\mathbf y}P({\\mathbf v})$. &nbsp;&nbsp;&nbsp; \n",
    "\n",
    " If no action has been taken, the effect on $\\mathbf Y$ is just the marginal of the observational distribution $P(\\mathbf v)$ on $\\mathbf Y$. \n",
    " \n",
    "### Line 2 \n",
    "2. $\\text{if }\\mathbf V - An(\\mathbf Y)_G \\neq \\emptyset \\\\  \\text{ return } \\mathbf{ ID}\\left(\\mathbf y, \\mathbf x\\cap An(\\mathbf Y)_G, \\sum_{\\mathbf V - An(Y)_G}P, G_{An(\\mathbf Y)}\\right)$\n",
    "\n",
    " If we are interested in the effect on $\\mathbf Y$, it is sufficient to restrict our attention on the parts of the model ancestral to $\\mathbf Y$.\n",
    " \n",
    "### Line 3\n",
    "3. $\\text{let }\\mathbf W = (\\mathbf V - X) - An(\\mathbf Y)_{G_{\\bar{\\mathbf X}}}. \\\\ \\text{if } \\mathbf W \\neq \\emptyset, \\text{ return } \\mathbf{ID}\\left(\\mathbf y, \\mathbf x\\cup \\mathbf w, P, G\\right)$\n",
    "\n",
    " Forces an action on any node where such an action would have no effect on $\\mathbf Y$—assuming we already acted on $\\mathbf X$. Since actions remove incoming arrows, we can view line 3 as simplifying the causal graph we consider by removing certain arcs from the graph, without affecting the overall answer.\n",
    " \n",
    "### Line 4\n",
    "4. $\\text{if }C(G-\\mathbf X) = \\{S_1,\\ldots S_k\\} \\\\ \\text{ return }\\sum_{\\mathbf v - (\\mathbf y \\cup \\mathbf x)}\\prod_i\\mathbf{ID}\\left(s_i, \\mathbf v - s_i, P, G\\right) \\\\ \\text{if }C(G -\\mathbf X) = \\{S\\}$\n",
    "\n",
    "The key line of the algorithm, it decomposes the problem into a set of smaller problems using the key property of *c-component factorization* of causal models. If the entire graph is a single C-component already, further problem decomposition is impossible, and we must provide base cases. $\\mathbf{ID}$ has three base cases. \n",
    "\n",
    "### Line 5\n",
    "5. &nbsp; &nbsp;&nbsp;$\\text{       if }C(G) = \\{G\\},\\\\  \\text{ throw }\\mathbf{FAIL}\\left(G,G\\cap S\\right)$\n",
    "\n",
    "Fails because it finds two C-components, the graph $G$ itself, and a subgraph $S$ that does not contain any $\\mathbf X$ nodes. But that is exactly one of the properties of C-forests that make up a hedge. In fact, it turns out that it is always possible to recover a hedge from these two c-components.  **FAIL** propagates through recursive calls like an exception, and returns the hedge which witnesses non-identifiability\n",
    "\n",
    "\n",
    "### Line 6\n",
    "6. &nbsp; &nbsp;&nbsp;$\\text{ if }S\\in C(G) \\\\ \\text{ return }\\sum_{S - \\mathbf y}\\prod_{\\{i|V_i\\in S\\}}P\\left(v_i|v_\\pi^{(i-1)}\\right)$\n",
    "\n",
    "Asserts that if there are no bidirected arcs from X to the other nodes in the current subproblem under consideration, then we can replace acting on X by conditioning, and thus solve the subproblem.  $V_\\pi^{(i-1)}$ is the set of nodes preceding $V_i$ in some topological ordering $\\pi$ in $G$.\n",
    "\n",
    "### Line 7\n",
    "7. &nbsp; &nbsp;&nbsp;$\\text{ if }(\\exists S')S\\subset S'\\in C(G) \\\\ \\text{ return }\\mathbf{ID}\\left(\\mathbf y, \\mathbf x\\cap S', \\prod_{\\{i|V_i\\in S'\\}}P(V_i|V_\\pi^{(i-1)}\\cap S', V_\\pi^{(i-1)} - S'), G_{S'}\\right)$.\n",
    "\n",
    "The most complex case where $\\mathbf X$ is partitioned into two sets, $\\mathbf W$ which contain bidirected arcs into other nodes in the subproblem, and $\\mathbf Z$ which do not. In this situation, identifying $P(\\mathbf y|do(\\mathbf x))$ from $P(v)$ is equivalent to identifying $P(\\mathbf y|do(\\mathbf w))$ from $P(\\mathbf V|do(\\mathbf z))$, since $P(\\mathbf y|do(\\mathbf x)) = P(\\mathbf y|do(\\mathbf w), do(\\mathbf z))$. But the term $P(\\mathbf V|do(\\mathbf z))$ is identifiable using the previous base case, so we can consider the subproblem of identifying $P(\\mathbf y|do(\\mathbf w))$."
   ]
  },
  {
   "cell_type": "markdown",
   "metadata": {},
   "source": [
    "## Example\n",
    "We give an example of the operation of the algorithm by identifying $P_x (y_1, y_2 )$ from $P(v)$ in the graph shown in in Fig. 3 (a). \n",
    "\n"
   ]
  },
  {
   "cell_type": "code",
   "execution_count": 20,
   "metadata": {},
   "outputs": [
    {
     "data": {
      "image/png": "[encoded data removed]",
      "text/plain": [
       "<Figure size 432x288 with 1 Axes>"
      ]
     },
     "metadata": {},
     "output_type": "display_data"
    }
   ],
   "source": [
    "estimand = P(X, W1, W2, Y1, Y2)\n",
    "query = P(Y1 @ X, Y2 @ X)\n",
    "figure_3a.graph.draw(title=query._repr_latex_())\n",
    "id_in = Identification.from_expression(\n",
    "    query=query, graph=figure_3a.graph, estimand=estimand\n",
    ")\n",
    "graph = id_in.graph\n",
    "treatments = id_in.treatments\n",
    "outcomes = id_in.outcomes"
   ]
  },
  {
   "cell_type": "markdown",
   "metadata": {},
   "source": [
    "### Identify $P_x(y_1,y_2)$ from $P(x,w_1,w_2,y_1,y_2)$\n",
    "Since $G = G_{An(\\{Y_1, Y_2\\})}$, $C(G- \\{X\\})=\\{G\\}$, and $\\mathbf{W} = \\{W_1\\}$ , we invoke line $3$ and attempt to identify $P_{x,w}(y_1, y_2 )$. "
   ]
  },
  {
   "cell_type": "code",
   "execution_count": 21,
   "metadata": {
    "scrolled": false
   },
   "outputs": [
    {
     "data": {
      "text/markdown": [
       "Since $G=G_{An(\\{Y_1,Y_2\\})}$ and $\\mathbf{W} = \\{W1\\}$, we invoke line $3$ and attempt to identify  $$P({Y_1}_{X, W_1}, {Y_2}_{X, W_1})$$"
      ],
      "text/plain": [
       "<IPython.core.display.Markdown object>"
      ]
     },
     "metadata": {},
     "output_type": "display_data"
    },
    {
     "data": {
      "image/png": "[encoded data removed]",
      "text/plain": [
       "<Figure size 432x288 with 1 Axes>"
      ]
     },
     "metadata": {},
     "output_type": "display_data"
    }
   ],
   "source": [
    "vertices = set(graph.nodes())\n",
    "outcomes_and_ancestors = graph.ancestors_inclusive(outcomes)\n",
    "not_outcomes_or_ancestors = vertices.difference(outcomes_and_ancestors)\n",
    "if not not_outcomes_or_ancestors:\n",
    "    intervened_graph = graph.intervene(treatments)\n",
    "    no_effect_on_outcome = (\n",
    "        vertices - treatments\n",
    "    ) - intervened_graph.ancestors_inclusive(outcomes)\n",
    "    if no_effect_on_outcome:\n",
    "        line_3_out = line_3(id_in)\n",
    "        display(\n",
    "            Markdown(\n",
    "                r\"Since $G=G_{An(\\{Y_1,Y_2\\})}$ and \"\n",
    "                + r\"$\\mathbf{W} = \\{\"\n",
    "                + \",\".join(str(w) for w in no_effect_on_outcome)\n",
    "                + r\"\\}$, we invoke line $3$ and attempt to identify \"\n",
    "                f\" ${line_3_out.query.expression._repr_latex_()}$\"\n",
    "            )\n",
    "        )\n",
    "    line_3_out.graph.draw(title=line_3_out.query.expression._repr_latex_())"
   ]
  },
  {
   "cell_type": "markdown",
   "metadata": {},
   "source": [
    "### Identify $P_{x,w}(y_1, y_2 )$ from $P(x,w_1,w_2,y_1,y_2)$.\n",
    "Now $C(G-\\{X, W_1\\}) = \\{\\{Y_1\\},  \\{W_2\\}  \\{Y_2\\}\\}$, so we invoke line $4$.  "
   ]
  },
  {
   "cell_type": "code",
   "execution_count": 22,
   "metadata": {},
   "outputs": [
    {
     "data": {
      "text/markdown": [
       "Now $C(G-\\{X, W_1\\}) = \\{\\{Y_1\\},  \\{W_2\\}, \\{Y_2\\}\\}$, so we invoke line $4$.   "
      ],
      "text/plain": [
       "<IPython.core.display.Markdown object>"
      ]
     },
     "metadata": {},
     "output_type": "display_data"
    },
    {
     "data": {
      "image/png": "[encoded data removed]",
      "text/plain": [
       "<Figure size 432x288 with 1 Axes>"
      ]
     },
     "metadata": {},
     "output_type": "display_data"
    },
    {
     "data": {
      "image/png": "[encoded data removed]",
      "text/plain": [
       "<Figure size 432x288 with 1 Axes>"
      ]
     },
     "metadata": {},
     "output_type": "display_data"
    },
    {
     "data": {
      "image/png": "[encoded data removed]",
      "text/plain": [
       "<Figure size 432x288 with 1 Axes>"
      ]
     },
     "metadata": {},
     "output_type": "display_data"
    }
   ],
   "source": [
    "graph_without_treatments = line_3_out.graph.remove_nodes_from(line_3_out.treatments)\n",
    "if not graph_without_treatments.is_connected():\n",
    "    display(\n",
    "        Markdown(\n",
    "            r\"Now $C(G-\\{X, W_1\\}) = \\{\\{Y_1\\},  \\{W_2\\}, \\{Y_2\\}\\}$, so we invoke line $4$.   \"\n",
    "        )\n",
    "    )\n",
    "    line_4_out = line_4(line_3_out)\n",
    "    for i, id_out in enumerate(line_4_out):\n",
    "        plt.figure(i + 1)\n",
    "        id_out.graph.draw(title=id_out.query.expression._repr_latex_())"
   ]
  },
  {
   "cell_type": "markdown",
   "metadata": {},
   "source": [
    "\n",
    "Thus the original problem reduces to identifying $\\sum_{w_2}P_{x,w_1, w_2, y_2} (y_1 )P_{w_1,x,y_1, y_2}(w_2)P_{x,w_1, w_2, y_1} (y_2 )$. "
   ]
  },
  {
   "cell_type": "code",
   "execution_count": 8,
   "metadata": {},
   "outputs": [
    {
     "data": {
      "application/javascript": [
       "\n",
       "            setTimeout(function() {\n",
       "                var nbb_cell_id = 8;\n",
       "                var nbb_unformatted_code = \"w2_id_in, y1_id_in, y2_id_in = sorted(\\n    line_4_out, key=lambda x: sorted(o.name for o in x.outcomes)\\n)\";\n",
       "                var nbb_formatted_code = \"w2_id_in, y1_id_in, y2_id_in = sorted(\\n    line_4_out, key=lambda x: sorted(o.name for o in x.outcomes)\\n)\";\n",
       "                var nbb_cells = Jupyter.notebook.get_cells();\n",
       "                for (var i = 0; i < nbb_cells.length; ++i) {\n",
       "                    if (nbb_cells[i].input_prompt_number == nbb_cell_id) {\n",
       "                        if (nbb_cells[i].get_text() == nbb_unformatted_code) {\n",
       "                             nbb_cells[i].set_text(nbb_formatted_code);\n",
       "                        }\n",
       "                        break;\n",
       "                    }\n",
       "                }\n",
       "            }, 500);\n",
       "            "
      ],
      "text/plain": [
       "<IPython.core.display.Javascript object>"
      ]
     },
     "metadata": {},
     "output_type": "display_data"
    }
   ],
   "source": [
    "w2_id_in, y1_id_in, y2_id_in = sorted(\n",
    "    line_4_out, key=lambda x: sorted(o.name for o in x.outcomes)\n",
    ")"
   ]
  },
  {
   "cell_type": "code",
   "execution_count": 9,
   "metadata": {},
   "outputs": [
    {
     "data": {
      "text/markdown": [
       "Thus the original problem reduces to identifying: "
      ],
      "text/plain": [
       "<IPython.core.display.Markdown object>"
      ]
     },
     "metadata": {},
     "output_type": "display_data"
    },
    {
     "data": {
      "text/latex": [
       "$\\sum_{W_2} P({W_2}_{Y_2, W_1, Y_1, X}) P({Y_1}_{Y_2, W_2, W_1, X}) P({Y_2}_{W_2, W_1, Y_1, X})$"
      ],
      "text/plain": [
       "Sum[W2](P(W2 @ (Y2, W1, Y1, X)) * P(Y1 @ (Y2, W2, W1, X)) * P(Y2 @ (W2, W1, Y1, X)))"
      ]
     },
     "metadata": {},
     "output_type": "display_data"
    },
    {
     "data": {
      "application/javascript": [
       "\n",
       "            setTimeout(function() {\n",
       "                var nbb_cell_id = 9;\n",
       "                var nbb_unformatted_code = \"graph = line_3_out.graph\\nvertices = set(graph.nodes())\\ntreatments = line_3_out.treatments\\noutcomes = line_3_out.outcomes\\n\\nexpression = Product.safe(\\n    sorted(\\n        [id_out.query.expression for id_out in line_4_out],\\n        key=lambda x: sorted(_get_outcome_variables(x.get_variables())),\\n    )\\n)\\nreduced_problem = Sum.safe(\\n    expression=expression, ranges=vertices.difference(outcomes | treatments)\\n)\\ndisplay(Markdown(\\\"Thus the original problem reduces to identifying: \\\"))\\ndisplay(reduced_problem)\";\n",
       "                var nbb_formatted_code = \"graph = line_3_out.graph\\nvertices = set(graph.nodes())\\ntreatments = line_3_out.treatments\\noutcomes = line_3_out.outcomes\\n\\nexpression = Product.safe(\\n    sorted(\\n        [id_out.query.expression for id_out in line_4_out],\\n        key=lambda x: sorted(_get_outcome_variables(x.get_variables())),\\n    )\\n)\\nreduced_problem = Sum.safe(\\n    expression=expression, ranges=vertices.difference(outcomes | treatments)\\n)\\ndisplay(Markdown(\\\"Thus the original problem reduces to identifying: \\\"))\\ndisplay(reduced_problem)\";\n",
       "                var nbb_cells = Jupyter.notebook.get_cells();\n",
       "                for (var i = 0; i < nbb_cells.length; ++i) {\n",
       "                    if (nbb_cells[i].input_prompt_number == nbb_cell_id) {\n",
       "                        if (nbb_cells[i].get_text() == nbb_unformatted_code) {\n",
       "                             nbb_cells[i].set_text(nbb_formatted_code);\n",
       "                        }\n",
       "                        break;\n",
       "                    }\n",
       "                }\n",
       "            }, 500);\n",
       "            "
      ],
      "text/plain": [
       "<IPython.core.display.Javascript object>"
      ]
     },
     "metadata": {},
     "output_type": "display_data"
    }
   ],
   "source": [
    "graph = line_3_out.graph\n",
    "vertices = set(graph.nodes())\n",
    "treatments = line_3_out.treatments\n",
    "outcomes = line_3_out.outcomes\n",
    "\n",
    "expression = Product.safe(\n",
    "    sorted(\n",
    "        [id_out.query.expression for id_out in line_4_out],\n",
    "        key=lambda x: sorted(_get_outcome_variables(x.get_variables())),\n",
    "    )\n",
    ")\n",
    "reduced_problem = Sum.safe(\n",
    "    expression=expression, ranges=vertices.difference(outcomes | treatments)\n",
    ")\n",
    "display(Markdown(\"Thus the original problem reduces to identifying: \"))\n",
    "display(reduced_problem)"
   ]
  },
  {
   "cell_type": "markdown",
   "metadata": {},
   "source": [
    "### Identify $P_{w_1,x,y_1, y_2}(w_2)$  from $P(x,w_1,w_2,y_1,y_2)$\n",
    "\n",
    "Solving for $P_{y_2, y_1, x,w_1}(w_2)$, we trigger line $2$, noting that we can ignore nodes which are not ancestors of $W_2$.  Thus, $P_{w_1,x,y_1,y_2}(w_2)=P(w_2)$."
   ]
  },
  {
   "cell_type": "code",
   "execution_count": 10,
   "metadata": {},
   "outputs": [
    {
     "data": {
      "text/latex": [
       "$P(W_2)$"
      ],
      "text/plain": [
       "P(W2)"
      ]
     },
     "execution_count": 10,
     "metadata": {},
     "output_type": "execute_result"
    },
    {
     "data": {
      "application/javascript": [
       "\n",
       "            setTimeout(function() {\n",
       "                var nbb_cell_id = 10;\n",
       "                var nbb_unformatted_code = \"w2_id_out = line_2(w2_id_in)\\nw2_id_out.query.expression\";\n",
       "                var nbb_formatted_code = \"w2_id_out = line_2(w2_id_in)\\nw2_id_out.query.expression\";\n",
       "                var nbb_cells = Jupyter.notebook.get_cells();\n",
       "                for (var i = 0; i < nbb_cells.length; ++i) {\n",
       "                    if (nbb_cells[i].input_prompt_number == nbb_cell_id) {\n",
       "                        if (nbb_cells[i].get_text() == nbb_unformatted_code) {\n",
       "                             nbb_cells[i].set_text(nbb_formatted_code);\n",
       "                        }\n",
       "                        break;\n",
       "                    }\n",
       "                }\n",
       "            }, 500);\n",
       "            "
      ],
      "text/plain": [
       "<IPython.core.display.Javascript object>"
      ]
     },
     "metadata": {},
     "output_type": "display_data"
    }
   ],
   "source": [
    "w2_id_out = line_2(w2_id_in)\n",
    "w2_id_out.query.expression"
   ]
  },
  {
   "cell_type": "markdown",
   "metadata": {},
   "source": [
    "### Identify $P_{x,w_1, w_2, y_1} (y_2 )$ from $P(x,w_1,w_2,y_1,y_2)$\n",
    "\n",
    "Similarly, we ignore non-ancestors of $Y_2$ in the third expression to obtain $P_{x,w1, w_2,y_1}(y_2)=P_{w_2}(y_2)$."
   ]
  },
  {
   "cell_type": "code",
   "execution_count": 11,
   "metadata": {},
   "outputs": [
    {
     "data": {
      "text/latex": [
       "$P({Y_2}_{W_2})$"
      ],
      "text/plain": [
       "P(Y2 @ W2)"
      ]
     },
     "metadata": {},
     "output_type": "display_data"
    },
    {
     "data": {
      "text/latex": [
       "$\\sum_{W_1, X, Y_1} P(W_1, W_2, X, Y_1, Y_2)$"
      ],
      "text/plain": [
       "Sum[W1, X, Y1](P(W1, W2, X, Y1, Y2))"
      ]
     },
     "metadata": {},
     "output_type": "display_data"
    },
    {
     "data": {
      "application/javascript": [
       "\n",
       "            setTimeout(function() {\n",
       "                var nbb_cell_id = 11;\n",
       "                var nbb_unformatted_code = \"y2_id_out = line_2(y2_id_in)\\ndisplay(y2_id_out.query.expression)\\ndisplay(y2_id_out.estimand)\";\n",
       "                var nbb_formatted_code = \"y2_id_out = line_2(y2_id_in)\\ndisplay(y2_id_out.query.expression)\\ndisplay(y2_id_out.estimand)\";\n",
       "                var nbb_cells = Jupyter.notebook.get_cells();\n",
       "                for (var i = 0; i < nbb_cells.length; ++i) {\n",
       "                    if (nbb_cells[i].input_prompt_number == nbb_cell_id) {\n",
       "                        if (nbb_cells[i].get_text() == nbb_unformatted_code) {\n",
       "                             nbb_cells[i].set_text(nbb_formatted_code);\n",
       "                        }\n",
       "                        break;\n",
       "                    }\n",
       "                }\n",
       "            }, 500);\n",
       "            "
      ],
      "text/plain": [
       "<IPython.core.display.Javascript object>"
      ]
     },
     "metadata": {},
     "output_type": "display_data"
    }
   ],
   "source": [
    "y2_id_out = line_2(y2_id_in)\n",
    "display(y2_id_out.query.expression)\n",
    "display(y2_id_out.estimand)"
   ]
  },
  {
   "cell_type": "markdown",
   "metadata": {},
   "source": [
    "We conclude at line 6, to obtain $P_{w_2}(y_2)=P(y_2|w_2)$."
   ]
  },
  {
   "cell_type": "code",
   "execution_count": 12,
   "metadata": {},
   "outputs": [
    {
     "data": {
      "text/latex": [
       "$P(Y_2 | W_2)$"
      ],
      "text/plain": [
       "P(Y2 | W2)"
      ]
     },
     "execution_count": 12,
     "metadata": {},
     "output_type": "execute_result"
    },
    {
     "data": {
      "application/javascript": [
       "\n",
       "            setTimeout(function() {\n",
       "                var nbb_cell_id = 12;\n",
       "                var nbb_unformatted_code = \"line_6(y2_id_out)\";\n",
       "                var nbb_formatted_code = \"line_6(y2_id_out)\";\n",
       "                var nbb_cells = Jupyter.notebook.get_cells();\n",
       "                for (var i = 0; i < nbb_cells.length; ++i) {\n",
       "                    if (nbb_cells[i].input_prompt_number == nbb_cell_id) {\n",
       "                        if (nbb_cells[i].get_text() == nbb_unformatted_code) {\n",
       "                             nbb_cells[i].set_text(nbb_formatted_code);\n",
       "                        }\n",
       "                        break;\n",
       "                    }\n",
       "                }\n",
       "            }, 500);\n",
       "            "
      ],
      "text/plain": [
       "<IPython.core.display.Javascript object>"
      ]
     },
     "metadata": {},
     "output_type": "display_data"
    }
   ],
   "source": [
    "line_6(y2_id_out)"
   ]
  },
  {
   "cell_type": "markdown",
   "metadata": {},
   "source": [
    "### Identify $P_{w_2,y_2, x, w_1}(y_1)$ from $P(x,w_1,w_2,y_1,y_2)$\n",
    "\n",
    "Solving for $P_{w_2,y_2, x, w_1}(y_1)$ we trigger line 2 also, obtaining $P_{x,w_1, w_2, y_2}(y_1)=P_{x,w_1}(y_1)$."
   ]
  },
  {
   "cell_type": "code",
   "execution_count": 13,
   "metadata": {},
   "outputs": [
    {
     "data": {
      "text/markdown": [
       "Query: $P({Y_1}_{W_1, X})$"
      ],
      "text/plain": [
       "<IPython.core.display.Markdown object>"
      ]
     },
     "metadata": {},
     "output_type": "display_data"
    },
    {
     "data": {
      "text/latex": [
       "$\\sum_{W_2, Y_2} P(W_1, W_2, X, Y_1, Y_2)$"
      ],
      "text/plain": [
       "Sum[W2, Y2](P(W1, W2, X, Y1, Y2))"
      ]
     },
     "execution_count": 13,
     "metadata": {},
     "output_type": "execute_result"
    },
    {
     "data": {
      "application/javascript": [
       "\n",
       "            setTimeout(function() {\n",
       "                var nbb_cell_id = 13;\n",
       "                var nbb_unformatted_code = \"y1_line_2_out = line_2(y1_id_in)\\ndisplay(Markdown(f\\\"Query: {y1_line_2_out.query.expression._repr_latex_()}\\\"))\\n\\ny1_line_2_out.estimand\";\n",
       "                var nbb_formatted_code = \"y1_line_2_out = line_2(y1_id_in)\\ndisplay(Markdown(f\\\"Query: {y1_line_2_out.query.expression._repr_latex_()}\\\"))\\n\\ny1_line_2_out.estimand\";\n",
       "                var nbb_cells = Jupyter.notebook.get_cells();\n",
       "                for (var i = 0; i < nbb_cells.length; ++i) {\n",
       "                    if (nbb_cells[i].input_prompt_number == nbb_cell_id) {\n",
       "                        if (nbb_cells[i].get_text() == nbb_unformatted_code) {\n",
       "                             nbb_cells[i].set_text(nbb_formatted_code);\n",
       "                        }\n",
       "                        break;\n",
       "                    }\n",
       "                }\n",
       "            }, 500);\n",
       "            "
      ],
      "text/plain": [
       "<IPython.core.display.Javascript object>"
      ]
     },
     "metadata": {},
     "output_type": "display_data"
    }
   ],
   "source": [
    "y1_line_2_out = line_2(y1_id_in)\n",
    "display(Markdown(f\"Query: {y1_line_2_out.query.expression._repr_latex_()}\"))\n",
    "\n",
    "y1_line_2_out.estimand"
   ]
  },
  {
   "cell_type": "markdown",
   "metadata": {},
   "source": [
    "The corresponding $G$ is shown in Figure 4(a).\n",
    "![Figure 4(a)](images/Figure-4a.png)"
   ]
  },
  {
   "cell_type": "code",
   "execution_count": 14,
   "metadata": {},
   "outputs": [
    {
     "data": {
      "image/svg+xml": [
       "<?xml version=\"1.0\" encoding=\"utf-8\" standalone=\"no\"?>\n",
       "<!DOCTYPE svg PUBLIC \"-//W3C//DTD SVG 1.1//EN\"\n",
       "  \"http://www.w3.org/Graphics/SVG/1.1/DTD/svg11.dtd\">\n",
       "<!-- Created with matplotlib (https://matplotlib.org/) -->\n",
       "<svg height=\"246.96pt\" version=\"1.1\" viewBox=\"0 0 349.2 246.96\" width=\"349.2pt\" xmlns=\"http://www.w3.org/2000/svg\" xmlns:xlink=\"http://www.w3.org/1999/xlink\">\n",
       " <metadata>\n",
       "  <rdf:RDF xmlns:cc=\"http://creativecommons.org/ns#\" xmlns:dc=\"http://purl.org/dc/elements/1.1/\" xmlns:rdf=\"http://www.w3.org/1999/02/22-rdf-syntax-ns#\">\n",
       "   <cc:Work>\n",
       "    <dc:type rdf:resource=\"http://purl.org/dc/dcmitype/StillImage\"/>\n",
       "    <dc:date>2021-07-21T12:58:02.428462</dc:date>\n",
       "    <dc:format>image/svg+xml</dc:format>\n",
       "    <dc:creator>\n",
       "     <cc:Agent>\n",
       "      <dc:title>Matplotlib v3.3.4, https://matplotlib.org/</dc:title>\n",
       "     </cc:Agent>\n",
       "    </dc:creator>\n",
       "   </cc:Work>\n",
       "  </rdf:RDF>\n",
       " </metadata>\n",
       " <defs>\n",
       "  <style type=\"text/css\">*{stroke-linecap:butt;stroke-linejoin:round;}</style>\n",
       " </defs>\n",
       " <g id=\"figure_1\">\n",
       "  <g id=\"patch_1\">\n",
       "   <path d=\"M 0 246.96 \n",
       "L 349.2 246.96 \n",
       "L 349.2 0 \n",
       "L 0 0 \n",
       "z\n",
       "\" style=\"fill:none;\"/>\n",
       "  </g>\n",
       "  <g id=\"axes_1\">\n",
       "   <g id=\"patch_2\">\n",
       "    <path clip-path=\"url(#p47a9697a92)\" d=\"M 312.947107 49.850872 \n",
       "Q 312.947107 131.039978 312.947107 211.111051 \n",
       "\" style=\"fill:none;stroke:#0000ff;stroke-linecap:round;\"/>\n",
       "    <path clip-path=\"url(#p47a9697a92)\" d=\"M 314.947107 207.111051 \n",
       "L 312.947107 211.111051 \n",
       "L 310.947107 207.111051 \n",
       "L 314.947107 207.111051 \n",
       "z\n",
       "\" style=\"fill:#0000ff;stroke:#0000ff;stroke-linecap:round;\"/>\n",
       "   </g>\n",
       "   <g id=\"patch_3\">\n",
       "    <path clip-path=\"url(#p47a9697a92)\" d=\"M 304.709949 218.216377 \n",
       "Q 174.60028 175.965711 45.553984 134.060354 \n",
       "\" style=\"fill:none;stroke:#0000ff;stroke-linecap:round;\"/>\n",
       "    <path clip-path=\"url(#p47a9697a92)\" d=\"M 48.740711 137.197992 \n",
       "L 45.553984 134.060354 \n",
       "L 49.97613 133.393555 \n",
       "L 48.740711 137.197992 \n",
       "z\n",
       "\" style=\"fill:#0000ff;stroke:#0000ff;stroke-linecap:round;\"/>\n",
       "   </g>\n",
       "   <g id=\"patch_4\">\n",
       "    <path clip-path=\"url(#p47a9697a92)\" d=\"M 304.297388 40.695971 \n",
       "Q 157.599783 33.762222 42.963133 125.559231 \n",
       "\" style=\"fill:none;stroke:#ff0000;stroke-linecap:round;\"/>\n",
       "   </g>\n",
       "   <g id=\"PathCollection_1\">\n",
       "    <defs>\n",
       "     <path d=\"M 0 9.354143 \n",
       "C 2.480748 9.354143 4.860225 8.368532 6.614378 6.614378 \n",
       "C 8.368532 4.860225 9.354143 2.480748 9.354143 0 \n",
       "C 9.354143 -2.480748 8.368532 -4.860225 6.614378 -6.614378 \n",
       "C 4.860225 -8.368532 2.480748 -9.354143 0 -9.354143 \n",
       "C -2.480748 -9.354143 -4.860225 -8.368532 -6.614378 -6.614378 \n",
       "C -8.368532 -4.860225 -9.354143 -2.480748 -9.354143 0 \n",
       "C -9.354143 2.480748 -8.368532 4.860225 -6.614378 6.614378 \n",
       "C -4.860225 8.368532 -2.480748 9.354143 0 9.354143 \n",
       "z\n",
       "\" id=\"m2bacc05dd8\" style=\"stroke:#ffffff;\"/>\n",
       "    </defs>\n",
       "    <g clip-path=\"url(#p47a9697a92)\">\n",
       "     <use style=\"fill:#ffffff;stroke:#ffffff;\" x=\"312.947107\" xlink:href=\"#m2bacc05dd8\" y=\"41.18876\"/>\n",
       "     <use style=\"fill:#ffffff;stroke:#ffffff;\" x=\"36.252893\" xlink:href=\"#m2bacc05dd8\" y=\"131.04\"/>\n",
       "     <use style=\"fill:#ffffff;stroke:#ffffff;\" x=\"312.947107\" xlink:href=\"#m2bacc05dd8\" y=\"220.89124\"/>\n",
       "    </g>\n",
       "   </g>\n",
       "   <g id=\"text_1\">\n",
       "    <g clip-path=\"url(#p47a9697a92)\">\n",
       "     <!-- $W_1$ -->\n",
       "     <g transform=\"translate(304.127107 44.50001)scale(0.12 -0.12)\">\n",
       "      <defs>\n",
       "       <path d=\"M 9.625 72.90625 \n",
       "L 19.1875 72.90625 \n",
       "L 22.703125 10.890625 \n",
       "L 50.203125 72.90625 \n",
       "L 61.1875 72.90625 \n",
       "L 64.796875 10.890625 \n",
       "L 92 72.90625 \n",
       "L 102 72.90625 \n",
       "L 69.578125 0 \n",
       "L 57.171875 0 \n",
       "L 53.8125 60.796875 \n",
       "L 26.515625 0 \n",
       "L 14.109375 0 \n",
       "z\n",
       "\" id=\"DejaVuSans-Oblique-87\"/>\n",
       "       <path d=\"M 12.40625 8.296875 \n",
       "L 28.515625 8.296875 \n",
       "L 28.515625 63.921875 \n",
       "L 10.984375 60.40625 \n",
       "L 10.984375 69.390625 \n",
       "L 28.421875 72.90625 \n",
       "L 38.28125 72.90625 \n",
       "L 38.28125 8.296875 \n",
       "L 54.390625 8.296875 \n",
       "L 54.390625 0 \n",
       "L 12.40625 0 \n",
       "z\n",
       "\" id=\"DejaVuSans-49\"/>\n",
       "      </defs>\n",
       "      <use transform=\"translate(0 0.09375)\" xlink:href=\"#DejaVuSans-Oblique-87\"/>\n",
       "      <use transform=\"translate(98.876953 -16.3125)scale(0.7)\" xlink:href=\"#DejaVuSans-49\"/>\n",
       "     </g>\n",
       "    </g>\n",
       "   </g>\n",
       "   <g id=\"text_2\">\n",
       "    <g clip-path=\"url(#p47a9697a92)\">\n",
       "     <!-- $Y_1$ -->\n",
       "     <g transform=\"translate(29.712893 134.35125)scale(0.12 -0.12)\">\n",
       "      <defs>\n",
       "       <path d=\"M 6.296875 72.90625 \n",
       "L 16.890625 72.90625 \n",
       "L 30.515625 42.921875 \n",
       "L 56.5 72.90625 \n",
       "L 67.578125 72.90625 \n",
       "L 34.515625 34.71875 \n",
       "L 27.78125 0 \n",
       "L 17.921875 0 \n",
       "L 24.609375 34.71875 \n",
       "z\n",
       "\" id=\"DejaVuSans-Oblique-89\"/>\n",
       "      </defs>\n",
       "      <use transform=\"translate(0 0.09375)\" xlink:href=\"#DejaVuSans-Oblique-89\"/>\n",
       "      <use transform=\"translate(61.083984 -16.3125)scale(0.7)\" xlink:href=\"#DejaVuSans-49\"/>\n",
       "     </g>\n",
       "    </g>\n",
       "   </g>\n",
       "   <g id=\"text_3\">\n",
       "    <g clip-path=\"url(#p47a9697a92)\">\n",
       "     <!-- $X$ -->\n",
       "     <g transform=\"translate(308.807107 224.20249)scale(0.12 -0.12)\">\n",
       "      <defs>\n",
       "       <path d=\"M 13.71875 72.90625 \n",
       "L 23.6875 72.90625 \n",
       "L 36.1875 46.578125 \n",
       "L 58.796875 72.90625 \n",
       "L 70.3125 72.90625 \n",
       "L 40.28125 38.09375 \n",
       "L 58.40625 0 \n",
       "L 48.484375 0 \n",
       "L 33.796875 30.71875 \n",
       "L 7.171875 0 \n",
       "L -4.296875 0 \n",
       "L 29.78125 39.203125 \n",
       "z\n",
       "\" id=\"DejaVuSans-Oblique-88\"/>\n",
       "      </defs>\n",
       "      <use transform=\"translate(0 0.09375)\" xlink:href=\"#DejaVuSans-Oblique-88\"/>\n",
       "     </g>\n",
       "    </g>\n",
       "   </g>\n",
       "   <g id=\"text_4\">\n",
       "    <!-- $P({Y_1}_{W_1, X})$ -->\n",
       "    <g transform=\"translate(148.38 16.32)scale(0.12 -0.12)\">\n",
       "     <defs>\n",
       "      <path d=\"M 16.890625 72.90625 \n",
       "L 39.703125 72.90625 \n",
       "Q 49.65625 72.90625 54.875 68.265625 \n",
       "Q 60.109375 63.625 60.109375 54.6875 \n",
       "Q 60.109375 42.671875 52.390625 35.984375 \n",
       "Q 44.671875 29.296875 30.71875 29.296875 \n",
       "L 18.3125 29.296875 \n",
       "L 12.59375 0 \n",
       "L 2.6875 0 \n",
       "z\n",
       "M 25.203125 64.796875 \n",
       "L 19.921875 37.40625 \n",
       "L 32.328125 37.40625 \n",
       "Q 40.71875 37.40625 45.203125 41.703125 \n",
       "Q 49.703125 46 49.703125 54 \n",
       "Q 49.703125 59.125 46.65625 61.953125 \n",
       "Q 43.609375 64.796875 38.09375 64.796875 \n",
       "z\n",
       "\" id=\"DejaVuSans-Oblique-80\"/>\n",
       "      <path d=\"M 31 75.875 \n",
       "Q 24.46875 64.65625 21.28125 53.65625 \n",
       "Q 18.109375 42.671875 18.109375 31.390625 \n",
       "Q 18.109375 20.125 21.3125 9.0625 \n",
       "Q 24.515625 -2 31 -13.1875 \n",
       "L 23.1875 -13.1875 \n",
       "Q 15.875 -1.703125 12.234375 9.375 \n",
       "Q 8.59375 20.453125 8.59375 31.390625 \n",
       "Q 8.59375 42.28125 12.203125 53.3125 \n",
       "Q 15.828125 64.359375 23.1875 75.875 \n",
       "z\n",
       "\" id=\"DejaVuSans-40\"/>\n",
       "      <path d=\"M 11.71875 12.40625 \n",
       "L 22.015625 12.40625 \n",
       "L 22.015625 4 \n",
       "L 14.015625 -11.625 \n",
       "L 7.71875 -11.625 \n",
       "L 11.71875 4 \n",
       "z\n",
       "\" id=\"DejaVuSans-44\"/>\n",
       "      <path d=\"M 8.015625 75.875 \n",
       "L 15.828125 75.875 \n",
       "Q 23.140625 64.359375 26.78125 53.3125 \n",
       "Q 30.421875 42.28125 30.421875 31.390625 \n",
       "Q 30.421875 20.453125 26.78125 9.375 \n",
       "Q 23.140625 -1.703125 15.828125 -13.1875 \n",
       "L 8.015625 -13.1875 \n",
       "Q 14.5 -2 17.703125 9.0625 \n",
       "Q 20.90625 20.125 20.90625 31.390625 \n",
       "Q 20.90625 42.671875 17.703125 53.65625 \n",
       "Q 14.5 64.65625 8.015625 75.875 \n",
       "z\n",
       "\" id=\"DejaVuSans-41\"/>\n",
       "     </defs>\n",
       "     <use transform=\"translate(0 0.125)\" xlink:href=\"#DejaVuSans-Oblique-80\"/>\n",
       "     <use transform=\"translate(60.302734 0.125)\" xlink:href=\"#DejaVuSans-40\"/>\n",
       "     <use transform=\"translate(99.316406 0.125)\" xlink:href=\"#DejaVuSans-Oblique-89\"/>\n",
       "     <use transform=\"translate(160.400391 -16.28125)scale(0.7)\" xlink:href=\"#DejaVuSans-49\"/>\n",
       "     <use transform=\"translate(208.62793 -16.28125)scale(0.7)\" xlink:href=\"#DejaVuSans-Oblique-87\"/>\n",
       "     <use transform=\"translate(277.841797 -27.765625)scale(0.49)\" xlink:href=\"#DejaVuSans-49\"/>\n",
       "     <use transform=\"translate(310.931152 -16.28125)scale(0.7)\" xlink:href=\"#DejaVuSans-44\"/>\n",
       "     <use transform=\"translate(346.819824 -16.28125)scale(0.7)\" xlink:href=\"#DejaVuSans-Oblique-88\"/>\n",
       "     <use transform=\"translate(397.508301 0.125)\" xlink:href=\"#DejaVuSans-41\"/>\n",
       "    </g>\n",
       "   </g>\n",
       "  </g>\n",
       " </g>\n",
       " <defs>\n",
       "  <clipPath id=\"p47a9697a92\">\n",
       "   <rect height=\"217.44\" width=\"334.8\" x=\"7.2\" y=\"22.32\"/>\n",
       "  </clipPath>\n",
       " </defs>\n",
       "</svg>\n"
      ],
      "text/plain": [
       "<Figure size 432x288 with 1 Axes>"
      ]
     },
     "metadata": {},
     "output_type": "display_data"
    },
    {
     "data": {
      "application/javascript": [
       "\n",
       "            setTimeout(function() {\n",
       "                var nbb_cell_id = 14;\n",
       "                var nbb_unformatted_code = \"y1_line_2_out.graph.draw(title=y1_line_2_out.query.expression._repr_latex_())\";\n",
       "                var nbb_formatted_code = \"y1_line_2_out.graph.draw(title=y1_line_2_out.query.expression._repr_latex_())\";\n",
       "                var nbb_cells = Jupyter.notebook.get_cells();\n",
       "                for (var i = 0; i < nbb_cells.length; ++i) {\n",
       "                    if (nbb_cells[i].input_prompt_number == nbb_cell_id) {\n",
       "                        if (nbb_cells[i].get_text() == nbb_unformatted_code) {\n",
       "                             nbb_cells[i].set_text(nbb_formatted_code);\n",
       "                        }\n",
       "                        break;\n",
       "                    }\n",
       "                }\n",
       "            }, 500);\n",
       "            "
      ],
      "text/plain": [
       "<IPython.core.display.Javascript object>"
      ]
     },
     "metadata": {},
     "output_type": "display_data"
    }
   ],
   "source": [
    "y1_line_2_out.graph.draw(title=y1_line_2_out.query.expression._repr_latex_())"
   ]
  },
  {
   "cell_type": "markdown",
   "metadata": {},
   "source": [
    "Next we trigger line 7, reducing the problem to computing $P_{w_1}(y_1)$ from $P(y_1|x,w_1)P(w_1)$."
   ]
  },
  {
   "cell_type": "code",
   "execution_count": 15,
   "metadata": {},
   "outputs": [
    {
     "data": {
      "text/markdown": [
       "Query: $P({Y_1}_{W_1})$"
      ],
      "text/plain": [
       "<IPython.core.display.Markdown object>"
      ]
     },
     "metadata": {},
     "output_type": "display_data"
    },
    {
     "data": {
      "text/latex": [
       "$P(W_1) P(Y_1 | W_1, X)$"
      ],
      "text/plain": [
       "P(W1) * P(Y1 | W1, X)"
      ]
     },
     "metadata": {},
     "output_type": "display_data"
    },
    {
     "data": {
      "application/javascript": [
       "\n",
       "            setTimeout(function() {\n",
       "                var nbb_cell_id = 15;\n",
       "                var nbb_unformatted_code = \"y1_line_7_out = line_7(y1_line_2_out)\\ndisplay(Markdown(f\\\"Query: {y1_line_7_out.query.expression._repr_latex_()}\\\"))\\ndisplay(y1_line_7_out.estimand)\";\n",
       "                var nbb_formatted_code = \"y1_line_7_out = line_7(y1_line_2_out)\\ndisplay(Markdown(f\\\"Query: {y1_line_7_out.query.expression._repr_latex_()}\\\"))\\ndisplay(y1_line_7_out.estimand)\";\n",
       "                var nbb_cells = Jupyter.notebook.get_cells();\n",
       "                for (var i = 0; i < nbb_cells.length; ++i) {\n",
       "                    if (nbb_cells[i].input_prompt_number == nbb_cell_id) {\n",
       "                        if (nbb_cells[i].get_text() == nbb_unformatted_code) {\n",
       "                             nbb_cells[i].set_text(nbb_formatted_code);\n",
       "                        }\n",
       "                        break;\n",
       "                    }\n",
       "                }\n",
       "            }, 500);\n",
       "            "
      ],
      "text/plain": [
       "<IPython.core.display.Javascript object>"
      ]
     },
     "metadata": {},
     "output_type": "display_data"
    }
   ],
   "source": [
    "y1_line_7_out = line_7(y1_line_2_out)\n",
    "display(Markdown(f\"Query: {y1_line_7_out.query.expression._repr_latex_()}\"))\n",
    "display(y1_line_7_out.estimand)"
   ]
  },
  {
   "cell_type": "markdown",
   "metadata": {},
   "source": [
    "The corresponding $G$ is shown in Figure 4(b).\n",
    "![Figure4](images/Figure-4a.png)"
   ]
  },
  {
   "cell_type": "code",
   "execution_count": 16,
   "metadata": {},
   "outputs": [
    {
     "data": {
      "text/latex": [
       "$\\sum_{W_1} P(W_1) P(Y_1 | W_1, X)$"
      ],
      "text/plain": [
       "Sum[W1](P(W1) * P(Y1 | W1, X))"
      ]
     },
     "execution_count": 16,
     "metadata": {},
     "output_type": "execute_result"
    },
    {
     "data": {
      "application/javascript": [
       "\n",
       "            setTimeout(function() {\n",
       "                var nbb_cell_id = 16;\n",
       "                var nbb_unformatted_code = \"identify(y1_line_7_out)\";\n",
       "                var nbb_formatted_code = \"identify(y1_line_7_out)\";\n",
       "                var nbb_cells = Jupyter.notebook.get_cells();\n",
       "                for (var i = 0; i < nbb_cells.length; ++i) {\n",
       "                    if (nbb_cells[i].input_prompt_number == nbb_cell_id) {\n",
       "                        if (nbb_cells[i].get_text() == nbb_unformatted_code) {\n",
       "                             nbb_cells[i].set_text(nbb_formatted_code);\n",
       "                        }\n",
       "                        break;\n",
       "                    }\n",
       "                }\n",
       "            }, 500);\n",
       "            "
      ],
      "text/plain": [
       "<IPython.core.display.Javascript object>"
      ]
     },
     "metadata": {},
     "output_type": "display_data"
    }
   ],
   "source": [
    "identify(y1_line_7_out)"
   ]
  },
  {
   "cell_type": "code",
   "execution_count": 17,
   "metadata": {},
   "outputs": [
    {
     "data": {
      "image/svg+xml": [
       "<?xml version=\"1.0\" encoding=\"utf-8\" standalone=\"no\"?>\n",
       "<!DOCTYPE svg PUBLIC \"-//W3C//DTD SVG 1.1//EN\"\n",
       "  \"http://www.w3.org/Graphics/SVG/1.1/DTD/svg11.dtd\">\n",
       "<!-- Created with matplotlib (https://matplotlib.org/) -->\n",
       "<svg height=\"246.96pt\" version=\"1.1\" viewBox=\"0 0 349.2 246.96\" width=\"349.2pt\" xmlns=\"http://www.w3.org/2000/svg\" xmlns:xlink=\"http://www.w3.org/1999/xlink\">\n",
       " <metadata>\n",
       "  <rdf:RDF xmlns:cc=\"http://creativecommons.org/ns#\" xmlns:dc=\"http://purl.org/dc/elements/1.1/\" xmlns:rdf=\"http://www.w3.org/1999/02/22-rdf-syntax-ns#\">\n",
       "   <cc:Work>\n",
       "    <dc:type rdf:resource=\"http://purl.org/dc/dcmitype/StillImage\"/>\n",
       "    <dc:date>2021-07-21T12:58:03.010257</dc:date>\n",
       "    <dc:format>image/svg+xml</dc:format>\n",
       "    <dc:creator>\n",
       "     <cc:Agent>\n",
       "      <dc:title>Matplotlib v3.3.4, https://matplotlib.org/</dc:title>\n",
       "     </cc:Agent>\n",
       "    </dc:creator>\n",
       "   </cc:Work>\n",
       "  </rdf:RDF>\n",
       " </metadata>\n",
       " <defs>\n",
       "  <style type=\"text/css\">*{stroke-linecap:butt;stroke-linejoin:round;}</style>\n",
       " </defs>\n",
       " <g id=\"figure_1\">\n",
       "  <g id=\"patch_1\">\n",
       "   <path d=\"M 0 246.96 \n",
       "L 349.2 246.96 \n",
       "L 349.2 0 \n",
       "L 0 0 \n",
       "z\n",
       "\" style=\"fill:none;\"/>\n",
       "  </g>\n",
       "  <g id=\"axes_1\">\n",
       "   <g id=\"patch_2\">\n",
       "    <path clip-path=\"url(#pdec2980126)\" d=\"M 323.690856 49.280527 \n",
       "Q 293.931739 131.041499 323.691948 212.802472 \n",
       "\" style=\"fill:none;stroke:#ff0000;stroke-linecap:round;\"/>\n",
       "   </g>\n",
       "   <g id=\"PathCollection_1\">\n",
       "    <defs>\n",
       "     <path d=\"M 0 9.354143 \n",
       "C 2.480748 9.354143 4.860225 8.368532 6.614378 6.614378 \n",
       "C 8.368532 4.860225 9.354143 2.480748 9.354143 0 \n",
       "C 9.354143 -2.480748 8.368532 -4.860225 6.614378 -6.614378 \n",
       "C 4.860225 -8.368532 2.480748 -9.354143 0 -9.354143 \n",
       "C -2.480748 -9.354143 -4.860225 -8.368532 -6.614378 -6.614378 \n",
       "C -8.368532 -4.860225 -9.354143 -2.480748 -9.354143 0 \n",
       "C -9.354143 2.480748 -8.368532 4.860225 -6.614378 6.614378 \n",
       "C -4.860225 8.368532 -2.480748 9.354143 0 9.354143 \n",
       "z\n",
       "\" id=\"m221e2eb6ea\" style=\"stroke:#ffffff;\"/>\n",
       "    </defs>\n",
       "    <g clip-path=\"url(#pdec2980126)\">\n",
       "     <use style=\"fill:#ffffff;stroke:#ffffff;\" x=\"326.781818\" xlink:href=\"#m221e2eb6ea\" y=\"41.18876\"/>\n",
       "     <use style=\"fill:#ffffff;stroke:#ffffff;\" x=\"326.781818\" xlink:href=\"#m221e2eb6ea\" y=\"220.89124\"/>\n",
       "    </g>\n",
       "   </g>\n",
       "   <g id=\"text_1\">\n",
       "    <g clip-path=\"url(#pdec2980126)\">\n",
       "     <!-- $W_1$ -->\n",
       "     <g transform=\"translate(317.961818 44.50001)scale(0.12 -0.12)\">\n",
       "      <defs>\n",
       "       <path d=\"M 9.625 72.90625 \n",
       "L 19.1875 72.90625 \n",
       "L 22.703125 10.890625 \n",
       "L 50.203125 72.90625 \n",
       "L 61.1875 72.90625 \n",
       "L 64.796875 10.890625 \n",
       "L 92 72.90625 \n",
       "L 102 72.90625 \n",
       "L 69.578125 0 \n",
       "L 57.171875 0 \n",
       "L 53.8125 60.796875 \n",
       "L 26.515625 0 \n",
       "L 14.109375 0 \n",
       "z\n",
       "\" id=\"DejaVuSans-Oblique-87\"/>\n",
       "       <path d=\"M 12.40625 8.296875 \n",
       "L 28.515625 8.296875 \n",
       "L 28.515625 63.921875 \n",
       "L 10.984375 60.40625 \n",
       "L 10.984375 69.390625 \n",
       "L 28.421875 72.90625 \n",
       "L 38.28125 72.90625 \n",
       "L 38.28125 8.296875 \n",
       "L 54.390625 8.296875 \n",
       "L 54.390625 0 \n",
       "L 12.40625 0 \n",
       "z\n",
       "\" id=\"DejaVuSans-49\"/>\n",
       "      </defs>\n",
       "      <use transform=\"translate(0 0.09375)\" xlink:href=\"#DejaVuSans-Oblique-87\"/>\n",
       "      <use transform=\"translate(98.876953 -16.3125)scale(0.7)\" xlink:href=\"#DejaVuSans-49\"/>\n",
       "     </g>\n",
       "    </g>\n",
       "   </g>\n",
       "   <g id=\"text_2\">\n",
       "    <g clip-path=\"url(#pdec2980126)\">\n",
       "     <!-- $Y_1$ -->\n",
       "     <g transform=\"translate(320.241818 224.20249)scale(0.12 -0.12)\">\n",
       "      <defs>\n",
       "       <path d=\"M 6.296875 72.90625 \n",
       "L 16.890625 72.90625 \n",
       "L 30.515625 42.921875 \n",
       "L 56.5 72.90625 \n",
       "L 67.578125 72.90625 \n",
       "L 34.515625 34.71875 \n",
       "L 27.78125 0 \n",
       "L 17.921875 0 \n",
       "L 24.609375 34.71875 \n",
       "z\n",
       "\" id=\"DejaVuSans-Oblique-89\"/>\n",
       "      </defs>\n",
       "      <use transform=\"translate(0 0.09375)\" xlink:href=\"#DejaVuSans-Oblique-89\"/>\n",
       "      <use transform=\"translate(61.083984 -16.3125)scale(0.7)\" xlink:href=\"#DejaVuSans-49\"/>\n",
       "     </g>\n",
       "    </g>\n",
       "   </g>\n",
       "   <g id=\"text_3\">\n",
       "    <!-- $P({Y_1}_{W_1})$ -->\n",
       "    <g transform=\"translate(153.42 16.32)scale(0.12 -0.12)\">\n",
       "     <defs>\n",
       "      <path d=\"M 16.890625 72.90625 \n",
       "L 39.703125 72.90625 \n",
       "Q 49.65625 72.90625 54.875 68.265625 \n",
       "Q 60.109375 63.625 60.109375 54.6875 \n",
       "Q 60.109375 42.671875 52.390625 35.984375 \n",
       "Q 44.671875 29.296875 30.71875 29.296875 \n",
       "L 18.3125 29.296875 \n",
       "L 12.59375 0 \n",
       "L 2.6875 0 \n",
       "z\n",
       "M 25.203125 64.796875 \n",
       "L 19.921875 37.40625 \n",
       "L 32.328125 37.40625 \n",
       "Q 40.71875 37.40625 45.203125 41.703125 \n",
       "Q 49.703125 46 49.703125 54 \n",
       "Q 49.703125 59.125 46.65625 61.953125 \n",
       "Q 43.609375 64.796875 38.09375 64.796875 \n",
       "z\n",
       "\" id=\"DejaVuSans-Oblique-80\"/>\n",
       "      <path d=\"M 31 75.875 \n",
       "Q 24.46875 64.65625 21.28125 53.65625 \n",
       "Q 18.109375 42.671875 18.109375 31.390625 \n",
       "Q 18.109375 20.125 21.3125 9.0625 \n",
       "Q 24.515625 -2 31 -13.1875 \n",
       "L 23.1875 -13.1875 \n",
       "Q 15.875 -1.703125 12.234375 9.375 \n",
       "Q 8.59375 20.453125 8.59375 31.390625 \n",
       "Q 8.59375 42.28125 12.203125 53.3125 \n",
       "Q 15.828125 64.359375 23.1875 75.875 \n",
       "z\n",
       "\" id=\"DejaVuSans-40\"/>\n",
       "      <path d=\"M 8.015625 75.875 \n",
       "L 15.828125 75.875 \n",
       "Q 23.140625 64.359375 26.78125 53.3125 \n",
       "Q 30.421875 42.28125 30.421875 31.390625 \n",
       "Q 30.421875 20.453125 26.78125 9.375 \n",
       "Q 23.140625 -1.703125 15.828125 -13.1875 \n",
       "L 8.015625 -13.1875 \n",
       "Q 14.5 -2 17.703125 9.0625 \n",
       "Q 20.90625 20.125 20.90625 31.390625 \n",
       "Q 20.90625 42.671875 17.703125 53.65625 \n",
       "Q 14.5 64.65625 8.015625 75.875 \n",
       "z\n",
       "\" id=\"DejaVuSans-41\"/>\n",
       "     </defs>\n",
       "     <use transform=\"translate(0 0.125)\" xlink:href=\"#DejaVuSans-Oblique-80\"/>\n",
       "     <use transform=\"translate(60.302734 0.125)\" xlink:href=\"#DejaVuSans-40\"/>\n",
       "     <use transform=\"translate(99.316406 0.125)\" xlink:href=\"#DejaVuSans-Oblique-89\"/>\n",
       "     <use transform=\"translate(160.400391 -16.28125)scale(0.7)\" xlink:href=\"#DejaVuSans-49\"/>\n",
       "     <use transform=\"translate(208.62793 -16.28125)scale(0.7)\" xlink:href=\"#DejaVuSans-Oblique-87\"/>\n",
       "     <use transform=\"translate(277.841797 -27.765625)scale(0.49)\" xlink:href=\"#DejaVuSans-49\"/>\n",
       "     <use transform=\"translate(313.665527 0.125)\" xlink:href=\"#DejaVuSans-41\"/>\n",
       "    </g>\n",
       "   </g>\n",
       "  </g>\n",
       " </g>\n",
       " <defs>\n",
       "  <clipPath id=\"pdec2980126\">\n",
       "   <rect height=\"217.44\" width=\"334.8\" x=\"7.2\" y=\"22.32\"/>\n",
       "  </clipPath>\n",
       " </defs>\n",
       "</svg>\n"
      ],
      "text/plain": [
       "<Figure size 432x288 with 1 Axes>"
      ]
     },
     "metadata": {},
     "output_type": "display_data"
    },
    {
     "data": {
      "application/javascript": [
       "\n",
       "            setTimeout(function() {\n",
       "                var nbb_cell_id = 17;\n",
       "                var nbb_unformatted_code = \"y1_line_7_out.graph.draw(title=y1_line_7_out.query.expression._repr_latex_())\";\n",
       "                var nbb_formatted_code = \"y1_line_7_out.graph.draw(title=y1_line_7_out.query.expression._repr_latex_())\";\n",
       "                var nbb_cells = Jupyter.notebook.get_cells();\n",
       "                for (var i = 0; i < nbb_cells.length; ++i) {\n",
       "                    if (nbb_cells[i].input_prompt_number == nbb_cell_id) {\n",
       "                        if (nbb_cells[i].get_text() == nbb_unformatted_code) {\n",
       "                             nbb_cells[i].set_text(nbb_formatted_code);\n",
       "                        }\n",
       "                        break;\n",
       "                    }\n",
       "                }\n",
       "            }, 500);\n",
       "            "
      ],
      "text/plain": [
       "<IPython.core.display.Javascript object>"
      ]
     },
     "metadata": {},
     "output_type": "display_data"
    }
   ],
   "source": [
    "y1_line_7_out.graph.draw(title=y1_line_7_out.query.expression._repr_latex_())"
   ]
  },
  {
   "cell_type": "markdown",
   "metadata": {},
   "source": [
    "Finally, we trigger line 2, obtaining $P_{w_1}(y_1)=\\sum_{w_1}P(y_1|x,w_1)P(w_1)$."
   ]
  },
  {
   "cell_type": "code",
   "execution_count": 18,
   "metadata": {},
   "outputs": [
    {
     "data": {
      "text/markdown": [
       "Query: $P(Y_1)$"
      ],
      "text/plain": [
       "<IPython.core.display.Markdown object>"
      ]
     },
     "metadata": {},
     "output_type": "display_data"
    },
    {
     "data": {
      "text/markdown": [
       "Estimand: "
      ],
      "text/plain": [
       "<IPython.core.display.Markdown object>"
      ]
     },
     "metadata": {},
     "output_type": "display_data"
    },
    {
     "data": {
      "text/latex": [
       "$\\sum_{W_1} P(W_1) P(Y_1 | W_1, X)$"
      ],
      "text/plain": [
       "Sum[W1](P(W1) * P(Y1 | W1, X))"
      ]
     },
     "metadata": {},
     "output_type": "display_data"
    },
    {
     "data": {
      "application/javascript": [
       "\n",
       "            setTimeout(function() {\n",
       "                var nbb_cell_id = 18;\n",
       "                var nbb_unformatted_code = \"y1_line_2_out = line_2(y1_line_7_out)\\ndisplay(Markdown(f\\\"Query: {y1_line_2_out.query.expression._repr_latex_()}\\\"))\\ndisplay(Markdown(r\\\"Estimand: \\\"))\\ndisplay(y1_line_2_out.estimand)\";\n",
       "                var nbb_formatted_code = \"y1_line_2_out = line_2(y1_line_7_out)\\ndisplay(Markdown(f\\\"Query: {y1_line_2_out.query.expression._repr_latex_()}\\\"))\\ndisplay(Markdown(r\\\"Estimand: \\\"))\\ndisplay(y1_line_2_out.estimand)\";\n",
       "                var nbb_cells = Jupyter.notebook.get_cells();\n",
       "                for (var i = 0; i < nbb_cells.length; ++i) {\n",
       "                    if (nbb_cells[i].input_prompt_number == nbb_cell_id) {\n",
       "                        if (nbb_cells[i].get_text() == nbb_unformatted_code) {\n",
       "                             nbb_cells[i].set_text(nbb_formatted_code);\n",
       "                        }\n",
       "                        break;\n",
       "                    }\n",
       "                }\n",
       "            }, 500);\n",
       "            "
      ],
      "text/plain": [
       "<IPython.core.display.Javascript object>"
      ]
     },
     "metadata": {},
     "output_type": "display_data"
    }
   ],
   "source": [
    "y1_line_2_out = line_2(y1_line_7_out)\n",
    "display(Markdown(f\"Query: {y1_line_2_out.query.expression._repr_latex_()}\"))\n",
    "display(Markdown(r\"Estimand: \"))\n",
    "display(y1_line_2_out.estimand)"
   ]
  },
  {
   "cell_type": "code",
   "execution_count": 19,
   "metadata": {},
   "outputs": [
    {
     "data": {
      "text/latex": [
       "$\\sum_{W_1} P(W_1) P(Y_1 | W_1, X)$"
      ],
      "text/plain": [
       "Sum[W1](P(W1) * P(Y1 | W1, X))"
      ]
     },
     "execution_count": 19,
     "metadata": {},
     "output_type": "execute_result"
    },
    {
     "data": {
      "application/javascript": [
       "\n",
       "            setTimeout(function() {\n",
       "                var nbb_cell_id = 19;\n",
       "                var nbb_unformatted_code = \"line_1(y1_line_2_out)\";\n",
       "                var nbb_formatted_code = \"line_1(y1_line_2_out)\";\n",
       "                var nbb_cells = Jupyter.notebook.get_cells();\n",
       "                for (var i = 0; i < nbb_cells.length; ++i) {\n",
       "                    if (nbb_cells[i].input_prompt_number == nbb_cell_id) {\n",
       "                        if (nbb_cells[i].get_text() == nbb_unformatted_code) {\n",
       "                             nbb_cells[i].set_text(nbb_formatted_code);\n",
       "                        }\n",
       "                        break;\n",
       "                    }\n",
       "                }\n",
       "            }, 500);\n",
       "            "
      ],
      "text/plain": [
       "<IPython.core.display.Javascript object>"
      ]
     },
     "metadata": {},
     "output_type": "display_data"
    }
   ],
   "source": [
    "line_1(y1_line_2_out)"
   ]
  },
  {
   "cell_type": "markdown",
   "metadata": {},
   "source": [
    "Putting everything together, we obtain $P_x(y_1,y_2)=\\sum_{w_2}P(y_2|w_2)P(w_2)\\sum_{w_1}P(y_1|x,w_1)P(w_1)$."
   ]
  },
  {
   "cell_type": "code",
   "execution_count": 20,
   "metadata": {
    "scrolled": true
   },
   "outputs": [
    {
     "data": {
      "text/latex": [
       "$\\sum_{W_2} P(Y_2 | W_2) \\sum_{W_1, X, Y_1, Y_2} P(W_1, W_2, X, Y_1, Y_2) \\sum_{W_1} P(W_1) P(Y_1 | W_1, X)$"
      ],
      "text/plain": [
       "Sum[W2](P(Y2 | W2) * Sum[W1, X, Y1, Y2](P(W1, W2, X, Y1, Y2)) * Sum[W1](P(W1) * P(Y1 | W1, X)))"
      ]
     },
     "execution_count": 20,
     "metadata": {},
     "output_type": "execute_result"
    },
    {
     "data": {
      "application/javascript": [
       "\n",
       "            setTimeout(function() {\n",
       "                var nbb_cell_id = 20;\n",
       "                var nbb_unformatted_code = \"identify(id_in)\";\n",
       "                var nbb_formatted_code = \"identify(id_in)\";\n",
       "                var nbb_cells = Jupyter.notebook.get_cells();\n",
       "                for (var i = 0; i < nbb_cells.length; ++i) {\n",
       "                    if (nbb_cells[i].input_prompt_number == nbb_cell_id) {\n",
       "                        if (nbb_cells[i].get_text() == nbb_unformatted_code) {\n",
       "                             nbb_cells[i].set_text(nbb_formatted_code);\n",
       "                        }\n",
       "                        break;\n",
       "                    }\n",
       "                }\n",
       "            }, 500);\n",
       "            "
      ],
      "text/plain": [
       "<IPython.core.display.Javascript object>"
      ]
     },
     "metadata": {},
     "output_type": "display_data"
    }
   ],
   "source": [
    "identify(id_in)"
   ]
  },
  {
   "cell_type": "markdown",
   "metadata": {},
   "source": [
    "# IDC algorithm\n",
    "\n",
    "$$\\newcommand\\ci{\\perp\\!\\!\\!\\perp}$$\n",
    "$$\\newcommand{\\ubar}[1]{\\underset{\\bar{}}{#1}}\n",
    "\\newcommand{\\obar}[1]{\\overset{\\bar{}}{#1}}$$\n",
    "\n",
    "$\\text{function }\\mathbf{IDC}\\left(\\mathbf y, \\mathbf x,\\mathbf z, P, G\\right) \\\\ \\text{INPUT: } \\mathbf{x,y, z}\\text{ value assignments, $P$ a probability distribution, $G$ a causal diagram (an I-map of P)}. \\\\  \\text{OUTPUT:  Expression for $P_{\\mathbf x}(\\mathbf y|\\mathbf z)$ in terms of $P$ or $\\mathbf{FAIL}(F, F')$} $\n",
    "\n",
    "\n",
    "1. $\\text{if } (\\exists Z \\in \\mathbf{Z})(\\mathbf{Y} \\ci Z | \\mathbf{X}, \\mathbf{Z}- \\{Z\\})_{G_{\\bar{\\mathbf{X}}\\ubar{Z}}} \\\\\n",
    "\\text{return } \\mathbf{IDC}(\\mathbf y, \\mathbf x \\cup \\{z\\}, \\mathbf z - \\{z\\}, P, G)\\\\ $\n",
    "2. $\\text{ else, let } P' = \\mathbf{ID}(\\mathbf y \\cup \\mathbf z, \\mathbf x, P, G). \\\\\n",
    "\\text{ return } P'/\\sum{\\mathbf y}P'$."
   ]
  }
 ],
 "metadata": {
  "kernelspec": {
   "display_name": "anaconda3-2020.11",
   "language": "python",
   "name": "anaconda3-2020.11"
  },
  "language_info": {
   "codemirror_mode": {
    "name": "ipython",
    "version": 3
   },
   "file_extension": ".py",
   "mimetype": "text/x-python",
   "name": "python",
   "nbconvert_exporter": "python",
   "pygments_lexer": "ipython3",
   "version": "3.8.5"
  },
  "latex_envs": {
   "LaTeX_envs_menu_present": false,
   "autoclose": false,
   "autocomplete": false,
   "bibliofile": "biblio.bib",
   "cite_by": "apalike",
   "current_citInitial": 1,
   "eqLabelWithNumbers": true,
   "eqNumInitial": 1,
   "hotkeys": {
    "equation": "ctrl-q"
   },
   "labels_anchors": false,
   "latex_user_defs": false,
   "report_style_numbering": true,
   "user_envs_cfg": false
  },
  "toc": {
   "base_numbering": 1,
   "nav_menu": {},
   "number_sections": true,
   "sideBar": true,
   "skip_h1_title": false,
   "title_cell": "Table of Contents",
   "title_sidebar": "Contents",
   "toc_cell": true,
   "toc_position": {},
   "toc_section_display": true,
   "toc_window_display": true
  }
 },
 "nbformat": 4,
 "nbformat_minor": 4
}
