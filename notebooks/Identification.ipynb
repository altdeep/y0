{
 "cells": [
  {
   "cell_type": "code",
   "execution_count": 2,
   "id": "rough-thunder",
   "metadata": {},
   "outputs": [
    {
     "name": "stderr",
     "output_type": "stream",
     "text": [
      "E\n",
      "======================================================================\n",
      "ERROR: /Users/zuck016/Library/Jupyter/runtime/kernel-1f84011b-44af-470d-aa54-744b67053ec1 (unittest.loader._FailedTest)\n",
      "----------------------------------------------------------------------\n",
      "AttributeError: module '__main__' has no attribute '/Users/zuck016/Library/Jupyter/runtime/kernel-1f84011b-44af-470d-aa54-744b67053ec1'\n",
      "\n",
      "----------------------------------------------------------------------\n",
      "Ran 1 test in 0.002s\n",
      "\n",
      "FAILED (errors=1)\n"
     ]
    },
    {
     "ename": "SystemExit",
     "evalue": "True",
     "output_type": "error",
     "traceback": [
      "An exception has occurred, use %tb to see the full traceback.\n",
      "\u001b[0;31mSystemExit\u001b[0m\u001b[0;31m:\u001b[0m True\n"
     ]
    },
    {
     "name": "stderr",
     "output_type": "stream",
     "text": [
      "/Users/zuck016/.pyenv/versions/anaconda3-2020.11/lib/python3.8/site-packages/IPython/core/interactiveshell.py:3426: UserWarning: To exit: use 'exit', 'quit', or Ctrl-D.\n",
      "  warn(\"To exit: use 'exit', 'quit', or Ctrl-D.\", stacklevel=1)\n"
     ]
    }
   ],
   "source": [
    "#%%writefile ../tests/test_algorithm/test_id_alg.py\n",
    "# -*- coding: utf-8 -*-\n",
    "\n",
    "\n",
    "\"\"\"Tests for the identify algorithm.\"\"\"\n",
    "\n",
    "import unittest\n",
    "\n",
    "from bel2scm import causal_graph as cg\n",
    "from y0.parser.craig.grammar import grammar\n",
    "from y0.dsl import Expression, P, Sum, X, Y, Z\n",
    "from y0.graph import NxMixedGraph\n",
    "#MixedGraph, \n",
    "from y0.algorithm.identify import identify #does not exist yet\n",
    "\n",
    "P_XY = P(X, Y, Z)\n",
    "P_XYZ = P(X, Y, Z)\n",
    "\n",
    "\n",
    "\n",
    "def nxmixedgraph_to_craig(graph:NxMixedGraph):\n",
    "    di_edges = list(self.directed.edges())\n",
    "    bi_edges = list(self.undirected.edges())\n",
    "    vertices = list(self.directed)  # could be either since they're maintained together\n",
    "    str_list = [f'{U} => {V}' for U, V in di_edges]\n",
    "    type_dict = dict([(U, \"continuous\") for U in vertices])\n",
    "    graph_craig = cg.str_graph(str_list,'SCM',type_dict)\n",
    "    graph_craig.add_confound([[U,V] for U,V in bi_edges])\n",
    "    return graph_craig\n",
    "\n",
    "def cause_effect_from_query(query:Expression):\n",
    "    return ['X'],['Y']\n",
    "\n",
    "class TestIdentify(unittest.TestCase):\n",
    "    \"\"\"Test cases from https://github.com/COVID-19-Causal-Reasoning/Y0/blob/master/ID_whittemore.ipynb.\"\"\"\n",
    "\n",
    "    def assert_identify(self, expression: Expression, graph: NxMixedGraph, query: Expression):\n",
    "        \"\"\"Assert that the graph returns the same.\"\"\"\n",
    "        self.assertEqual(expression, identify(graph, query))\n",
    "\n",
    "    def test_figure_2a(self):\n",
    "        \"\"\"Test Figure 2A.\"\"\"\n",
    "        graph = NxMixedGraph()\n",
    "        graph.add_directed_edge('X', 'Y')\n",
    "        print(identify(graph,Y@X).to_text())\n",
    "        expr = '[ sum_{} P(Y|X) ]'\n",
    "        #self.assert_identify(P_XY / Sum[Y](P_XY), graph, Y@X)\n",
    "        self.assert_identify(grammar.parseString(expr)[0], graph, Y@X)\n",
    "        \n",
    "\n",
    "    def test_figure_2b(self):\n",
    "        \"\"\"Test Figure 2B.\"\"\"\n",
    "        graph = NxMixedGraph()\n",
    "        graph.add_directed_edge('X', 'Y')\n",
    "        graph.add_directed_edge('X', 'Z')\n",
    "        graph.add_directed_edge('Z', 'Y')\n",
    "        graph.add_undirected_edge('Y', 'Z')\n",
    "        print(identify(graph,Y@X).to_text())\n",
    "        expr = '[ sum_{Z} P(Z|X) P(Y|X,Z) ]'\n",
    "        #self.assertEqual(\n",
    "        #    Sum[Z](Sum[Y](P_XY) / (Sum[Z](Sum[Y](P_XY))) * (P_XY / Sum[Y](P_XY))),\n",
    "        #    identify(graph, Y@X),\n",
    "        #)\n",
    "        self.assert_identify(grammar.parseString(expr)[0], graph, Y@X)\n",
    "\n",
    "    def test_figure_2c(self):\n",
    "        \"\"\"Test Figure 2C.\"\"\"\n",
    "        graph = NxMixedGraph()\n",
    "        graph.add_directed_edge('X', 'Y')\n",
    "        graph.add_directed_edge('Z', 'X')\n",
    "        graph.add_directed_edge('Z', 'Y')\n",
    "        graph.add_undirected_edge('Y', 'Z')\n",
    "        print(identify(graph,Y@X).to_text())\n",
    "        expr = '[ sum_{Z} P(Z) P(Y|X,Z) ]'\n",
    "\n",
    "        #self.assertEqual(\n",
    "        #    Sum[Z](Sum[X, Y](P_XYZ) / (Sum[Z](Sum[X, Y](P_XYZ))) * (P_XYZ / Sum[Y](P_XYZ))),\n",
    "        #    identify(graph, Y@X),\n",
    "        #)\n",
    "        self.assert_identify(grammar.parseString(expr)[0], graph, Y@X)\n",
    "\n",
    "    def test_figure_2d(self):\n",
    "        \"\"\"Test Figure 2D.\"\"\"\n",
    "        graph = NxMixedGraph()\n",
    "        graph.add_directed_edge('X', 'Y')\n",
    "        graph.add_directed_edge('Z', 'X')\n",
    "        graph.add_directed_edge('Z', 'Y')\n",
    "        graph.add_undirected_edge('X', 'Z')\n",
    "        print(identify(graph,Y@X).to_text())\n",
    "        expr = '[ sum_{Z} [ sum_{} P(Y|X,Z) ] [ sum_{} [ sum_{X,Y} P(X,Y,Z) ] ] ]'\n",
    "\n",
    "#         self.assertEqual(\n",
    "#             Sum[Z](Sum[X, Y](P_XYZ) * P_XYZ / Sum[Y](P_XYZ)),\n",
    "#             identify(graph, Y@X),\n",
    "#         )\n",
    "        self.assert_identify(grammar.parseString(expr)[0], graph, Y@X)\n",
    "\n",
    "    def test_figure_2e(self):\n",
    "        \"\"\"Test Figure 2E.\"\"\"\n",
    "        graph = NxMixedGraph()\n",
    "        graph.add_directed_edge('X', 'Z')\n",
    "        graph.add_directed_edge('Z', 'Y')\n",
    "        graph.add_undirected_edge('X', 'Y')\n",
    "        print('ID output:', identify(graph,Y@X).to_text())\n",
    "        #expr = '[ sum_{Z} [ sum_{} P(Z|X) ] [ sum_{} [ sum_{X} P(Y|X,Z) P(X) ] ] ]'\n",
    "        \n",
    "        expr = '[ sum_{Z} [ sum_{} P(Z|X) ] [ sum_{} [ sum_{X} P(X) P(Y|X,Z) ] ] ]'\n",
    "        print('Expected:',grammar.parseString(expr)[0])\n",
    "#         self.assertEqual(\n",
    "#             (\n",
    "#                 Sum[Z](Sum[Y](P_XYZ) / Sum[Z](Sum[Y](P_XYZ)))\n",
    "#                 * Sum[X](P_XYZ * Sum[Y, Z](P_XYZ) / Sum[Y](P_XYZ) / Sum[X](Sum[Y, Z](P_XYZ)))\n",
    "#             ),\n",
    "#             identify(graph, Y@X),\n",
    "#         )\n",
    "        self.assert_identify(grammar.parseString(expr)[0], graph, Y@X)\n",
    "\n",
    "\n",
    "if __name__ == '__main__':\n",
    "    unittest.main()\n"
   ]
  },
  {
   "cell_type": "code",
   "execution_count": 5,
   "metadata": {},
   "outputs": [
    {
     "data": {
      "text/latex": [
       "$P(X,Y)$"
      ],
      "text/plain": [
       "P(Distribution(children=(Variable(name='X'), Variable(name='Y')), parents=()))"
      ]
     },
     "execution_count": 5,
     "metadata": {},
     "output_type": "execute_result"
    }
   ],
   "source": [
    "from y0.dsl import Expression, P, Sum, X, Y, Z, Variable\n",
    "from y0.graph import NxMixedGraph\n",
    "\n",
    "from y0.algorithm.identify import identify #does not exist yet\n",
    "\n",
    "P_XY = P(X, Y, Z)\n",
    "P_XYZ = P(X, Y, Z)\n",
    "\n",
    "P(*[Variable('X'), Variable('Y')])"
   ]
  },
  {
   "cell_type": "code",
   "execution_count": 1,
   "id": "prostate-hacker",
   "metadata": {},
   "outputs": [
    {
     "ename": "ModuleNotFoundError",
     "evalue": "No module named 'test_id_alg'",
     "output_type": "error",
     "traceback": [
      "\u001b[0;31m---------------------------------------------------------------------------\u001b[0m",
      "\u001b[0;31mModuleNotFoundError\u001b[0m                       Traceback (most recent call last)",
      "\u001b[0;32m<ipython-input-1-7cbf85050ac0>\u001b[0m in \u001b[0;36m<module>\u001b[0;34m\u001b[0m\n\u001b[0;32m----> 1\u001b[0;31m \u001b[0;32mimport\u001b[0m \u001b[0msys\u001b[0m\u001b[0;34m,\u001b[0m \u001b[0mtest_id_alg\u001b[0m\u001b[0;34m\u001b[0m\u001b[0;34m\u001b[0m\u001b[0m\n\u001b[0m\u001b[1;32m      2\u001b[0m \u001b[0;34m\u001b[0m\u001b[0m\n\u001b[1;32m      3\u001b[0m \u001b[0msuite\u001b[0m \u001b[0;34m=\u001b[0m \u001b[0munittest\u001b[0m\u001b[0;34m.\u001b[0m\u001b[0mTestLoader\u001b[0m\u001b[0;34m(\u001b[0m\u001b[0;34m)\u001b[0m\u001b[0;34m.\u001b[0m\u001b[0mloadTestsFromTestCase\u001b[0m\u001b[0;34m(\u001b[0m\u001b[0mTestIdentify\u001b[0m\u001b[0;34m)\u001b[0m\u001b[0;34m\u001b[0m\u001b[0;34m\u001b[0m\u001b[0m\n\u001b[1;32m      4\u001b[0m \u001b[0munittest\u001b[0m\u001b[0;34m.\u001b[0m\u001b[0mTextTestRunner\u001b[0m\u001b[0;34m(\u001b[0m\u001b[0mverbosity\u001b[0m\u001b[0;34m=\u001b[0m\u001b[0;36m4\u001b[0m\u001b[0;34m,\u001b[0m\u001b[0mstream\u001b[0m\u001b[0;34m=\u001b[0m\u001b[0msys\u001b[0m\u001b[0;34m.\u001b[0m\u001b[0mstderr\u001b[0m\u001b[0;34m)\u001b[0m\u001b[0;34m.\u001b[0m\u001b[0mrun\u001b[0m\u001b[0;34m(\u001b[0m\u001b[0msuite\u001b[0m\u001b[0;34m)\u001b[0m\u001b[0;34m\u001b[0m\u001b[0;34m\u001b[0m\u001b[0m\n",
      "\u001b[0;31mModuleNotFoundError\u001b[0m: No module named 'test_id_alg'"
     ]
    }
   ],
   "source": [
    "import sys, test_id_alg\n",
    "\n",
    "suite = unittest.TestLoader().loadTestsFromTestCase(TestIdentify)\n",
    "unittest.TextTestRunner(verbosity=4,stream=sys.stderr).run(suite)"
   ]
  },
  {
   "cell_type": "code",
   "execution_count": null,
   "id": "civic-malaysia",
   "metadata": {},
   "outputs": [],
   "source": [
    "graph_2b = NxMixedGraph()\n",
    "graph_2b.add_directed_edge('X', 'Y')\n",
    "graph_2b.add_directed_edge('X', 'Z')\n",
    "graph_2b.add_directed_edge('Z', 'Y')\n",
    "graph_2b.add_undirected_edge('Y', 'Z')"
   ]
  },
  {
   "cell_type": "code",
   "execution_count": 4,
   "id": "informal-control",
   "metadata": {},
   "outputs": [
    {
     "name": "stdout",
     "output_type": "stream",
     "text": [
      "X Y\n",
      "X Z\n",
      "Z Y\n"
     ]
    }
   ],
   "source": [
    "for U,V in graph_2b.directed.edges():\n",
    "    print(U,V)"
   ]
  },
  {
   "cell_type": "code",
   "execution_count": 14,
   "id": "sporting-eight",
   "metadata": {},
   "outputs": [
    {
     "name": "stdout",
     "output_type": "stream",
     "text": [
      "['X']\n",
      "['Z', 'Y']\n"
     ]
    }
   ],
   "source": [
    "from y0.identify import _get_treatments, _get_outcomes\n",
    "expr = P(Y@X,Z@X)\n",
    "print(_get_treatments(expr.get_variables()))\n",
    "print(_get_outcomes(expr.get_variables()))\n",
    "    "
   ]
  },
  {
   "cell_type": "code",
   "execution_count": 9,
   "id": "tight-theorem",
   "metadata": {},
   "outputs": [
    {
     "data": {
      "text/plain": [
       "([Sum(expression=Product(expressions=(Sum(expression=P(Distribution(children=(Variable(name='W'),), parents=(Variable(name='X'),))), ranges=()), Sum(expression=Sum(expression=P(Distribution(children=(Variable(name='X'), Variable(name='W'), Variable(name='D'), Variable(name='Z'), Variable(name='Y'), Variable(name='V')), parents=())), ranges=(Variable(name='X'), Variable(name='W'), Variable(name='Z'), Variable(name='Y'), Variable(name='V'))), ranges=()), Sum(expression=P(Distribution(children=(Variable(name='Z'),), parents=(Variable(name='D'), Variable(name='V')))), ranges=()), Sum(expression=Sum(expression=Product(expressions=(P(Distribution(children=(Variable(name='X'),), parents=())), P(Distribution(children=(Variable(name='Y'),), parents=(Variable(name='X'), Variable(name='W'), Variable(name='Z'), Variable(name='D'), Variable(name='V')))))), ranges=(Variable(name='X'),)), ranges=()), Sum(expression=Sum(expression=P(Distribution(children=(Variable(name='X'), Variable(name='W'), Variable(name='D'), Variable(name='Z'), Variable(name='Y'), Variable(name='V')), parents=())), ranges=(Variable(name='X'), Variable(name='W'), Variable(name='D'), Variable(name='Z'), Variable(name='Y'))), ranges=()))), ranges=(Variable(name='W'), Variable(name='D'), Variable(name='Z'), Variable(name='V')))], {})"
      ]
     },
     "execution_count": 9,
     "metadata": {},
     "output_type": "execute_result"
    }
   ],
   "source": [
    "from y0.parser.craig.grammar import grammar\n",
    "expr='[sum_{W,D,Z,V} [sum_{}P(W|X)][sum_{} [sum_{X,W,Z,Y,V} P(X,W,D,Z,Y,V)]][sum_{}P(Z|D,V)][sum_{} [sum_{X} P(X)P(Y|X,W,Z,D,V)]][sum_{} [sum_{X,W,D,Z,Y} P(X,W,D,Z,Y,V)]]]'\n",
    "grammar.parseString(expr)"
   ]
  },
  {
   "cell_type": "code",
   "execution_count": 16,
   "id": "present-chemistry",
   "metadata": {},
   "outputs": [
    {
     "data": {
      "text/plain": [
       "'frac_{P(X,Y,Z)}{[ sum_{Y} P(X,Y,Z) ]}'"
      ]
     },
     "execution_count": 16,
     "metadata": {},
     "output_type": "execute_result"
    }
   ],
   "source": [
    "P_XY = P(X, Y, Z)\n",
    "P_XYZ = P(X, Y, Z)\n",
    "expr = (P_XY / Sum[Y](P_XY)).to_text()\n",
    "expr\n"
   ]
  },
  {
   "cell_type": "code",
   "execution_count": 17,
   "id": "sustained-forum",
   "metadata": {},
   "outputs": [
    {
     "data": {
      "text/plain": [
       "([Fraction(numerator=P(Distribution(children=(Variable(name='X'), Variable(name='Y'), Variable(name='Z')), parents=())), denominator=Sum(expression=P(Distribution(children=(Variable(name='X'), Variable(name='Y'), Variable(name='Z')), parents=())), ranges=(Variable(name='Y'),)))], {})"
      ]
     },
     "execution_count": 17,
     "metadata": {},
     "output_type": "execute_result"
    }
   ],
   "source": [
    "grammar.parseString(expr)"
   ]
  },
  {
   "cell_type": "code",
   "execution_count": 18,
   "id": "south-situation",
   "metadata": {},
   "outputs": [
    {
     "data": {
      "text/latex": [
       "$\\frac{P(X,Y,Z)}{\\sum_{Y} P(X,Y,Z)}$"
      ],
      "text/plain": [
       "Fraction(numerator=P(Distribution(children=(Variable(name='X'), Variable(name='Y'), Variable(name='Z')), parents=())), denominator=Sum(expression=P(Distribution(children=(Variable(name='X'), Variable(name='Y'), Variable(name='Z')), parents=())), ranges=(Variable(name='Y'),)))"
      ]
     },
     "execution_count": 18,
     "metadata": {},
     "output_type": "execute_result"
    }
   ],
   "source": [
    "grammar.parseString(expr)[0]"
   ]
  },
  {
   "cell_type": "code",
   "execution_count": null,
   "id": "reverse-sphere",
   "metadata": {},
   "outputs": [],
   "source": []
  }
 ],
 "metadata": {
  "kernelspec": {
   "display_name": "anaconda3-2020.11",
   "language": "python",
   "name": "anaconda3-2020.11"
  },
  "language_info": {
   "codemirror_mode": {
    "name": "ipython",
    "version": 3
   },
   "file_extension": ".py",
   "mimetype": "text/x-python",
   "name": "python",
   "nbconvert_exporter": "python",
   "pygments_lexer": "ipython3",
   "version": "3.8.5"
  },
  "latex_envs": {
   "LaTeX_envs_menu_present": false,
   "autoclose": false,
   "autocomplete": false,
   "bibliofile": "biblio.bib",
   "cite_by": "apalike",
   "current_citInitial": 1,
   "eqLabelWithNumbers": true,
   "eqNumInitial": 1,
   "hotkeys": {
    "equation": "ctrl-q"
   },
   "labels_anchors": false,
   "latex_user_defs": false,
   "report_style_numbering": true,
   "user_envs_cfg": false
  },
  "toc": {
   "base_numbering": 1,
   "nav_menu": {},
   "number_sections": true,
   "sideBar": true,
   "skip_h1_title": false,
   "title_cell": "Table of Contents",
   "title_sidebar": "Contents",
   "toc_cell": false,
   "toc_position": {},
   "toc_section_display": true,
   "toc_window_display": false
  }
 },
 "nbformat": 4,
 "nbformat_minor": 5
}
