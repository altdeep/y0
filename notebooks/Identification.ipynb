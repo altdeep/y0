{
 "cells": [
  {
   "cell_type": "markdown",
   "metadata": {},
   "source": [
    "# The Do-calculus\n"
   ]
  },
  {
   "cell_type": "markdown",
   "metadata": {},
   "source": [
    "$$P(y_x|x',y')$$\n",
    "$$P(Y_x) = P(Y|do(x)) = P_x(Y)$$\n"
   ]
  },
  {
   "cell_type": "markdown",
   "metadata": {},
   "source": [
    "## Rule 1: Ignoring observations\n",
    "\n",
    "\n",
    "$$\\newcommand\\ci{\\perp\\!\\!\\!\\perp}$$\n",
    "$$\\newcommand{\\ubar}[1]{\\underset{\\bar{}}{#1}}\n",
    "\\newcommand{\\obar}[1]{\\overset{\\bar{}}{#1}}$$\n",
    "\n",
    "$$P(y|do(x),{\\color{blue}z},w) = P(y|do(x),w)\\text{ if } ( Y\\ci Z|X,W )_{G_{\\bar{X}}}$$\n",
    "\n",
    "or in the Shpitser notation:\n",
    "\n",
    "$$P_x(y|{\\color{blue}z},w) = P_x(y|w)\\text{ if } ( Y\\ci Z|X,W )_{G_{\\bar{X}}}$$"
   ]
  },
  {
   "cell_type": "markdown",
   "metadata": {},
   "source": [
    "## Rule 2: Action/Observation Change\n",
    "\n",
    "$$P(y|do(x), \\color{red}{do(z)}, w) = P(y|do(x),\\color{red} z, w)\\text{ if } (Y\\ci Z|X,W)_{G_{\\bar{X},\\ubar{Z}}}$$\n",
    "or in Shpitser notation:\n",
    "\n",
    "$$P_{x,\\color{red}z}(y|w) = P_x(y|\\color{red}z,w) \\text{ if } (Y\\ci Z|X,W)_{G_{\\bar{X},\\ubar{Z}}}$$\n",
    "\n",
    "Where $G_{\\bar{X},\\ubar{Z}}$  is taken to mean the graph obtained from $G$ by removing arrows pointing to $X$ and arrows leaving $Z$. "
   ]
  },
  {
   "cell_type": "markdown",
   "metadata": {},
   "source": [
    "# Rule 3: Ignoring actions\n",
    "\n",
    "$$P(y|do(x),\\color{green}{do(z)},w) = P(y|do(x),w)\\text{ if }(Y\\ci Z|X,W)_{G_{\\bar{X}\\bar{Z(W)}}}$$\n",
    "\n",
    "where $Z(W)$ is the set of $Z$ nodes not ancestors of any $W$-node in $G_{\\bar{X}}$.\n",
    "\n"
   ]
  },
  {
   "cell_type": "markdown",
   "metadata": {},
   "source": [
    "# Theorem 2: The bow arc is not identifiable.\n",
    "\n",
    "We construct two causal models $M^1$ and $M^2$ such that $P^1(X, Y)=P^2(X, Y)$ ,and $P^1_x(Y)\\ne P^2_x(Y)$.The two models agree on the following: all 3 variables are boolean, $U$ is a fair coin, and $f_X(u)=u$.Let $⊕$ denote the exclusive or (XOR) function. Then the value of $Y$ is determined by the function $u⊕x$ in $M^1$, while $Y$ is set to $0$ in $M^2$. Then $P^1(Y=0)=P^2(Y=0)=1$, $P^1(X=0)=P^2(X=0)=0.5$. Therefore, $P^1(X, Y)=P^2(X, Y)$, while $P^2_x(Y=0)=1\\ne P^1_x(Y=0)=0.5$. Note that while $P$ is non-positive, it is straightforward to modify the proof for the positive case by letting $f_Y$ functions in both models return 1 half the time, and the values outlined above half the time."
   ]
  },
  {
   "cell_type": "code",
   "execution_count": null,
   "metadata": {},
   "outputs": [],
   "source": [
    "from scipy.stats import bernoulli\n",
    "def Model1(u):\n",
    "    x = u\n",
    "    y = x ^ u\n",
    "    return x, y\n",
    "\n",
    "def Model2(u):\n",
    "    x = u\n",
    "    y = 0\n",
    "    return x,y\n",
    "def sample(size=1000, p=0.5):\n",
    "    u = bernoulli.rvs(p, size=size)\n",
    "    unique, counts = numpy.unique(u, return_counts=True)\n",
    "    return dict(zip(unique, [c/size for c in counts]))\n",
    "def P1(X=None,Y=None,p=0.5, size=1000):\n",
    "    u = bernoulli.rvs(p,size=size)\n",
    "    joint = [Model1(u_i) for u_i in u]\n",
    "    count = 0\n",
    "\n",
    "        for x,y in joint: \n",
    "            if X and Y and X==x and Y==y:\n",
    "                count +=1\n",
    "            elif\n",
    "            \n",
    "    \n",
    "\n",
    "        dict(zip(unique, counts))"
   ]
  },
  {
   "cell_type": "markdown",
   "metadata": {},
   "source": [
    "# C-component\n",
    "Let $G$ be a semi-Markovian graph such that a subset of its bidirected arcs forms a spanning tree over all vertices in $G.$Then $G$ is a C-component(confounded component).\n",
    "\n",
    "Let a path composed entirely of bidirected\n",
    "edges be called a bidirected path. The set of variables $V$ can\n",
    "be partitioned into disjoint groups by assigning two variables\n",
    "to the same group if and only if they are connected by a\n",
    "bidirected path. \n",
    "\n",
    "# Definition 4: (C-tree)\n",
    "\n",
    "Let $G$ be a semi-Markovian graph such that $G$ is a C-component, all observable nodes have at most one child, and there is a node $Y$ such that $An(Y)_G= G$.Then $G$ is a $Y$-rooted C-tree (confounded tree).\n"
   ]
  },
  {
   "cell_type": "markdown",
   "metadata": {},
   "source": [
    "# A tree is not a Computer science tree!\n",
    "\n",
    "In computer science, the root of a tree has no parents, and the leaves have no children. And all children have only one parent.\n",
    "\n",
    "In the Pearlian world, the root of a tree has no children, and all nodes have at most one child. The issue is that the arrows point in the opposite direction.  "
   ]
  },
  {
   "cell_type": "markdown",
   "metadata": {},
   "source": [
    "# $An( Y )$ includes $Y$\n",
    "\n",
    "From \"[A General Identification Condition for Causal Effects](https://ftp.cs.ucla.edu/pub/stat_ser/R290-A.pdf)\" by Tian and Pearl 2002:\n",
    "\n",
    "Let  $An( S )$ denote  the  union  of  a  set $S$ and  the  set  of ancestors of the variables in $S$, and let $G_{An( S )}$ denote the subgraph of $G$ composed only of variables in $An( S )$."
   ]
  },
  {
   "cell_type": "markdown",
   "metadata": {},
   "source": [
    "# A complete identification algorithm. \n",
    "\n",
    "**FAIL** propagates through recursive calls like an exception, and returns the hedge which witnesses non-identifiability. $V_\\pi^{(i-1)}$ is the set of nodes preceding $V_i$ in some topological ordering $\\pi$ in $G$.\n",
    "\n",
    "1. If no action has been taken, the effect on $\\mathbf Y$ is just the marginal of the observational distribution $P(\\mathbf v)$ on $\\mathbf Y$. \n",
    "2. If we are interested in the effect on $\\mathbf Y$, it is sufficient to restrict our attention on the parts of the model ancestral to $\\mathbf Y$.\n",
    "3. Forces an action on any node where such an action would have no effect on $\\mathbf Y$—assuming we already acted on $\\mathbf X$. Since actions remove incoming arrows, we can view line 3 as simplifying the causal graph we consider by removing certain arcs from the graph, without affecting the overall answer.\n",
    "4. The key line of the algorithm, it decomposes the problem into a set of smaller problems using the key property of *c-component factorization* of causal models. If the entire graph is a single C-component already, further problem decomposition is impossible, and we must provide base cases. $\\mathbf{ID}$ has three base cases. \n",
    "5. Fails because it finds two C-components, the graph $G$ itself, and a subgraph $S$ that does not contain any $\\mathbf X$ nodes. But that is exactly one of the properties of C-forests that make up a hedge. In fact, it turns out that it is always possible to recover a hedge from these two c-components.\n",
    "6. Asserts that if there are no bidirected arcs from X to the other nodes in the current subproblem under consideration, then we can replace acting on X by conditioning, and thus solve the subproblem. \n",
    "7. The most complex case where $\\mathbf X$ is partitioned into two sets, $\\mathbf W$ which contain bidirected arcs into other nodes in the subproblem, and $\\mathbf Z$ which do not. In this situation, identifying $P(\\mathbf y|do(\\mathbf x))$ from $P(v)$ is equivalent to identifying $P(\\mathbf y|do(\\mathbf w))$ from $P(\\mathbf V|do(\\mathbf z))$, since $P(\\mathbf y|do(\\mathbf x)) = P(\\mathbf y|do(\\mathbf w), do(\\mathbf z))$. But the term $P(\\mathbf V|do(\\mathbf z))$ is identifiable using the previous base case, so we can consider the subproblem of identifying $P(\\mathbf y|do(\\mathbf w))$.\n",
    "\n",
    "\n",
    "$\\text{function }\\mathbf{ID}\\left(\\mathbf y, \\mathbf x, P, G\\right) \\\\ \\text{INPUT: } \\mathbf{x,y}\\text{ value assignments, $P$ a probability distribution, $G$ a causal diagram}. \\\\  \\text{OUTPUT:  Expression for $P_{\\mathbf x}(\\mathbf y)$ in terms of $P$ or $\\mathbf{FAIL}(F, F')$} $\n",
    "\n",
    "\n",
    "\n",
    "1. $\\text{if }{\\mathbf x} =\\emptyset \\text{ return }\\sum_{\\mathbf v - \\mathbf y}P({\\mathbf v})$. &nbsp;&nbsp;&nbsp; \n",
    "2. $\\text{if }\\mathbf V - An(\\mathbf Y)_G \\neq \\emptyset \\\\  \\text{ return } \\mathbf{ ID}\\left(\\mathbf y, \\mathbf x\\cap An(\\mathbf Y)_G, \\sum_{\\mathbf V - An(Y)_G}P, G_{An(\\mathbf Y)}\\right)$.\n",
    "3. $\\text{let }\\mathbf W = (\\mathbf V - X) - An(\\mathbf Y)_{G_{\\bar{\\mathbf X}}}. \\\\ \\text{if } \\mathbf W \\neq \\emptyset, \\text{ return } \\mathbf{ID}\\left(\\mathbf y, \\mathbf x\\cup \\mathbf w, P, G\\right)$.\n",
    "4. $\\text{if }C(G-\\mathbf X) = \\{S_1,\\ldots S_k\\} \\\\ \\text{ return }\\sum_{\\mathbf v - (\\mathbf y \\cup \\mathbf x)}\\prod_i\\mathbf{ID}\\left(s_i, \\mathbf v - s_i, P, G\\right) \\\\ \\text{if }C(G -\\mathbf X) = \\{S\\}$\n",
    "5. &nbsp; &nbsp;&nbsp;$\\text{       if }C(G) = \\{G\\},\\\\  \\text{ throw }\\mathbf{FAIL}\\left(G,G\\cap S\\right)$.\n",
    "6. &nbsp; &nbsp;&nbsp;$\\text{ if }S\\in C(G) \\\\ \\text{ return }\\sum_{S - \\mathbf y}\\prod_{\\{i|V_i\\in S\\}}P\\left(v_i|v_\\pi^{(i-1)}\\right)$\n",
    "7. &nbsp; &nbsp;&nbsp;$\\text{ if }(\\exists S')S\\subset S'\\in C(G) \\\\ \\text{ return }\\mathbf{ID}\\left(\\mathbf y, \\mathbf x\\cap S', \\prod_{\\{i|V_i\\in S'\\}}P(V_i|V_\\pi^{(i-1)}\\cap S', V_\\pi^{(i-1)} - S'), G_{S'}\\right)$.\n",
    "\n"
   ]
  },
  {
   "cell_type": "markdown",
   "metadata": {},
   "source": [
    "## Example\n",
    "We give an example of the operation of the algorithm by identifying $P_x (y_1, y_2 )$ from $P(v)$ in the graph shown in in Fig. 3 (a). \n",
    "\n",
    "Since $G = G_{An(\\{Y_1, Y_2\\})}$, $C(G- \\{X\\})=\\{G\\}$, and $\\mathbf{W} = \\{W_1\\}$ , we invoke line $3$ and attempt to identify $P_{x,w}(y_1, y_2 )$. \n",
    "\n",
    "Now $C(G-\\{X, W\\}) = \\{Y_1,  W_2 \\leftarrow Y_2\\}$, so we invoke line $4$.  \n",
    "\n",
    "Thus the original problem reduces to identifying $\\sum_{w_2}P_{x,w_1, w_2, y_2} (y_1 )P_{w,x,y_1}(w_2, y_2 )$. \n",
    "\n",
    "Solving for the second expression, we trigger line $2$, noting that we can ignore nodes which are not ancestors of $W_2$ and $Y_2$ , which means $P_{w,x,y_1}(w_2, y_2 ) = P(w_2, y_2 )$. \n",
    "\n",
    "Solving for the first expression, we first trigger line $2$ also, obtaining $P_{x,w_1, w_2, y_2} (y_1 ) = P_{x, w}(y_1 )$. \n",
    "\n",
    "The corresponding $G$ is shown in Fig. 5 (a). \n",
    "\n",
    "Next, we trigger line $7$, reducing the problem to computing $P_w (y_1 )$ from $P(Y_1 | X,  W1 )P(W_1 )$.\n",
    "\n",
    "The corresponding $G$ is shown in Fig. 5 (b). \n",
    "\n",
    "Finally, we trigger line $2$, obtaining $P_w(y_1 ) = \\sum_{w_1} P(y_1 | x , w_1 )P(w_1)$. \n",
    "\n",
    "Putting everything together, we obtain: $P_x(y_1, y_2 ) = \\sum_{w_2} P(y_1, w_2 ) \\sum_{w_1} P(y_1  | x ,  w_1 )P(w_1 )$. "
   ]
  },
  {
   "cell_type": "code",
   "execution_count": 1,
   "metadata": {},
   "outputs": [
    {
     "name": "stdout",
     "output_type": "stream",
     "text": [
      "Expected: [ sum_{Z} P(Y,Z) ]\n",
      "Actual:   [ sum_{Z} P(Y,Z) ]\n"
     ]
    }
   ],
   "source": [
    "from y0.dsl import P, Sum, X, Y, Z, Product, Variable\n",
    "from y0.mutate import canonicalize\n",
    "expected = Sum[Z](P(Y,Z))\n",
    "actual = Sum[Z](P(Z, Y))\n",
    "expected_vars = expected.get_variables()\n",
    "ordering = list(expected_vars)\n",
    "expected_canonical = canonicalize(expected, ordering)\n",
    "actual_canonical = canonicalize(actual, ordering)\n",
    "\n",
    "print(f\"Expected: {expected_canonical}\\nActual:   {actual_canonical}\")"
   ]
  },
  {
   "cell_type": "code",
   "execution_count": 2,
   "metadata": {},
   "outputs": [
    {
     "data": {
      "text/plain": [
       "{'W', 'X', 'Y', 'Z'}"
      ]
     },
     "execution_count": 2,
     "metadata": {},
     "output_type": "execute_result"
    }
   ],
   "source": [
    "from ananke.graphs import ADMG\n",
    "from y0.algorithm.conditional_independencies import are_d_separated\n",
    "from y0.examples import (vertices_without_edges,\n",
    "                         line_1_example,\n",
    "                         line_2_example, \n",
    "                         line_3_example, \n",
    "                         line_4_example, \n",
    "                         line_6_example,\n",
    "                         line_7_example, \n",
    "                         figure_6a\n",
    "                        )\n",
    "from y0.identify import _get_outcomes, _get_treatments\n",
    "from y0.algorithm.identify.id_std import (\n",
    "    line_2, \n",
    "    line_3, \n",
    "    line_4, \n",
    "    line_6, \n",
    "    line_7,\n",
    "    #ancestors_and_self\n",
    ")\n",
    "from y0.algorithm.identify import (\n",
    "    identify,\n",
    "    idc\n",
    ")\n",
    "\n",
    "from y0.algorithm.identify.id_c import rule_2_of_do_calculus_applies\n",
    "from y0.algorithm.identify.utils import (\n",
    "    get_outcomes_and_treatments, \n",
    "    expr_equal,\n",
    ")\n",
    "from y0.mutate import canonicalize\n",
    "\n",
    "\n",
    "from y0.graph import NxMixedGraph\n",
    "admg = ADMG(vertices=['X','Y', 'Z'], di_edges=[['X','Y'],['Y','Z']], bi_edges=[['X','Z']])\n",
    "expected = vertices_without_edges\n",
    "actual = NxMixedGraph.from_admg( admg )\n",
    "set(expected.graph.directed.nodes())"
   ]
  },
  {
   "cell_type": "code",
   "execution_count": 4,
   "metadata": {},
   "outputs": [
    {
     "name": "stdout",
     "output_type": "stream",
     "text": [
      "True\n"
     ]
    },
    {
     "data": {
      "text/latex": [
       "$\\frac{P(Y|X,Z)}{\\sum_{Y} P(Y|X,Z)}$"
      ],
      "text/plain": [
       "Fraction(numerator=Product(expressions=(P(Distribution(children=(Variable(name='Y'),), parents=(Variable(name='X'), Variable(name='Z')))),)), denominator=Sum(expression=Product(expressions=(P(Distribution(children=(Variable(name='Y'),), parents=(Variable(name='X'), Variable(name='Z')))),)), ranges=(Variable(name='Y'),)))"
      ]
     },
     "execution_count": 4,
     "metadata": {},
     "output_type": "execute_result"
    }
   ],
   "source": [
    "for ident in figure_6a.identifications:\n",
    "    id_in = ident['id_in'][0]\n",
    "    id_out = ident['id_out'][0]\n",
    "    print(rule_2_of_do_calculus_applies(id_in.outcomes, id_in.treatments, id_in.conditions, Z, id_in.graph))\n",
    "    actual = idc(\n",
    "        outcomes=id_in.outcomes,\n",
    "        treatments=id_in.treatments,\n",
    "        conditions=id_in.conditions,\n",
    "        graph=id_in.graph,\n",
    "        estimand=id_in.estimand\n",
    "    )\n",
    "actual"
   ]
  },
  {
   "cell_type": "code",
   "execution_count": 3,
   "metadata": {},
   "outputs": [
    {
     "ename": "NameError",
     "evalue": "name 'id_in' is not defined",
     "output_type": "error",
     "traceback": [
      "\u001b[0;31m---------------------------------------------------------------------------\u001b[0m",
      "\u001b[0;31mNameError\u001b[0m                                 Traceback (most recent call last)",
      "\u001b[0;32m<ipython-input-3-d73f74921b45>\u001b[0m in \u001b[0;36m<module>\u001b[0;34m\u001b[0m\n\u001b[0;32m----> 1\u001b[0;31m \u001b[0mid_in\u001b[0m\u001b[0;34m.\u001b[0m\u001b[0mgraph\u001b[0m\u001b[0;34m.\u001b[0m\u001b[0mdraw\u001b[0m\u001b[0;34m(\u001b[0m\u001b[0;34m)\u001b[0m\u001b[0;34m\u001b[0m\u001b[0;34m\u001b[0m\u001b[0m\n\u001b[0m",
      "\u001b[0;31mNameError\u001b[0m: name 'id_in' is not defined"
     ]
    }
   ],
   "source": [
    "id_in.graph.draw()"
   ]
  },
  {
   "cell_type": "code",
   "execution_count": 5,
   "metadata": {},
   "outputs": [
    {
     "data": {
      "image/png": "[encoded data removed]",
      "text/plain": [
       "<Figure size 432x288 with 1 Axes>"
      ]
     },
     "metadata": {},
     "output_type": "display_data"
    }
   ],
   "source": [
    "id_in.graph.intervene(id_in.treatments).draw()"
   ]
  },
  {
   "cell_type": "code",
   "execution_count": 6,
   "metadata": {},
   "outputs": [
    {
     "data": {
      "text/plain": [
       "OutEdgeView([(Variable(name='X'), Variable(name='Z'))])"
      ]
     },
     "execution_count": 6,
     "metadata": {},
     "output_type": "execute_result"
    }
   ],
   "source": [
    "id_in.graph.intervene(id_in.treatments).remove_outgoing_edges_from(id_in.conditions).directed.edges()\n"
   ]
  },
  {
   "cell_type": "code",
   "execution_count": 11,
   "metadata": {},
   "outputs": [
    {
     "data": {
      "text/plain": [
       "{Variable(name='Y'), Variable(name='Z')}"
      ]
     },
     "execution_count": 11,
     "metadata": {},
     "output_type": "execute_result"
    }
   ],
   "source": [
    "outcomes"
   ]
  },
  {
   "cell_type": "code",
   "execution_count": 10,
   "metadata": {},
   "outputs": [
    {
     "data": {
      "text/plain": [
       "[True -- 'Y' d-sep 'Z' conditioned on (Variable(name='X'),),\n",
       " False -- 'Z' d-sep 'Z' conditioned on (Variable(name='X'),)]"
      ]
     },
     "execution_count": 10,
     "metadata": {},
     "output_type": "execute_result"
    }
   ],
   "source": [
    "outcomes = id_in.outcomes\n",
    "condition = Z\n",
    "conditions = id_in.conditions\n",
    "treatments = id_in.treatments\n",
    "\n",
    "admg = id_in.graph.intervene(treatments).remove_outgoing_edges_from(frozenset([condition])).to_admg()\n",
    "judgements = [\n",
    "        are_d_separated(\n",
    "            admg, outcome, condition, conditions=list(treatments | (conditions - {condition}))\n",
    "        )\n",
    "        for outcome in outcomes\n",
    "    ]\n",
    "judgements"
   ]
  },
  {
   "cell_type": "code",
   "execution_count": 6,
   "metadata": {},
   "outputs": [],
   "source": [
    "for id3 in line_3_example.identifications:\n",
    "        identification = id3[\"id_in\"][0]\n",
    "        outcomes = identification.outcomes\n",
    "        treatments = identification.treatments\n",
    "        estimand = identification.estimand\n",
    "        graph = identification.graph.str_nodes_to_variable_nodes()\n",
    "        vertices = set(graph.nodes())\n",
    "        outcomes_and_ancestors = ancestors_and_self(graph, outcomes)\n",
    "        not_outcomes_or_ancestors = vertices.difference(outcomes_and_ancestors)\n",
    "        outcome_ancestral_graph = graph.subgraph(outcomes_and_ancestors)\n",
    "    \n",
    "        intervened_graph = graph.intervene(treatments)\n",
    "        no_effect_on_outcome = (vertices - treatments) - ancestors_and_self(intervened_graph, outcomes)"
   ]
  },
  {
   "cell_type": "code",
   "execution_count": 9,
   "metadata": {},
   "outputs": [
    {
     "data": {
      "image/png": "[encoded data removed]",
      "text/plain": [
       "<Figure size 432x288 with 1 Axes>"
      ]
     },
     "metadata": {},
     "output_type": "display_data"
    }
   ],
   "source": [
    "intervened_graph.draw()"
   ]
  },
  {
   "cell_type": "code",
   "execution_count": 11,
   "metadata": {},
   "outputs": [
    {
     "data": {
      "text/plain": [
       "NodeView((Variable(name='Z'), Variable(name='X'), Variable(name='Y')))"
      ]
     },
     "execution_count": 11,
     "metadata": {},
     "output_type": "execute_result"
    }
   ],
   "source": [
    "intervened_graph.nodes()"
   ]
  },
  {
   "cell_type": "code",
   "execution_count": 12,
   "metadata": {},
   "outputs": [
    {
     "data": {
      "image/png": "[encoded data removed]",
      "text/plain": [
       "<Figure size 432x288 with 1 Axes>"
      ]
     },
     "metadata": {},
     "output_type": "display_data"
    }
   ],
   "source": [
    "graph.draw()"
   ]
  },
  {
   "cell_type": "code",
   "execution_count": 14,
   "metadata": {},
   "outputs": [
    {
     "data": {
      "text/plain": [
       "{Intervention(name='X', star=False)}"
      ]
     },
     "execution_count": 14,
     "metadata": {},
     "output_type": "execute_result"
    }
   ],
   "source": [
    "treatments"
   ]
  },
  {
   "cell_type": "code",
   "execution_count": 5,
   "metadata": {},
   "outputs": [
    {
     "ename": "NetworkXError",
     "evalue": "The node Y_{X} is not in the graph.",
     "output_type": "error",
     "traceback": [
      "\u001b[0;31m---------------------------------------------------------------------------\u001b[0m",
      "\u001b[0;31mNetworkXError\u001b[0m                             Traceback (most recent call last)",
      "\u001b[0;32m<ipython-input-5-2b95fb0cda19>\u001b[0m in \u001b[0;36m<module>\u001b[0;34m\u001b[0m\n\u001b[1;32m      4\u001b[0m             )\n\u001b[1;32m      5\u001b[0m             \u001b[0mexpected\u001b[0m\u001b[0;34m=\u001b[0m\u001b[0midentification\u001b[0m\u001b[0;34m[\u001b[0m\u001b[0;34m\"id_out\"\u001b[0m\u001b[0;34m]\u001b[0m\u001b[0;34m[\u001b[0m\u001b[0;36m0\u001b[0m\u001b[0;34m]\u001b[0m\u001b[0;34m\u001b[0m\u001b[0;34m\u001b[0m\u001b[0m\n\u001b[0;32m----> 6\u001b[0;31m             actual=line_3(\n\u001b[0m\u001b[1;32m      7\u001b[0m                     \u001b[0moutcomes\u001b[0m\u001b[0;34m=\u001b[0m\u001b[0moutcomes\u001b[0m\u001b[0;34m,\u001b[0m\u001b[0;34m\u001b[0m\u001b[0;34m\u001b[0m\u001b[0m\n\u001b[1;32m      8\u001b[0m                     \u001b[0mtreatments\u001b[0m\u001b[0;34m=\u001b[0m\u001b[0mtreatments\u001b[0m\u001b[0;34m,\u001b[0m\u001b[0;34m\u001b[0m\u001b[0;34m\u001b[0m\u001b[0m\n",
      "\u001b[0;32m~/Projects/CausalInference/y0-causal-inference/y0/src/y0/algorithm/identify/id_std.py\u001b[0m in \u001b[0;36mline_3\u001b[0;34m(outcomes, treatments, estimand, graph)\u001b[0m\n\u001b[1;32m    199\u001b[0m     \u001b[0mvertices\u001b[0m \u001b[0;34m=\u001b[0m \u001b[0mgraph\u001b[0m\u001b[0;34m.\u001b[0m\u001b[0mnodes\u001b[0m\u001b[0;34m(\u001b[0m\u001b[0;34m)\u001b[0m\u001b[0;34m\u001b[0m\u001b[0;34m\u001b[0m\u001b[0m\n\u001b[1;32m    200\u001b[0m     \u001b[0mg_bar_x\u001b[0m \u001b[0;34m=\u001b[0m \u001b[0mgraph\u001b[0m\u001b[0;34m.\u001b[0m\u001b[0mintervene\u001b[0m\u001b[0;34m(\u001b[0m\u001b[0mtreatments\u001b[0m\u001b[0;34m)\u001b[0m\u001b[0;34m\u001b[0m\u001b[0;34m\u001b[0m\u001b[0m\n\u001b[0;32m--> 201\u001b[0;31m     \u001b[0mno_effect_nodes\u001b[0m \u001b[0;34m=\u001b[0m \u001b[0;34m(\u001b[0m\u001b[0mvertices\u001b[0m \u001b[0;34m-\u001b[0m \u001b[0mtreatments\u001b[0m\u001b[0;34m)\u001b[0m \u001b[0;34m-\u001b[0m \u001b[0mancestors_and_self\u001b[0m\u001b[0;34m(\u001b[0m\u001b[0mg_bar_x\u001b[0m\u001b[0;34m,\u001b[0m \u001b[0moutcomes\u001b[0m\u001b[0;34m)\u001b[0m\u001b[0;34m\u001b[0m\u001b[0;34m\u001b[0m\u001b[0m\n\u001b[0m\u001b[1;32m    202\u001b[0m     \u001b[0;32mif\u001b[0m \u001b[0mlen\u001b[0m\u001b[0;34m(\u001b[0m\u001b[0mno_effect_nodes\u001b[0m\u001b[0;34m)\u001b[0m \u001b[0;34m>\u001b[0m \u001b[0;36m0\u001b[0m\u001b[0;34m:\u001b[0m\u001b[0;34m\u001b[0m\u001b[0;34m\u001b[0m\u001b[0m\n\u001b[1;32m    203\u001b[0m         return Identification.from_parts(\n",
      "\u001b[0;32m~/Projects/CausalInference/y0-causal-inference/y0/src/y0/algorithm/identify/utils.py\u001b[0m in \u001b[0;36mancestors_and_self\u001b[0;34m(graph, sources)\u001b[0m\n\u001b[1;32m    112\u001b[0m     \u001b[0mrv\u001b[0m \u001b[0;34m=\u001b[0m \u001b[0msources\u001b[0m\u001b[0;34m.\u001b[0m\u001b[0mcopy\u001b[0m\u001b[0;34m(\u001b[0m\u001b[0;34m)\u001b[0m\u001b[0;34m\u001b[0m\u001b[0;34m\u001b[0m\u001b[0m\n\u001b[1;32m    113\u001b[0m     \u001b[0;32mfor\u001b[0m \u001b[0msource\u001b[0m \u001b[0;32min\u001b[0m \u001b[0msources\u001b[0m\u001b[0;34m:\u001b[0m\u001b[0;34m\u001b[0m\u001b[0;34m\u001b[0m\u001b[0m\n\u001b[0;32m--> 114\u001b[0;31m         \u001b[0mrv\u001b[0m\u001b[0;34m.\u001b[0m\u001b[0mupdate\u001b[0m\u001b[0;34m(\u001b[0m\u001b[0mnx\u001b[0m\u001b[0;34m.\u001b[0m\u001b[0malgorithms\u001b[0m\u001b[0;34m.\u001b[0m\u001b[0mdag\u001b[0m\u001b[0;34m.\u001b[0m\u001b[0mancestors\u001b[0m\u001b[0;34m(\u001b[0m\u001b[0mgraph\u001b[0m\u001b[0;34m.\u001b[0m\u001b[0mdirected\u001b[0m\u001b[0;34m,\u001b[0m \u001b[0msource\u001b[0m\u001b[0;34m)\u001b[0m\u001b[0;34m)\u001b[0m\u001b[0;34m\u001b[0m\u001b[0;34m\u001b[0m\u001b[0m\n\u001b[0m\u001b[1;32m    115\u001b[0m     \u001b[0;32mreturn\u001b[0m \u001b[0mrv\u001b[0m\u001b[0;34m\u001b[0m\u001b[0;34m\u001b[0m\u001b[0m\n\u001b[1;32m    116\u001b[0m \u001b[0;34m\u001b[0m\u001b[0m\n",
      "\u001b[0;32m~/.pyenv/versions/anaconda3-2020.11/lib/python3.8/site-packages/networkx/algorithms/dag.py\u001b[0m in \u001b[0;36mancestors\u001b[0;34m(G, source)\u001b[0m\n\u001b[1;32m     77\u001b[0m     \"\"\"\n\u001b[1;32m     78\u001b[0m     \u001b[0;32mif\u001b[0m \u001b[0;32mnot\u001b[0m \u001b[0mG\u001b[0m\u001b[0;34m.\u001b[0m\u001b[0mhas_node\u001b[0m\u001b[0;34m(\u001b[0m\u001b[0msource\u001b[0m\u001b[0;34m)\u001b[0m\u001b[0;34m:\u001b[0m\u001b[0;34m\u001b[0m\u001b[0;34m\u001b[0m\u001b[0m\n\u001b[0;32m---> 79\u001b[0;31m         \u001b[0;32mraise\u001b[0m \u001b[0mnx\u001b[0m\u001b[0;34m.\u001b[0m\u001b[0mNetworkXError\u001b[0m\u001b[0;34m(\u001b[0m\u001b[0;34mf\"The node {source} is not in the graph.\"\u001b[0m\u001b[0;34m)\u001b[0m\u001b[0;34m\u001b[0m\u001b[0;34m\u001b[0m\u001b[0m\n\u001b[0m\u001b[1;32m     80\u001b[0m     \u001b[0manc\u001b[0m \u001b[0;34m=\u001b[0m \u001b[0;34m{\u001b[0m\u001b[0mn\u001b[0m \u001b[0;32mfor\u001b[0m \u001b[0mn\u001b[0m\u001b[0;34m,\u001b[0m \u001b[0md\u001b[0m \u001b[0;32min\u001b[0m \u001b[0mnx\u001b[0m\u001b[0;34m.\u001b[0m\u001b[0mshortest_path_length\u001b[0m\u001b[0;34m(\u001b[0m\u001b[0mG\u001b[0m\u001b[0;34m,\u001b[0m \u001b[0mtarget\u001b[0m\u001b[0;34m=\u001b[0m\u001b[0msource\u001b[0m\u001b[0;34m)\u001b[0m\u001b[0;34m.\u001b[0m\u001b[0mitems\u001b[0m\u001b[0;34m(\u001b[0m\u001b[0;34m)\u001b[0m\u001b[0;34m}\u001b[0m\u001b[0;34m\u001b[0m\u001b[0;34m\u001b[0m\u001b[0m\n\u001b[1;32m     81\u001b[0m     \u001b[0;32mreturn\u001b[0m \u001b[0manc\u001b[0m \u001b[0;34m-\u001b[0m \u001b[0;34m{\u001b[0m\u001b[0msource\u001b[0m\u001b[0;34m}\u001b[0m\u001b[0;34m\u001b[0m\u001b[0;34m\u001b[0m\u001b[0m\n",
      "\u001b[0;31mNetworkXError\u001b[0m: The node Y_{X} is not in the graph."
     ]
    }
   ],
   "source": [
    "for  identification in line_3_example.identifications:\n",
    "            outcomes, treatments = get_outcomes_and_treatments(\n",
    "                query=identification[\"id_in\"][0].query\n",
    "            )\n",
    "            expected=identification[\"id_out\"][0]\n",
    "            actual=line_3(\n",
    "                    outcomes=outcomes,\n",
    "                    treatments=treatments,\n",
    "                    estimand=identification[\"id_in\"][0].estimand,\n",
    "                    graph=identification[\"id_in\"][0].graph,\n",
    "                )\n",
    "            \n"
   ]
  },
  {
   "cell_type": "code",
   "execution_count": 9,
   "metadata": {},
   "outputs": [
    {
     "name": "stdout",
     "output_type": "stream",
     "text": [
      "Y_{X}\n",
      "Y\n"
     ]
    }
   ],
   "source": [
    "outcomes, treatments = get_outcomes_and_treatments(\n",
    "                query=identification[\"id_in\"][0].query\n",
    "            )\n",
    "for outcome in outcomes:\n",
    "    print(outcome)\n",
    "    print(outcome.name)"
   ]
  },
  {
   "cell_type": "code",
   "execution_count": 6,
   "metadata": {},
   "outputs": [
    {
     "data": {
      "text/plain": [
       "{CounterfactualVariable(name='Y', interventions=(Intervention(name='X', star=False),))}"
      ]
     },
     "execution_count": 6,
     "metadata": {},
     "output_type": "execute_result"
    }
   ],
   "source": [
    "outcomes"
   ]
  },
  {
   "cell_type": "code",
   "execution_count": 3,
   "metadata": {},
   "outputs": [
    {
     "name": "stdout",
     "output_type": "stream",
     "text": [
      "{Intervention(name='Z', star=False), CounterfactualVariable(name='Y', interventions=(Intervention(name='X', star=False), Intervention(name='Z', star=False))), Intervention(name='X', star=False)}\n"
     ]
    },
    {
     "data": {
      "text/latex": [
       "$P(Y_{X,Z})$"
      ],
      "text/plain": [
       "P(Distribution(children=(CounterfactualVariable(name='Y', interventions=(Intervention(name='X', star=False), Intervention(name='Z', star=False))),), parents=()))"
      ]
     },
     "metadata": {},
     "output_type": "display_data"
    },
    {
     "data": {
      "text/plain": [
       "None"
      ]
     },
     "metadata": {},
     "output_type": "display_data"
    },
    {
     "name": "stdout",
     "output_type": "stream",
     "text": [
      "{Intervention(name='Z', star=False), CounterfactualVariable(name='Y', interventions=(Intervention(name='X', star=False), Intervention(name='Z', star=False))), Intervention(name='X', star=False)}\n"
     ]
    },
    {
     "data": {
      "image/png": "[encoded data removed]",
      "text/plain": [
       "<Figure size 432x288 with 1 Axes>"
      ]
     },
     "metadata": {},
     "output_type": "display_data"
    }
   ],
   "source": [
    "for identification in line_6_example.identifications:\n",
    "    for id_in in identification['id_in']:\n",
    "        print(id_in.query.get_variables())\n",
    "        display(id_in.query)\n",
    "        display(id_in.graph.draw())\n",
    "    for id_out in identification['id_out']:\n",
    "        print(id_out.query.get_variables())\n",
    "        #display(id_out.graph.draw())"
   ]
  },
  {
   "cell_type": "code",
   "execution_count": 3,
   "metadata": {},
   "outputs": [
    {
     "name": "stdout",
     "output_type": "stream",
     "text": [
      "{Intervention(name='X', star=False), Intervention(name='W1', star=False), CounterfactualVariable(name='Y1', interventions=(Intervention(name='X', star=False), Intervention(name='W1', star=False)))}\n"
     ]
    },
    {
     "data": {
      "text/latex": [
       "$P(Y1_{X,W1})$"
      ],
      "text/plain": [
       "P(Distribution(children=(CounterfactualVariable(name='Y1', interventions=(Intervention(name='X', star=False), Intervention(name='W1', star=False))),), parents=()))"
      ]
     },
     "metadata": {},
     "output_type": "display_data"
    },
    {
     "data": {
      "text/plain": [
       "None"
      ]
     },
     "metadata": {},
     "output_type": "display_data"
    },
    {
     "name": "stdout",
     "output_type": "stream",
     "text": [
      "{CounterfactualVariable(name='Y1', interventions=(Intervention(name='W1', star=False),)), Intervention(name='W1', star=False)}\n"
     ]
    },
    {
     "data": {
      "image/png": "[encoded data removed]",
      "text/plain": [
       "<Figure size 432x288 with 1 Axes>"
      ]
     },
     "metadata": {},
     "output_type": "display_data"
    }
   ],
   "source": [
    "for identification in line_7_example.identifications:\n",
    "    for id_in in identification['id_in']:\n",
    "        print(id_in.query.get_variables())\n",
    "        display(id_in.query)\n",
    "        display(id_in.graph.draw())\n",
    "    for id_out in identification['id_out']:\n",
    "        print(id_out.query.get_variables())\n",
    "        #display(id_out.graph.draw())"
   ]
  },
  {
   "cell_type": "code",
   "execution_count": 11,
   "metadata": {},
   "outputs": [
    {
     "data": {
      "image/png": "[encoded data removed]",
      "text/plain": [
       "<Figure size 432x288 with 1 Axes>"
      ]
     },
     "metadata": {},
     "output_type": "display_data"
    }
   ],
   "source": [
    "id_out.graph.draw()"
   ]
  },
  {
   "cell_type": "code",
   "execution_count": 12,
   "metadata": {},
   "outputs": [
    {
     "data": {
      "text/latex": [
       "$P(Y1|X,W1) P(W1)$"
      ],
      "text/plain": [
       "Product(expressions=(P(Distribution(children=(Variable(name='Y1'),), parents=(Variable(name='X'), Variable(name='W1')))), P(Distribution(children=(Variable(name='W1'),), parents=()))))"
      ]
     },
     "execution_count": 12,
     "metadata": {},
     "output_type": "execute_result"
    }
   ],
   "source": [
    "id_out.estimand"
   ]
  },
  {
   "cell_type": "code",
   "execution_count": 5,
   "metadata": {},
   "outputs": [
    {
     "data": {
      "text/plain": [
       "({'Y'}, {'X', 'Z'})"
      ]
     },
     "execution_count": 5,
     "metadata": {},
     "output_type": "execute_result"
    }
   ],
   "source": [
    "outcomes, treatments = get_outcomes_and_treatments(query=identification[\"id_in\"][0].query)\n",
    "outcomes, treatments"
   ]
  },
  {
   "cell_type": "code",
   "execution_count": 15,
   "metadata": {},
   "outputs": [
    {
     "data": {
      "text/plain": [
       "NodeView(('X', 'Y', 'Z'))"
      ]
     },
     "execution_count": 15,
     "metadata": {},
     "output_type": "execute_result"
    }
   ],
   "source": [
    "id_in.graph.nodes()"
   ]
  },
  {
   "cell_type": "code",
   "execution_count": 6,
   "metadata": {
    "scrolled": false
   },
   "outputs": [
    {
     "data": {
      "text/plain": [
       "['__abstractmethods__',\n",
       " '__annotations__',\n",
       " '__class__',\n",
       " '__dataclass_fields__',\n",
       " '__dataclass_params__',\n",
       " '__delattr__',\n",
       " '__dict__',\n",
       " '__dir__',\n",
       " '__doc__',\n",
       " '__eq__',\n",
       " '__format__',\n",
       " '__ge__',\n",
       " '__getattribute__',\n",
       " '__gt__',\n",
       " '__hash__',\n",
       " '__init__',\n",
       " '__init_subclass__',\n",
       " '__le__',\n",
       " '__lt__',\n",
       " '__module__',\n",
       " '__mul__',\n",
       " '__ne__',\n",
       " '__new__',\n",
       " '__reduce__',\n",
       " '__reduce_ex__',\n",
       " '__repr__',\n",
       " '__setattr__',\n",
       " '__sizeof__',\n",
       " '__slots__',\n",
       " '__str__',\n",
       " '__subclasshook__',\n",
       " '__truediv__',\n",
       " '__weakref__',\n",
       " '_abc_impl',\n",
       " '_iter_variables',\n",
       " '_repr_latex_',\n",
       " 'expressions',\n",
       " 'get_variables',\n",
       " 'to_latex',\n",
       " 'to_text']"
      ]
     },
     "execution_count": 6,
     "metadata": {},
     "output_type": "execute_result"
    }
   ],
   "source": [
    "outcomes, treatments = get_outcomes_and_treatments( query=id_in.query )\n",
    "line6_estimand = line_6(outcomes=outcomes,\n",
    "                  treatments=treatments,\n",
    "                  estimand=id_in.estimand,\n",
    "                  G= id_in.graph)\n",
    "dir(line6_estimand)"
   ]
  },
  {
   "cell_type": "code",
   "execution_count": 5,
   "metadata": {
    "scrolled": false
   },
   "outputs": [
    {
     "data": {
      "text/plain": [
       "Identification(query=P(Distribution(children=(CounterfactualVariable(name='Y1', interventions=(Intervention(name='W1', star=False),)),), parents=())), estimand=Product(expressions=(P(Distribution(children=(Variable(name='W1'),), parents=())), P(Distribution(children=(Variable(name='Y1'),), parents=(Variable(name='W1'), Variable(name='X')))))), graph=NxMixedGraph(directed=<networkx.classes.digraph.DiGraph object at 0x7f95c8387760>, undirected=<networkx.classes.graph.Graph object at 0x7f95c8387610>))"
      ]
     },
     "execution_count": 5,
     "metadata": {},
     "output_type": "execute_result"
    }
   ],
   "source": [
    "outcomes, treatments = get_outcomes_and_treatments( query=id_in.query )\n",
    "line7_id = line_7(outcomes=outcomes,\n",
    "                  treatments=treatments,\n",
    "                  estimand=id_in.estimand,\n",
    "                  G= id_in.graph)\n",
    "line7_id"
   ]
  },
  {
   "cell_type": "code",
   "execution_count": 5,
   "metadata": {},
   "outputs": [
    {
     "data": {
      "text/plain": [
       "Identification(query=P(Distribution(children=(CounterfactualVariable(name='Y1', interventions=(Intervention(name='X', star=False), Intervention(name='W1', star=False))),), parents=())), estimand=P(Distribution(children=(Variable(name='X'), Variable(name='Y1'), Variable(name='W1')), parents=())), graph=NxMixedGraph(directed=<networkx.classes.digraph.DiGraph object at 0x7fbeb0262d30>, undirected=<networkx.classes.graph.Graph object at 0x7fbeb0262d90>))"
      ]
     },
     "execution_count": 5,
     "metadata": {},
     "output_type": "execute_result"
    }
   ],
   "source": [
    "id_in"
   ]
  },
  {
   "cell_type": "code",
   "execution_count": 6,
   "metadata": {},
   "outputs": [
    {
     "data": {
      "text/latex": [
       "$P(Y1_{X,W1})$"
      ],
      "text/plain": [
       "P(Distribution(children=(CounterfactualVariable(name='Y1', interventions=(Intervention(name='X', star=False), Intervention(name='W1', star=False))),), parents=()))"
      ]
     },
     "execution_count": 6,
     "metadata": {},
     "output_type": "execute_result"
    }
   ],
   "source": [
    "id_in.query"
   ]
  },
  {
   "cell_type": "code",
   "execution_count": 7,
   "metadata": {},
   "outputs": [
    {
     "data": {
      "text/latex": [
       "$P(X,Y1,W1)$"
      ],
      "text/plain": [
       "P(Distribution(children=(Variable(name='X'), Variable(name='Y1'), Variable(name='W1')), parents=()))"
      ]
     },
     "execution_count": 7,
     "metadata": {},
     "output_type": "execute_result"
    }
   ],
   "source": [
    "id_in.estimand"
   ]
  },
  {
   "cell_type": "code",
   "execution_count": 9,
   "metadata": {},
   "outputs": [
    {
     "data": {
      "image/png": "[encoded data removed]",
      "text/plain": [
       "<Figure size 432x288 with 1 Axes>"
      ]
     },
     "metadata": {},
     "output_type": "display_data"
    }
   ],
   "source": [
    "id_in.graph.draw()"
   ]
  },
  {
   "cell_type": "code",
   "execution_count": 17,
   "metadata": {},
   "outputs": [
    {
     "data": {
      "text/plain": [
       "False"
      ]
     },
     "execution_count": 17,
     "metadata": {},
     "output_type": "execute_result"
    }
   ],
   "source": [
    "ID(line_1_example.identifications[0]['id_in'][0]) "
   ]
  },
  {
   "cell_type": "code",
   "execution_count": 18,
   "metadata": {},
   "outputs": [
    {
     "data": {
      "text/latex": [
       "$\\sum_{Z} P(Y,Z)$"
      ],
      "text/plain": [
       "Sum(expression=P(Distribution(children=(Variable(name='Y'), Variable(name='Z')), parents=())), ranges=(Variable(name='Z'),))"
      ]
     },
     "execution_count": 18,
     "metadata": {},
     "output_type": "execute_result"
    }
   ],
   "source": [
    "line_1_example.identifications[0]['id_out'][0].estimand"
   ]
  },
  {
   "cell_type": "code",
   "execution_count": 9,
   "metadata": {},
   "outputs": [
    {
     "data": {
      "text/latex": [
       "$P(Y_1)$"
      ],
      "text/plain": [
       "P(Distribution(children=(Variable(name='Y_1'),), parents=()))"
      ]
     },
     "execution_count": 9,
     "metadata": {},
     "output_type": "execute_result"
    }
   ],
   "source": [
    "P(Variable('Y_1'))"
   ]
  },
  {
   "cell_type": "code",
   "execution_count": 10,
   "metadata": {},
   "outputs": [
    {
     "data": {
      "text/plain": [
       "NodeView(('Y1', 'W1'))"
      ]
     },
     "execution_count": 10,
     "metadata": {},
     "output_type": "execute_result"
    }
   ],
   "source": [
    "line7_id.graph.nodes()"
   ]
  },
  {
   "cell_type": "code",
   "execution_count": null,
   "metadata": {},
   "outputs": [],
   "source": [
    "for identification in line_4_example.identifications:\n",
    "            outcomes, treatments = query_to_outcomes_and_treatments(query= identification['id_in'][0].query )\n",
    "            actuals = line_4(\n",
    "                outcomes   = outcomes,\n",
    "                treatments = treatments,\n",
    "                estimand   = identification['id_in'][0].estimand,\n",
    "                G          = identification['id_in'][0].graph)\n",
    "            expecteds = identification['id_out']\n"
   ]
  },
  {
   "cell_type": "code",
   "execution_count": 10,
   "metadata": {},
   "outputs": [
    {
     "data": {
      "text/plain": [
       "False"
      ]
     },
     "execution_count": 10,
     "metadata": {},
     "output_type": "execute_result"
    }
   ],
   "source": [
    "expr_equal(line3_id.query, id_out.query)"
   ]
  },
  {
   "cell_type": "code",
   "execution_count": 15,
   "metadata": {},
   "outputs": [
    {
     "data": {
      "text/plain": [
       "False"
      ]
     },
     "execution_count": 15,
     "metadata": {},
     "output_type": "execute_result"
    }
   ],
   "source": [
    "set(line3_id.query.get_variables()) == set(id_out.query.get_variables())\n"
   ]
  },
  {
   "cell_type": "code",
   "execution_count": 13,
   "metadata": {},
   "outputs": [
    {
     "data": {
      "text/latex": [
       "$P(Y_{Z,X})$"
      ],
      "text/plain": [
       "P(Distribution(children=(CounterfactualVariable(name='Y', interventions=(Intervention(name='Z', star=False), Intervention(name='X', star=False))),), parents=()))"
      ]
     },
     "execution_count": 13,
     "metadata": {},
     "output_type": "execute_result"
    }
   ],
   "source": [
    "line3_id.query"
   ]
  },
  {
   "cell_type": "code",
   "execution_count": 16,
   "metadata": {},
   "outputs": [
    {
     "data": {
      "text/plain": [
       "False"
      ]
     },
     "execution_count": 16,
     "metadata": {},
     "output_type": "execute_result"
    }
   ],
   "source": [
    "expr_equal(P(Y @[Z,X]), P(Y @ [X,Z]))"
   ]
  },
  {
   "cell_type": "code",
   "execution_count": 17,
   "metadata": {},
   "outputs": [
    {
     "data": {
      "text/plain": [
       "{Intervention(name='X', star=False),\n",
       " CounterfactualVariable(name='Y', interventions=(Intervention(name='Z', star=False), Intervention(name='X', star=False))),\n",
       " Intervention(name='Z', star=False)}"
      ]
     },
     "execution_count": 17,
     "metadata": {},
     "output_type": "execute_result"
    }
   ],
   "source": [
    "P(Y @ [Z,X]).get_variables() "
   ]
  },
  {
   "cell_type": "code",
   "execution_count": 19,
   "metadata": {},
   "outputs": [
    {
     "data": {
      "text/plain": [
       "{Intervention(name='X', star=False),\n",
       " CounterfactualVariable(name='Y', interventions=(Intervention(name='X', star=False), Intervention(name='Z', star=False))),\n",
       " Intervention(name='Z', star=False)}"
      ]
     },
     "execution_count": 19,
     "metadata": {},
     "output_type": "execute_result"
    }
   ],
   "source": [
    "P(Y @ [X, Z]).get_variables()"
   ]
  },
  {
   "cell_type": "code",
   "execution_count": 8,
   "metadata": {},
   "outputs": [
    {
     "data": {
      "text/latex": [
       "$P(Y_{X,Z})$"
      ],
      "text/plain": [
       "P(Distribution(children=(CounterfactualVariable(name='Y', interventions=(Intervention(name='X', star=False), Intervention(name='Z', star=False))),), parents=()))"
      ]
     },
     "execution_count": 8,
     "metadata": {},
     "output_type": "execute_result"
    }
   ],
   "source": [
    "id_out.query"
   ]
  },
  {
   "cell_type": "code",
   "execution_count": 5,
   "metadata": {},
   "outputs": [
    {
     "data": {
      "text/latex": [
       "$\\sum_{Z} P(Y,Z)$"
      ],
      "text/plain": [
       "Sum(expression=P(Distribution(children=(Variable(name='Y'), Variable(name='Z')), parents=())), ranges=(Variable(name='Z'),))"
      ]
     },
     "execution_count": 5,
     "metadata": {},
     "output_type": "execute_result"
    }
   ],
   "source": [
    "id_out.estimand"
   ]
  },
  {
   "cell_type": "code",
   "execution_count": 21,
   "metadata": {},
   "outputs": [
    {
     "data": {
      "text/latex": [
       "$P(Y_{X,Z})$"
      ],
      "text/plain": [
       "P(Distribution(children=(CounterfactualVariable(name='Y', interventions=(Intervention(name='X', star=False), Intervention(name='Z', star=False))),), parents=()))"
      ]
     },
     "execution_count": 21,
     "metadata": {},
     "output_type": "execute_result"
    }
   ],
   "source": [
    "expected_vars = P(Y @ set([X,Z])).get_variables()\n",
    "canonicalize(P(Y @ set([Z,X])), expected_vars)"
   ]
  },
  {
   "cell_type": "code",
   "execution_count": 22,
   "metadata": {},
   "outputs": [
    {
     "data": {
      "text/latex": [
       "$P(Y_{X,Z})$"
      ],
      "text/plain": [
       "P(Distribution(children=(CounterfactualVariable(name='Y', interventions=(Intervention(name='X', star=False), Intervention(name='Z', star=False))),), parents=()))"
      ]
     },
     "execution_count": 22,
     "metadata": {},
     "output_type": "execute_result"
    }
   ],
   "source": [
    "expected_vars = P(Y @ set([Z,X])).get_variables()\n",
    "canonicalize(P(Y @ set([X,Z])), expected_vars)"
   ]
  },
  {
   "cell_type": "code",
   "execution_count": 23,
   "metadata": {},
   "outputs": [
    {
     "data": {
      "text/latex": [
       "$P(Y_{X,Z})$"
      ],
      "text/plain": [
       "P(Distribution(children=(CounterfactualVariable(name='Y', interventions=(Intervention(name='X', star=False), Intervention(name='Z', star=False))),), parents=()))"
      ]
     },
     "execution_count": 23,
     "metadata": {},
     "output_type": "execute_result"
    }
   ],
   "source": [
    "canonicalize(P(Y @ {X,Z}), expected_vars)"
   ]
  },
  {
   "cell_type": "code",
   "execution_count": 24,
   "metadata": {},
   "outputs": [
    {
     "data": {
      "text/plain": [
       "True"
      ]
     },
     "execution_count": 24,
     "metadata": {},
     "output_type": "execute_result"
    }
   ],
   "source": [
    "P(Y @ {X,Z}) == P(Y @ {Z,X})"
   ]
  },
  {
   "cell_type": "markdown",
   "metadata": {},
   "source": [
    "# IDC algorithm\n",
    "\n",
    "$$\\newcommand\\ci{\\perp\\!\\!\\!\\perp}$$\n",
    "$$\\newcommand{\\ubar}[1]{\\underset{\\bar{}}{#1}}\n",
    "\\newcommand{\\obar}[1]{\\overset{\\bar{}}{#1}}$$\n",
    "\n",
    "$\\text{function }\\mathbf{IDC}\\left(\\mathbf y, \\mathbf x,\\mathbf z, P, G\\right) \\\\ \\text{INPUT: } \\mathbf{x,y, z}\\text{ value assignments, $P$ a probability distribution, $G$ a causal diagram (an I-map of P)}. \\\\  \\text{OUTPUT:  Expression for $P_{\\mathbf x}(\\mathbf y|\\mathbf z)$ in terms of $P$ or $\\mathbf{FAIL}(F, F')$} $\n",
    "\n",
    "\n",
    "1. $\\text{if } (\\exists Z \\in \\mathbf{Z})(\\mathbf{Y} \\ci Z | \\mathbf{X}, \\mathbf{Z}- \\{Z\\})_{G_{\\bar{\\mathbf{X}}\\ubar{Z}}} \\\\\n",
    "\\text{return } \\mathbf{IDC}(\\mathbf y, \\mathbf x \\cup \\{z\\}, \\mathbf z - \\{z\\}, P, G)\\\\ $\n",
    "2. $\\text{ else, let } P' = \\mathbf{ID}(\\mathbf y \\cup \\mathbf z, \\mathbf x, P, G). \\\\\n",
    "\\text{ return } P'/\\sum{\\mathbf y}P'$."
   ]
  }
 ],
 "metadata": {
  "kernelspec": {
   "display_name": "anaconda3-2020.11",
   "language": "python",
   "name": "anaconda3-2020.11"
  },
  "language_info": {
   "codemirror_mode": {
    "name": "ipython",
    "version": 3
   },
   "file_extension": ".py",
   "mimetype": "text/x-python",
   "name": "python",
   "nbconvert_exporter": "python",
   "pygments_lexer": "ipython3",
   "version": "3.8.5"
  },
  "latex_envs": {
   "LaTeX_envs_menu_present": false,
   "autoclose": false,
   "autocomplete": false,
   "bibliofile": "biblio.bib",
   "cite_by": "apalike",
   "current_citInitial": 1,
   "eqLabelWithNumbers": true,
   "eqNumInitial": 1,
   "hotkeys": {
    "equation": "ctrl-q"
   },
   "labels_anchors": false,
   "latex_user_defs": false,
   "report_style_numbering": true,
   "user_envs_cfg": false
  },
  "toc": {
   "base_numbering": 1,
   "nav_menu": {},
   "number_sections": true,
   "sideBar": true,
   "skip_h1_title": false,
   "title_cell": "Table of Contents",
   "title_sidebar": "Contents",
   "toc_cell": false,
   "toc_position": {},
   "toc_section_display": true,
   "toc_window_display": false
  }
 },
 "nbformat": 4,
 "nbformat_minor": 4
}
