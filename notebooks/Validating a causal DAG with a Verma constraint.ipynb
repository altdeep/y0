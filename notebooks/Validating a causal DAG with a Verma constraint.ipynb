{
 "cells": [
  {
   "cell_type": "code",
   "execution_count": 1,
   "id": "6ba0ac58",
   "metadata": {},
   "outputs": [],
   "source": [
    "from pgmpy.base.DAG import DAG\n",
    "from y0.altdeep import verma_from_digraph\n"
   ]
  },
  {
   "cell_type": "markdown",
   "id": "57cb0117",
   "metadata": {},
   "source": [
    "Build the causal DAG with pgmpy."
   ]
  },
  {
   "cell_type": "code",
   "execution_count": 2,
   "id": "e794d52e",
   "metadata": {},
   "outputs": [],
   "source": [
    "dag = DAG()\n",
    "dag.add_edges_from(\n",
    "    [\n",
    "      ('Prc','Smk'), \n",
    "      ('Smk','Tar'),\n",
    "      ('Tar','Cnr'),\n",
    "      ('Gen','Smk'),\n",
    "      ('Gen','Cnr'),\n",
    "    ]\n",
    ")\n"
   ]
  },
  {
   "cell_type": "markdown",
   "id": "f3ffef4c",
   "metadata": {},
   "source": [
    "Note that pgmpy is relies on a networkx DiGraph. So I can modify node data just as I would any DiGraph object.  Here, I label the \"G\" node as being latent, while the rest are observed.\n"
   ]
  },
  {
   "cell_type": "code",
   "execution_count": 3,
   "id": "7271d038",
   "metadata": {},
   "outputs": [],
   "source": [
    "for v in dag.nodes:\n",
    "    if v == \"Gen\":\n",
    "        dag.nodes[v]['latent'] = True\n",
    "    else:\n",
    "        dag.nodes[v]['latent'] = False\n"
   ]
  },
  {
   "cell_type": "code",
   "execution_count": 4,
   "id": "0778e5f6",
   "metadata": {},
   "outputs": [
    {
     "name": "stderr",
     "output_type": "stream",
     "text": [
      "WARNING:rpy2.rinterface_lib.callbacks:R[write to console]: Skipping install of 'causaleffect' from a github remote, the SHA1 (8440e744) has not changed since last install.\n",
      "  Use `force = TRUE` to force installation\n",
      "\n"
     ]
    },
    {
     "name": "stdout",
     "output_type": "stream",
     "text": [
      "$rhs.cfactor\n",
      "[1] \"Q[\\\\{Cnr\\\\}](Tar,Cnr)\"\n",
      "\n",
      "$rhs.expr\n",
      "[1] \"\\\\sum_{u_{1},Tar}P(Cnr|u_{1},Tar)P(Tar)P(u_{1})\"\n",
      "\n",
      "$lhs.cfactor\n",
      "[1] \"\\\\sum_{Smk}Q[\\\\{Smk,Cnr\\\\}](Prc,Smk,Tar,Cnr)\"\n",
      "\n",
      "$lhs.expr\n",
      "[1] \"\\\\sum_{Smk}P(Cnr|Prc,Smk,Tar)P(Smk|Prc)\"\n",
      "\n",
      "$vars\n",
      "[1] \"Prc\"\n",
      "\n",
      "\n"
     ]
    }
   ],
   "source": [
    "verma_constraints = verma_from_digraph(dag)\n"
   ]
  },
  {
   "cell_type": "markdown",
   "id": "fa8d63f3",
   "metadata": {},
   "source": [
    "We can iterate through each constraint.  In the first constraint, the expression..."
   ]
  },
  {
   "cell_type": "code",
   "execution_count": 5,
   "id": "ace21b34",
   "metadata": {},
   "outputs": [
    {
     "data": {
      "text/latex": [
       "$\\sum_{Smk} P(Cnr | Prc, Smk, Tar) P(Smk | Prc)$"
      ],
      "text/plain": [
       "Sum[Smk](P(Cnr | Prc, Smk, Tar) * P(Smk | Prc))"
      ]
     },
     "execution_count": 5,
     "metadata": {},
     "output_type": "execute_result"
    }
   ],
   "source": [
    "\n",
    "verma_constraints[0].lhs_expr"
   ]
  },
  {
   "cell_type": "markdown",
   "id": "fa71c8bd",
   "metadata": {},
   "source": [
    "is independent of the variable(s)"
   ]
  },
  {
   "cell_type": "code",
   "execution_count": 6,
   "id": "0c476645",
   "metadata": {},
   "outputs": [
    {
     "data": {
      "text/plain": [
       "(Prc,)"
      ]
     },
     "execution_count": 6,
     "metadata": {},
     "output_type": "execute_result"
    }
   ],
   "source": [
    "verma_constraints[0].variables"
   ]
  }
 ],
 "metadata": {
  "kernelspec": {
   "display_name": "venv2",
   "language": "python",
   "name": "venv2"
  },
  "language_info": {
   "codemirror_mode": {
    "name": "ipython",
    "version": 3
   },
   "file_extension": ".py",
   "mimetype": "text/x-python",
   "name": "python",
   "nbconvert_exporter": "python",
   "pygments_lexer": "ipython3",
   "version": "3.8.11"
  }
 },
 "nbformat": 4,
 "nbformat_minor": 5
}
